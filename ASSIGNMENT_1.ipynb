{
 "cells": [
  {
   "cell_type": "markdown",
   "metadata": {},
   "source": [
    "# Assignment 1\n",
    "\n",
    "## 第一次编程小作业（10分）"
   ]
  },
  {
   "cell_type": "markdown",
   "metadata": {},
   "source": [
    "综合练习1：从键盘读入一组字符串（字符串只包含大小写字母），字符串用空格分隔。由于这组字符串是人名，请把每个单词的首字母大写，其他字母小写。然后按照首字母的ASCII码的顺序降序输出。（3分）"
   ]
  },
  {
   "cell_type": "markdown",
   "metadata": {},
   "source": [
    "### Solution"
   ]
  },
  {
   "cell_type": "code",
   "execution_count": 46,
   "metadata": {},
   "outputs": [
    {
     "name": "stdout",
     "output_type": "stream",
     "text": [
      "zhao qian sun li\n",
      "Zhao, Sun, Qian, Li\n"
     ]
    }
   ],
   "source": [
    "# 综合练习1\n",
    "strings = input()\n",
    "\n",
    "def convert_strings(strings):\n",
    "    # Capitalization\n",
    "    strings = strings.title()\n",
    "    # Split string using `split`\n",
    "    nameList = strings.split(' ')\n",
    "    # Sort using built-in sorted with reverse flag\n",
    "    nameList = sorted(nameList, reverse=True)\n",
    "    return nameList\n",
    "\n",
    "print(', '.join(convert_strings(strings)))\n",
    "\n",
    "# Input: strings = 'zhao qian sun li'\n",
    "# Expected Output: Zhao, Sun, Qian, Li\n"
   ]
  },
  {
   "cell_type": "markdown",
   "metadata": {},
   "source": [
    "**Time Complexity Analysis:** The time complexity of the above problem is $\\mathcal{O}(n \\log n)$ because the usage of `sorted` function."
   ]
  },
  {
   "cell_type": "markdown",
   "metadata": {},
   "source": [
    "综合练习2:设计一个函数，可用于自动判断二进制、八进制、十六进制输入，并转换成十进制。可以使用内置函数实现（3分）。自定义的进制转换实现（1分）。"
   ]
  },
  {
   "cell_type": "markdown",
   "metadata": {},
   "source": [
    "### Solution"
   ]
  },
  {
   "cell_type": "code",
   "execution_count": 11,
   "metadata": {},
   "outputs": [
    {
     "name": "stdout",
     "output_type": "stream",
     "text": [
      "0o10001\n",
      "Built-in Impl.: 4097\n",
      "Custom Impl.: 4097\n"
     ]
    }
   ],
   "source": [
    "# 综合练习2\n",
    "\n",
    "def convert_binary2_builtin(numStr):\n",
    "    try:\n",
    "        result = eval(numStr)\n",
    "        return result\n",
    "    except:\n",
    "        print(\"ERROR: Input error\")\n",
    "        return(False)\n",
    "\n",
    "def convert_binary2(numStr):\n",
    "    \n",
    "    def literalValue(literal, base=16):\n",
    "        literal = literal.upper()\n",
    "        assert(len(literal) == 1)\n",
    "        if ord(literal) >= ord('A'):\n",
    "            val = 10 + ord(literal) - ord('A')\n",
    "            assert(val < base)\n",
    "            return(val)\n",
    "        elif ord(literal) >= ord('0') and ord(literal) <= ord('9'):\n",
    "            val = int(literal) - int('0')\n",
    "            assert(val < base)\n",
    "            return(val)\n",
    "\n",
    "    result = 0\n",
    "    # Find value string without format indicator and reverse it\n",
    "    valStr = numStr[:1:-1]\n",
    "    if numStr[0:2] == \"0x\":\n",
    "        # Hexadecimal\n",
    "        base = 16\n",
    "    elif numStr[0:2] == \"0b\":\n",
    "        # Binary\n",
    "        base = 2\n",
    "    elif numStr[0:2] == \"0o\":\n",
    "        # Octal\n",
    "        base = 8\n",
    "    else:\n",
    "        print(\"ERROR: Unknown base\")\n",
    "        return False\n",
    "    # Calculate base-converted sum\n",
    "    try:\n",
    "        for i in range(len(valStr)):\n",
    "            result += ((base ** i) * literalValue(valStr[i], base))\n",
    "    except:\n",
    "        print(\"ERROR: Input error\")\n",
    "        return False\n",
    "    return result\n",
    "\n",
    "inputStr = input()\n",
    "print(\"Built-in Impl.:\", convert_binary2_builtin(inputStr))\n",
    "print(\"Custom Impl.:\", convert_binary2(inputStr))\n",
    "# Inputs: '0b111', '0xaaa',  '0o1237'\n",
    "# Expected Outputs: 7, 2730, 671\n"
   ]
  },
  {
   "cell_type": "markdown",
   "metadata": {},
   "source": [
    "**Time Complexity Analysis:** The time complexity of the above problem is $\\mathcal{O}(n)$.\n",
    "\n",
    "The function can be optimized by removing the string reverse operation (at a cost of code clarity).\n",
    "\n",
    "The function catches basic input errors. Try with the following input:\n",
    "\n",
    "```\n",
    "0o278\n",
    "```"
   ]
  },
  {
   "cell_type": "markdown",
   "metadata": {},
   "source": [
    "综合练习3: 设计一个装饰器。要求作用在任何函数上时都可以得到这个函数的执行时间。装饰器的输出格式如下：“A executed in B ms”。其中A为被装饰函数的名字，B为时间。(3分)"
   ]
  },
  {
   "cell_type": "markdown",
   "metadata": {},
   "source": [
    "### Solution"
   ]
  },
  {
   "cell_type": "code",
   "execution_count": 7,
   "metadata": {},
   "outputs": [
    {
     "name": "stdout",
     "output_type": "stream",
     "text": [
      "test executed in 0.016179800033569336 s\n",
      "test executed in 0.0026412010192871094 s\n"
     ]
    },
    {
     "data": {
      "text/plain": [
       "19000"
      ]
     },
     "execution_count": 7,
     "metadata": {},
     "output_type": "execute_result"
    }
   ],
   "source": [
    "import time as T\n",
    "\n",
    "def metric(fn):\n",
    "    def returnedFunction(x):\n",
    "        beginTime = T.time()\n",
    "        fn(x)\n",
    "        print(fn.__name__ + \" executed in \" + str(T.time() - beginTime) + \" s\")\n",
    "        return x\n",
    "    return returnedFunction\n",
    "\n",
    "    \n",
    "@metric\n",
    "def test(x):\n",
    "    for _ in range(x):\n",
    "        continue\n",
    "\n",
    "test(100000)\n",
    "test(19000)\n",
    "\n",
    "# Expected Outputs:\n",
    "# test executed in 0.0071620941162109375 ms\n",
    "# test executed in 0.0013530254364013672 ms\n",
    "# Whose computer is so damn fast? The unit must be seconds!"
   ]
  }
 ],
 "metadata": {
  "interpreter": {
   "hash": "188a7bb78ea0315797259986722ad766e657e792344202ca88a42542370c1dc1"
  },
  "kernelspec": {
   "display_name": "Python 3",
   "language": "python",
   "name": "python3"
  },
  "language_info": {
   "codemirror_mode": {
    "name": "ipython",
    "version": 3
   },
   "file_extension": ".py",
   "mimetype": "text/x-python",
   "name": "python",
   "nbconvert_exporter": "python",
   "pygments_lexer": "ipython3",
   "version": "3.8.3"
  }
 },
 "nbformat": 4,
 "nbformat_minor": 4
}
