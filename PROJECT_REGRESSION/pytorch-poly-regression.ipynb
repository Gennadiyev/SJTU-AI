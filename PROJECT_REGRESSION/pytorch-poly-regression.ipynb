{
 "cells": [
  {
   "cell_type": "code",
   "execution_count": 1,
   "id": "84483502",
   "metadata": {},
   "outputs": [],
   "source": [
    "import numpy as np\n",
    "import torch\n",
    "import torch.nn as nn\n",
    "import torch.optim as optim\n",
    "from torch.optim.lr_scheduler import StepLR\n",
    "import matplotlib.pyplot as plt"
   ]
  },
  {
   "cell_type": "code",
   "execution_count": 2,
   "id": "397117bb",
   "metadata": {},
   "outputs": [],
   "source": [
    "learning_rate=0.055\n",
    "epochs=1000\n",
    "device=\"cpu\"\n",
    "n=3\n",
    "x=torch.unsqueeze(torch.linspace(-1,1,100),dim=1)\n",
    "y=1+x+1/2*x**2+1/6*x**3+0.5*torch.randn(x.size())\n",
    "loss_record=list()"
   ]
  },
  {
   "cell_type": "code",
   "execution_count": 3,
   "id": "15f13a40",
   "metadata": {},
   "outputs": [],
   "source": [
    "class Net(nn.Module):\n",
    "    def __init__(self,n):\n",
    "        super(Net,self).__init__()\n",
    "        self.fc=nn.Linear(n,1)\n",
    "    def forward(self,x):\n",
    "        result=self.fc(x)\n",
    "        return result\n",
    "model=Net(n).to(device)\n",
    "criterion=nn.MSELoss()\n",
    "optimizer=optim.SGD(model.parameters(),lr=learning_rate)\n",
    "scheduler=StepLR(optimizer,step_size=50,gamma=0.8)"
   ]
  },
  {
   "cell_type": "code",
   "execution_count": 4,
   "id": "aaa137ce",
   "metadata": {},
   "outputs": [],
   "source": [
    "def train(model,device,data,target,n,epoch,optimizer):\n",
    "    model.train()\n",
    "    data_ready=torch.cat([data**i for i in range(1,n+1)],1)\n",
    "    data_ready,target=data_ready.to(device),target.to(device)\n",
    "    result=model(data_ready)\n",
    "    optimizer.zero_grad()\n",
    "    train_loss=criterion(result,target)\n",
    "    train_loss.backward()\n",
    "    optimizer.step()\n",
    "    if (epoch+1)%10==0 :\n",
    "        loss_record.append(train_loss.item())\n",
    "        print('Train Epoch{}: Loss:{:.6f}'.format(epoch+1,train_loss.item()))\n",
    "def test(model,device,data,target):\n",
    "    model.eval()\n",
    "    data_ready=torch.cat([data**i for i in range(1,n+1)],1)\n",
    "    data_ready,target=data_ready.to(device),target.to(device)\n",
    "    result=model(data_ready)\n",
    "    plt.figure()\n",
    "    plt.scatter(data,target,color=\"#ff0000\",label=\"data\")\n",
    "    plt.plot(data,result.detach(),color=\"#66ccff\",label=\"line\")\n",
    "    plt.legend()\n",
    "    plt.show()\n",
    "    print(list(model.named_parameters()))\n",
    "    plt.figure()\n",
    "    x_draw=np.arange(1,epochs/10+1,1)\n",
    "    plt.plot(x_draw,loss_record,color=\"#ff0000\",label=\"loss\")\n",
    "    plt.legend()\n",
    "    plt.show()"
   ]
  },
  {
   "cell_type": "code",
   "execution_count": 5,
   "id": "c3cb3c07",
   "metadata": {
    "scrolled": false
   },
   "outputs": [
    {
     "name": "stdout",
     "output_type": "stream",
     "text": [
      "Train Epoch10: Loss:0.710978\n",
      "Train Epoch20: Loss:0.350845\n",
      "Train Epoch30: Loss:0.276549\n",
      "Train Epoch40: Loss:0.252573\n",
      "Train Epoch50: Loss:0.242782\n",
      "Train Epoch60: Loss:0.238604\n",
      "Train Epoch70: Loss:0.235953\n",
      "Train Epoch80: Loss:0.234020\n",
      "Train Epoch90: Loss:0.232501\n",
      "Train Epoch100: Loss:0.231251\n",
      "Train Epoch110: Loss:0.230375\n",
      "Train Epoch120: Loss:0.229623\n",
      "Train Epoch130: Loss:0.228958\n",
      "Train Epoch140: Loss:0.228367\n",
      "Train Epoch150: Loss:0.227841\n",
      "Train Epoch160: Loss:0.227454\n",
      "Train Epoch170: Loss:0.227109\n",
      "Train Epoch180: Loss:0.226795\n",
      "Train Epoch190: Loss:0.226508\n",
      "Train Epoch200: Loss:0.226247\n",
      "Train Epoch210: Loss:0.226050\n",
      "Train Epoch220: Loss:0.225871\n",
      "Train Epoch230: Loss:0.225705\n",
      "Train Epoch240: Loss:0.225550\n",
      "Train Epoch250: Loss:0.225406\n",
      "Train Epoch260: Loss:0.225296\n",
      "Train Epoch270: Loss:0.225195\n",
      "Train Epoch280: Loss:0.225099\n",
      "Train Epoch290: Loss:0.225009\n",
      "Train Epoch300: Loss:0.224923\n",
      "Train Epoch310: Loss:0.224857\n",
      "Train Epoch320: Loss:0.224795\n",
      "Train Epoch330: Loss:0.224736\n",
      "Train Epoch340: Loss:0.224680\n",
      "Train Epoch350: Loss:0.224626\n",
      "Train Epoch360: Loss:0.224584\n",
      "Train Epoch370: Loss:0.224544\n",
      "Train Epoch380: Loss:0.224506\n",
      "Train Epoch390: Loss:0.224469\n",
      "Train Epoch400: Loss:0.224433\n",
      "Train Epoch410: Loss:0.224405\n",
      "Train Epoch420: Loss:0.224378\n",
      "Train Epoch430: Loss:0.224352\n",
      "Train Epoch440: Loss:0.224327\n",
      "Train Epoch450: Loss:0.224302\n",
      "Train Epoch460: Loss:0.224283\n",
      "Train Epoch470: Loss:0.224264\n",
      "Train Epoch480: Loss:0.224246\n",
      "Train Epoch490: Loss:0.224228\n",
      "Train Epoch500: Loss:0.224211\n",
      "Train Epoch510: Loss:0.224197\n",
      "Train Epoch520: Loss:0.224183\n",
      "Train Epoch530: Loss:0.224170\n",
      "Train Epoch540: Loss:0.224157\n",
      "Train Epoch550: Loss:0.224145\n",
      "Train Epoch560: Loss:0.224134\n",
      "Train Epoch570: Loss:0.224125\n",
      "Train Epoch580: Loss:0.224115\n",
      "Train Epoch590: Loss:0.224105\n",
      "Train Epoch600: Loss:0.224096\n",
      "Train Epoch610: Loss:0.224088\n",
      "Train Epoch620: Loss:0.224081\n",
      "Train Epoch630: Loss:0.224074\n",
      "Train Epoch640: Loss:0.224067\n",
      "Train Epoch650: Loss:0.224060\n",
      "Train Epoch660: Loss:0.224054\n",
      "Train Epoch670: Loss:0.224048\n",
      "Train Epoch680: Loss:0.224043\n",
      "Train Epoch690: Loss:0.224037\n",
      "Train Epoch700: Loss:0.224032\n",
      "Train Epoch710: Loss:0.224028\n",
      "Train Epoch720: Loss:0.224023\n",
      "Train Epoch730: Loss:0.224019\n",
      "Train Epoch740: Loss:0.224015\n",
      "Train Epoch750: Loss:0.224011\n",
      "Train Epoch760: Loss:0.224008\n",
      "Train Epoch770: Loss:0.224004\n",
      "Train Epoch780: Loss:0.224001\n",
      "Train Epoch790: Loss:0.223998\n",
      "Train Epoch800: Loss:0.223995\n",
      "Train Epoch810: Loss:0.223992\n",
      "Train Epoch820: Loss:0.223989\n",
      "Train Epoch830: Loss:0.223987\n",
      "Train Epoch840: Loss:0.223984\n",
      "Train Epoch850: Loss:0.223982\n",
      "Train Epoch860: Loss:0.223980\n",
      "Train Epoch870: Loss:0.223978\n",
      "Train Epoch880: Loss:0.223976\n",
      "Train Epoch890: Loss:0.223974\n",
      "Train Epoch900: Loss:0.223972\n",
      "Train Epoch910: Loss:0.223970\n",
      "Train Epoch920: Loss:0.223969\n",
      "Train Epoch930: Loss:0.223967\n",
      "Train Epoch940: Loss:0.223966\n",
      "Train Epoch950: Loss:0.223964\n",
      "Train Epoch960: Loss:0.223963\n",
      "Train Epoch970: Loss:0.223962\n",
      "Train Epoch980: Loss:0.223960\n",
      "Train Epoch990: Loss:0.223959\n",
      "Train Epoch1000: Loss:0.223958\n"
     ]
    },
    {
     "data": {
      "image/png": "[encoded data removed]",
      "text/plain": [
       "<Figure size 432x288 with 1 Axes>"
      ]
     },
     "metadata": {
      "needs_background": "light"
     },
     "output_type": "display_data"
    },
    {
     "name": "stdout",
     "output_type": "stream",
     "text": [
      "[('fc.weight', Parameter containing:\n",
      "tensor([[0.8643, 0.5036, 0.2680]], requires_grad=True)), ('fc.bias', Parameter containing:\n",
      "tensor([0.9377], requires_grad=True))]\n"
     ]
    },
    {
     "data": {
      "image/png": "[encoded data removed]",
      "text/plain": [
       "<Figure size 432x288 with 1 Axes>"
      ]
     },
     "metadata": {
      "needs_background": "light"
     },
     "output_type": "display_data"
    }
   ],
   "source": [
    "for epoch in range(epochs):\n",
    "    train(model,device,x,y,n,epoch,optimizer)\n",
    "    scheduler.step()\n",
    "test(model,device,x,y)"
   ]
  },
  {
   "cell_type": "code",
   "execution_count": null,
   "id": "59f0990d",
   "metadata": {},
   "outputs": [],
   "source": []
  }
 ],
 "metadata": {
  "kernelspec": {
   "display_name": "Python 3",
   "language": "python",
   "name": "python3"
  },
  "language_info": {
   "codemirror_mode": {
    "name": "ipython",
    "version": 3
   },
   "file_extension": ".py",
   "mimetype": "text/x-python",
   "name": "python",
   "nbconvert_exporter": "python",
   "pygments_lexer": "ipython3",
   "version": "3.7.9"
  }
 },
 "nbformat": 4,
 "nbformat_minor": 5
}
