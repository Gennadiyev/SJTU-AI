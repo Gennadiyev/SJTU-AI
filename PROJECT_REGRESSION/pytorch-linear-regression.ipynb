{
 "cells": [
  {
   "cell_type": "code",
   "execution_count": 1,
   "id": "f99fcc48",
   "metadata": {},
   "outputs": [],
   "source": [
    "import torch\n",
    "import torch.nn as nn\n",
    "import torch.optim as optim\n",
    "import matplotlib.pyplot as plt\n",
    "from torch.optim.lr_scheduler import StepLR\n",
    "import numpy as np"
   ]
  },
  {
   "cell_type": "code",
   "execution_count": 2,
   "id": "e07dd7a1",
   "metadata": {},
   "outputs": [],
   "source": [
    "learning_rate=0.045\n",
    "epochs=1000\n",
    "device=\"cpu\"\n",
    "x=torch.unsqueeze(torch.linspace(-1,1,100),dim=1)\n",
    "y=3*x+10+0.5*torch.randn(x.size())\n",
    "loss_record=list()"
   ]
  },
  {
   "cell_type": "code",
   "execution_count": 3,
   "id": "c8a93534",
   "metadata": {},
   "outputs": [],
   "source": [
    "class Net(nn.Module):\n",
    "    def __init__(self):\n",
    "        super(Net,self).__init__()\n",
    "        self.fc=nn.Linear(1,1)\n",
    "    def forward(self,x):\n",
    "        result=self.fc(x)\n",
    "        return result\n",
    "model=Net().to(device)\n",
    "criterion=nn.MSELoss()\n",
    "optimizer=optim.SGD(model.parameters(),lr=learning_rate)\n",
    "scheduler=StepLR(optimizer,step_size=50,gamma=0.8)"
   ]
  },
  {
   "cell_type": "code",
   "execution_count": 4,
   "id": "f27c7066",
   "metadata": {},
   "outputs": [],
   "source": [
    "def train(model,device,data,target,optimizer,epoch):\n",
    "    model.train()\n",
    "    data,target=data.to(device),target.to(device)\n",
    "    result=model(data)\n",
    "    optimizer.zero_grad()\n",
    "    train_loss=criterion(result,target)\n",
    "    train_loss.backward()\n",
    "    optimizer.step()\n",
    "    if (epoch+1)%10==0 :\n",
    "        loss_record.append(train_loss.item())\n",
    "        print('Train Epoch{}: Loss:{:.6f}'.format(epoch+1,train_loss.item()))\n",
    "def test(model,device,data,target):\n",
    "    model.eval()\n",
    "    data,target=data.to(device),target.to(device)\n",
    "    result=model(data)\n",
    "    plt.figure()\n",
    "    plt.scatter(data,target,color=\"#ff0000\",label=\"data\")\n",
    "    plt.plot(data,result.detach(),color=\"#66ccff\",label=\"line\")\n",
    "    plt.legend()\n",
    "    plt.show()\n",
    "    print(list(model.named_parameters()))\n",
    "    plt.figure()\n",
    "    x_draw=np.arange(1,epochs/10+1,1)\n",
    "    plt.plot(x_draw,loss_record,color=\"#ff0000\",label=\"loss\")\n",
    "    plt.legend()\n",
    "    plt.show()"
   ]
  },
  {
   "cell_type": "code",
   "execution_count": 5,
   "id": "436435d6",
   "metadata": {
    "scrolled": false
   },
   "outputs": [
    {
     "name": "stdout",
     "output_type": "stream",
     "text": [
      "Train Epoch10: Loss:20.391685\n",
      "Train Epoch20: Loss:4.214118\n",
      "Train Epoch30: Loss:1.339675\n",
      "Train Epoch40: Loss:0.677578\n",
      "Train Epoch50: Loss:0.455695\n",
      "Train Epoch60: Loss:0.370063\n",
      "Train Epoch70: Loss:0.322320\n",
      "Train Epoch80: Loss:0.293846\n",
      "Train Epoch90: Loss:0.276638\n",
      "Train Epoch100: Loss:0.266188\n",
      "Train Epoch110: Loss:0.260763\n",
      "Train Epoch120: Loss:0.257222\n",
      "Train Epoch130: Loss:0.254838\n",
      "Train Epoch140: Loss:0.253234\n",
      "Train Epoch150: Loss:0.252153\n",
      "Train Epoch160: Loss:0.251537\n",
      "Train Epoch170: Loss:0.251101\n",
      "Train Epoch180: Loss:0.250783\n",
      "Train Epoch190: Loss:0.250551\n",
      "Train Epoch200: Loss:0.250382\n",
      "Train Epoch210: Loss:0.250278\n",
      "Train Epoch220: Loss:0.250200\n",
      "Train Epoch230: Loss:0.250139\n",
      "Train Epoch240: Loss:0.250092\n",
      "Train Epoch250: Loss:0.250055\n",
      "Train Epoch260: Loss:0.250031\n",
      "Train Epoch270: Loss:0.250012\n",
      "Train Epoch280: Loss:0.249997\n",
      "Train Epoch290: Loss:0.249984\n",
      "Train Epoch300: Loss:0.249974\n",
      "Train Epoch310: Loss:0.249967\n",
      "Train Epoch320: Loss:0.249961\n",
      "Train Epoch330: Loss:0.249956\n",
      "Train Epoch340: Loss:0.249951\n",
      "Train Epoch350: Loss:0.249948\n",
      "Train Epoch360: Loss:0.249945\n",
      "Train Epoch370: Loss:0.249943\n",
      "Train Epoch380: Loss:0.249941\n",
      "Train Epoch390: Loss:0.249939\n",
      "Train Epoch400: Loss:0.249938\n",
      "Train Epoch410: Loss:0.249937\n",
      "Train Epoch420: Loss:0.249936\n",
      "Train Epoch430: Loss:0.249935\n",
      "Train Epoch440: Loss:0.249934\n",
      "Train Epoch450: Loss:0.249934\n",
      "Train Epoch460: Loss:0.249933\n",
      "Train Epoch470: Loss:0.249933\n",
      "Train Epoch480: Loss:0.249932\n",
      "Train Epoch490: Loss:0.249932\n",
      "Train Epoch500: Loss:0.249931\n",
      "Train Epoch510: Loss:0.249931\n",
      "Train Epoch520: Loss:0.249931\n",
      "Train Epoch530: Loss:0.249931\n",
      "Train Epoch540: Loss:0.249930\n",
      "Train Epoch550: Loss:0.249930\n",
      "Train Epoch560: Loss:0.249930\n",
      "Train Epoch570: Loss:0.249930\n",
      "Train Epoch580: Loss:0.249930\n",
      "Train Epoch590: Loss:0.249930\n",
      "Train Epoch600: Loss:0.249929\n",
      "Train Epoch610: Loss:0.249929\n",
      "Train Epoch620: Loss:0.249929\n",
      "Train Epoch630: Loss:0.249929\n",
      "Train Epoch640: Loss:0.249929\n",
      "Train Epoch650: Loss:0.249929\n",
      "Train Epoch660: Loss:0.249929\n",
      "Train Epoch670: Loss:0.249929\n",
      "Train Epoch680: Loss:0.249929\n",
      "Train Epoch690: Loss:0.249929\n",
      "Train Epoch700: Loss:0.249929\n",
      "Train Epoch710: Loss:0.249929\n",
      "Train Epoch720: Loss:0.249929\n",
      "Train Epoch730: Loss:0.249929\n",
      "Train Epoch740: Loss:0.249929\n",
      "Train Epoch750: Loss:0.249929\n",
      "Train Epoch760: Loss:0.249928\n",
      "Train Epoch770: Loss:0.249928\n",
      "Train Epoch780: Loss:0.249928\n",
      "Train Epoch790: Loss:0.249928\n",
      "Train Epoch800: Loss:0.249928\n",
      "Train Epoch810: Loss:0.249928\n",
      "Train Epoch820: Loss:0.249928\n",
      "Train Epoch830: Loss:0.249928\n",
      "Train Epoch840: Loss:0.249928\n",
      "Train Epoch850: Loss:0.249928\n",
      "Train Epoch860: Loss:0.249928\n",
      "Train Epoch870: Loss:0.249928\n",
      "Train Epoch880: Loss:0.249928\n",
      "Train Epoch890: Loss:0.249928\n",
      "Train Epoch900: Loss:0.249928\n",
      "Train Epoch910: Loss:0.249928\n",
      "Train Epoch920: Loss:0.249928\n",
      "Train Epoch930: Loss:0.249928\n",
      "Train Epoch940: Loss:0.249928\n",
      "Train Epoch950: Loss:0.249928\n",
      "Train Epoch960: Loss:0.249928\n",
      "Train Epoch970: Loss:0.249928\n",
      "Train Epoch980: Loss:0.249928\n",
      "Train Epoch990: Loss:0.249928\n",
      "Train Epoch1000: Loss:0.249928\n"
     ]
    },
    {
     "data": {
      "image/png": "[encoded data removed]",
      "text/plain": [
       "<Figure size 432x288 with 1 Axes>"
      ]
     },
     "metadata": {
      "needs_background": "light"
     },
     "output_type": "display_data"
    },
    {
     "name": "stdout",
     "output_type": "stream",
     "text": [
      "[('fc.weight', Parameter containing:\n",
      "tensor([[2.9948]], requires_grad=True)), ('fc.bias', Parameter containing:\n",
      "tensor([10.0429], requires_grad=True))]\n"
     ]
    },
    {
     "data": {
      "image/png": "[encoded data removed]",
      "text/plain": [
       "<Figure size 432x288 with 1 Axes>"
      ]
     },
     "metadata": {
      "needs_background": "light"
     },
     "output_type": "display_data"
    }
   ],
   "source": [
    "for epoch in range(epochs):\n",
    "    train(model,device,x,y,optimizer,epoch)\n",
    "    scheduler.step()\n",
    "test(model,device,x,y)"
   ]
  }
 ],
 "metadata": {
  "kernelspec": {
   "display_name": "Python 3",
   "language": "python",
   "name": "python3"
  },
  "language_info": {
   "codemirror_mode": {
    "name": "ipython",
    "version": 3
   },
   "file_extension": ".py",
   "mimetype": "text/x-python",
   "name": "python",
   "nbconvert_exporter": "python",
   "pygments_lexer": "ipython3",
   "version": "3.7.9"
  }
 },
 "nbformat": 4,
 "nbformat_minor": 5
}
