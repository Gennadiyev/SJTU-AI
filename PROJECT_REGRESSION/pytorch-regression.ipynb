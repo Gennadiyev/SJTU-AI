{
 "cells": [
  {
   "cell_type": "code",
   "execution_count": 1,
   "id": "8b224be9",
   "metadata": {},
   "outputs": [],
   "source": [
    "import numpy as np\n",
    "import torch\n",
    "import torch.nn as nn\n",
    "import torch.optim as optim\n",
    "from torch.optim.lr_scheduler import StepLR\n",
    "import torch.nn.functional as F\n",
    "import matplotlib.pyplot as plt"
   ]
  },
  {
   "cell_type": "code",
   "execution_count": 2,
   "id": "1f3adee7",
   "metadata": {},
   "outputs": [],
   "source": [
    "learning_rate=0.05\n",
    "epochs=1000\n",
    "device=\"cpu\"\n",
    "x=torch.unsqueeze(torch.linspace(0,7,1000),dim=1)\n",
    "y=5*torch.sin(x)+0.2*torch.randn(x.size())\n",
    "loss_record=list()"
   ]
  },
  {
   "cell_type": "code",
   "execution_count": 3,
   "id": "e85a9153",
   "metadata": {},
   "outputs": [],
   "source": [
    "class Net(nn.Module):\n",
    "    def __init__(self):\n",
    "        super(Net,self).__init__()\n",
    "        self.hidden1=nn.Linear(1,100)\n",
    "        self.hidden2=nn.Linear(100,100)\n",
    "        self.hidden3=nn.Linear(100,100)\n",
    "        self.predict=nn.Linear(100,1)\n",
    "    def forward(self,x):\n",
    "        result=self.hidden1(x)\n",
    "        result=F.relu(result)\n",
    "        result=self.hidden2(result)\n",
    "        result=F.relu(result)\n",
    "        result=self.hidden3(result)\n",
    "        result=F.relu(result)\n",
    "        result=self.predict(result)\n",
    "        return result\n",
    "model=Net().to(device)\n",
    "criterion=nn.MSELoss()\n",
    "optimizer=optim.SGD(model.parameters(),lr=learning_rate)\n",
    "scheduler=StepLR(optimizer,step_size=50,gamma=0.8)"
   ]
  },
  {
   "cell_type": "code",
   "execution_count": 4,
   "id": "81afb650",
   "metadata": {},
   "outputs": [],
   "source": [
    "def train(model,device,data,target,epoch):\n",
    "    model.train()\n",
    "    data,target=data.to(device),target.to(device)\n",
    "    result=model(data)\n",
    "    optimizer.zero_grad()\n",
    "    train_loss=criterion(result,target)\n",
    "    train_loss.backward()\n",
    "    optimizer.step()\n",
    "    if (epoch+1)%10==0 :\n",
    "        loss_record.append(train_loss.item())\n",
    "        print(\"Train Epoch{}: Loss:{:.6f}\".format(epoch+1,train_loss.item()))\n",
    "def test(model,device,data,target):\n",
    "    model.eval()\n",
    "    result=model(data)\n",
    "    plt.figure()\n",
    "    plt.plot(data,result.detach(),color=\"#66ccff\",label=\"line\")\n",
    "    plt.scatter(data,target,color=\"#ff0000\",label=\"data\")\n",
    "    plt.legend()\n",
    "    plt.show()\n",
    "    plt.figure()\n",
    "    x_draw=np.arange(1,epochs/10+1,1)\n",
    "    plt.plot(x_draw,loss_record,color=\"#ff0000\",label=\"loss\")\n",
    "    plt.legend()\n",
    "    plt.show()"
   ]
  },
  {
   "cell_type": "code",
   "execution_count": 5,
   "id": "e09fd931",
   "metadata": {
    "scrolled": false
   },
   "outputs": [
    {
     "name": "stdout",
     "output_type": "stream",
     "text": [
      "Train Epoch10: Loss:11.584836\n",
      "Train Epoch20: Loss:11.761252\n",
      "Train Epoch30: Loss:11.436504\n",
      "Train Epoch40: Loss:10.408326\n",
      "Train Epoch50: Loss:11.605252\n",
      "Train Epoch60: Loss:9.782450\n",
      "Train Epoch70: Loss:10.460548\n",
      "Train Epoch80: Loss:11.095732\n",
      "Train Epoch90: Loss:9.557089\n",
      "Train Epoch100: Loss:9.563217\n",
      "Train Epoch110: Loss:5.910243\n",
      "Train Epoch120: Loss:4.241175\n",
      "Train Epoch130: Loss:4.307065\n",
      "Train Epoch140: Loss:3.771317\n",
      "Train Epoch150: Loss:3.740256\n",
      "Train Epoch160: Loss:2.679954\n",
      "Train Epoch170: Loss:3.084004\n",
      "Train Epoch180: Loss:3.212254\n",
      "Train Epoch190: Loss:3.204723\n",
      "Train Epoch200: Loss:3.206916\n",
      "Train Epoch210: Loss:2.020085\n",
      "Train Epoch220: Loss:3.335814\n",
      "Train Epoch230: Loss:2.855847\n",
      "Train Epoch240: Loss:2.839612\n",
      "Train Epoch250: Loss:2.806710\n",
      "Train Epoch260: Loss:1.258464\n",
      "Train Epoch270: Loss:2.101725\n",
      "Train Epoch280: Loss:2.314360\n",
      "Train Epoch290: Loss:2.300017\n",
      "Train Epoch300: Loss:2.280633\n",
      "Train Epoch310: Loss:0.741018\n",
      "Train Epoch320: Loss:3.056112\n",
      "Train Epoch330: Loss:1.597732\n",
      "Train Epoch340: Loss:1.660705\n",
      "Train Epoch350: Loss:1.673244\n",
      "Train Epoch360: Loss:0.450037\n",
      "Train Epoch370: Loss:1.471919\n",
      "Train Epoch380: Loss:0.915071\n",
      "Train Epoch390: Loss:1.066064\n",
      "Train Epoch400: Loss:1.139979\n",
      "Train Epoch410: Loss:0.251817\n",
      "Train Epoch420: Loss:0.314069\n",
      "Train Epoch430: Loss:1.091784\n",
      "Train Epoch440: Loss:0.526765\n",
      "Train Epoch450: Loss:0.635251\n",
      "Train Epoch460: Loss:0.136049\n",
      "Train Epoch470: Loss:0.113909\n",
      "Train Epoch480: Loss:0.110358\n",
      "Train Epoch490: Loss:0.215331\n",
      "Train Epoch500: Loss:0.445344\n",
      "Train Epoch510: Loss:0.079719\n",
      "Train Epoch520: Loss:0.073002\n",
      "Train Epoch530: Loss:0.068546\n",
      "Train Epoch540: Loss:0.064997\n",
      "Train Epoch550: Loss:0.062119\n",
      "Train Epoch560: Loss:0.060151\n",
      "Train Epoch570: Loss:0.058470\n",
      "Train Epoch580: Loss:0.057008\n",
      "Train Epoch590: Loss:0.055735\n",
      "Train Epoch600: Loss:0.054598\n",
      "Train Epoch610: Loss:0.053754\n",
      "Train Epoch620: Loss:0.053000\n",
      "Train Epoch630: Loss:0.052318\n",
      "Train Epoch640: Loss:0.051696\n",
      "Train Epoch650: Loss:0.051115\n",
      "Train Epoch660: Loss:0.050670\n",
      "Train Epoch670: Loss:0.050256\n",
      "Train Epoch680: Loss:0.049871\n",
      "Train Epoch690: Loss:0.049506\n",
      "Train Epoch700: Loss:0.049152\n",
      "Train Epoch710: Loss:0.048877\n",
      "Train Epoch720: Loss:0.048622\n",
      "Train Epoch730: Loss:0.048379\n",
      "Train Epoch740: Loss:0.048143\n",
      "Train Epoch750: Loss:0.047916\n",
      "Train Epoch760: Loss:0.047737\n",
      "Train Epoch770: Loss:0.047567\n",
      "Train Epoch780: Loss:0.047400\n",
      "Train Epoch790: Loss:0.047237\n",
      "Train Epoch800: Loss:0.047072\n",
      "Train Epoch810: Loss:0.046940\n",
      "Train Epoch820: Loss:0.046813\n",
      "Train Epoch830: Loss:0.046685\n",
      "Train Epoch840: Loss:0.046558\n",
      "Train Epoch850: Loss:0.046434\n",
      "Train Epoch860: Loss:0.046334\n",
      "Train Epoch870: Loss:0.046236\n",
      "Train Epoch880: Loss:0.046140\n",
      "Train Epoch890: Loss:0.046045\n",
      "Train Epoch900: Loss:0.045952\n",
      "Train Epoch910: Loss:0.045878\n",
      "Train Epoch920: Loss:0.045807\n",
      "Train Epoch930: Loss:0.045737\n",
      "Train Epoch940: Loss:0.045668\n",
      "Train Epoch950: Loss:0.045600\n",
      "Train Epoch960: Loss:0.045545\n",
      "Train Epoch970: Loss:0.045493\n",
      "Train Epoch980: Loss:0.045440\n",
      "Train Epoch990: Loss:0.045389\n",
      "Train Epoch1000: Loss:0.045337\n"
     ]
    },
    {
     "data": {
      "image/png": "[encoded data removed]",
      "text/plain": [
       "<Figure size 432x288 with 1 Axes>"
      ]
     },
     "metadata": {
      "needs_background": "light"
     },
     "output_type": "display_data"
    },
    {
     "data": {
      "image/png": "[encoded data removed]",
      "text/plain": [
       "<Figure size 432x288 with 1 Axes>"
      ]
     },
     "metadata": {
      "needs_background": "light"
     },
     "output_type": "display_data"
    }
   ],
   "source": [
    "for epoch in range(epochs):\n",
    "    train(model,device,x,y,epoch)\n",
    "    scheduler.step()\n",
    "test(model,device,x,y)"
   ]
  },
  {
   "cell_type": "code",
   "execution_count": null,
   "id": "112f9303",
   "metadata": {},
   "outputs": [],
   "source": []
  }
 ],
 "metadata": {
  "kernelspec": {
   "display_name": "Python 3",
   "language": "python",
   "name": "python3"
  },
  "language_info": {
   "codemirror_mode": {
    "name": "ipython",
    "version": 3
   },
   "file_extension": ".py",
   "mimetype": "text/x-python",
   "name": "python",
   "nbconvert_exporter": "python",
   "pygments_lexer": "ipython3",
   "version": "3.7.9"
  }
 },
 "nbformat": 4,
 "nbformat_minor": 5
}
