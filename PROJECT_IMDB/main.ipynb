{
 "cells": [
  {
   "cell_type": "markdown",
   "id": "da58061d",
   "metadata": {},
   "source": [
    "# First Attempt implementing FC neural network in PyTorch"
   ]
  },
  {
   "cell_type": "code",
   "execution_count": 1,
   "id": "274cd885",
   "metadata": {},
   "outputs": [],
   "source": [
    "import torch\n",
    "import time"
   ]
  },
  {
   "cell_type": "markdown",
   "id": "cb964720",
   "metadata": {},
   "source": [
    "## Setting Input and Output Data\n",
    "\n",
    "The aim of the model is to estimate the [IMDB](https://www.imdb.com) score of the a movie, based on:\n",
    "\n",
    "- Name of the film\n",
    "- Release Date of the film\n",
    "- Production Budget\n",
    "- "
   ]
  }
 ],
 "metadata": {
  "kernelspec": {
   "display_name": "Python 3",
   "language": "python",
   "name": "python3"
  },
  "language_info": {
   "codemirror_mode": {
    "name": "ipython",
    "version": 3
   },
   "file_extension": ".py",
   "mimetype": "text/x-python",
   "name": "python",
   "nbconvert_exporter": "python",
   "pygments_lexer": "ipython3",
   "version": "3.8.3"
  }
 },
 "nbformat": 4,
 "nbformat_minor": 5
}
