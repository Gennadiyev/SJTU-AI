{
 "cells": [
  {
   "cell_type": "markdown",
   "id": "a55fb950",
   "metadata": {},
   "source": [
    "# Assignment 2-2: A Simple Analysis of Film Reviews"
   ]
  },
  {
   "cell_type": "markdown",
   "id": "1cbea30f",
   "metadata": {},
   "source": [
    "## Preparation: "
   ]
  },
  {
   "cell_type": "code",
   "execution_count": 8,
   "id": "ce26e03f",
   "metadata": {},
   "outputs": [],
   "source": [
    "import pandas as pd\n",
    "from matplotlib import pyplot as plt\n",
    "import numpy as np\n",
    "\n",
    "df = pd.read_csv(\"ASSIGNMENT_2_FILES/reviews.csv\", low_memory=False)"
   ]
  },
  {
   "cell_type": "markdown",
   "id": "04530cda",
   "metadata": {},
   "source": [
    "## Task 1: Count Reviews\n",
    "\n",
    "**Task:** Collect the review count of all films, and use bar chart to display the 10 most reviewed films."
   ]
  },
  {
   "cell_type": "code",
   "execution_count": null,
   "id": "2ca94e63",
   "metadata": {},
   "outputs": [],
   "source": []
  },
  {
   "cell_type": "code",
   "execution_count": null,
   "id": "db760e06",
   "metadata": {},
   "outputs": [],
   "source": []
  }
 ],
 "metadata": {
  "kernelspec": {
   "display_name": "Python 3",
   "language": "python",
   "name": "python3"
  },
  "language_info": {
   "codemirror_mode": {
    "name": "ipython",
    "version": 3
   },
   "file_extension": ".py",
   "mimetype": "text/x-python",
   "name": "python",
   "nbconvert_exporter": "python",
   "pygments_lexer": "ipython3",
   "version": "3.8.3"
  }
 },
 "nbformat": 4,
 "nbformat_minor": 5
}
