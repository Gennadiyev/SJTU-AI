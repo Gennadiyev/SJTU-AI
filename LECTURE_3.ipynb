{
 "cells": [
  {
   "cell_type": "markdown",
   "id": "0feca126",
   "metadata": {},
   "source": [
    "# NumPy Introduction\n",
    "\n",
    "**`ndarray`** is one of the most important characteristics or features of `numpy`. An `ndarray` object is used to store multi-dimension arrays of a specific type.\n",
    "\n",
    "Inside `ndarray`:\n",
    "\n",
    "- A pointer towards data or a block of memory\n",
    "- Data type (`dtype`) describes the size of an element in the array\n",
    "- A shape\n",
    "- A `stride` tuple specifying the step length of bytes\n",
    "\n",
    "The array is stored as follows:\n",
    "\n",
    "![](https://i.loli.net/2021/07/05/9A7VZTGEczpQxoq.jpg)"
   ]
  },
  {
   "cell_type": "code",
   "execution_count": 1,
   "id": "d1a4c6ab",
   "metadata": {},
   "outputs": [],
   "source": [
    "import numpy as np"
   ]
  },
  {
   "cell_type": "code",
   "execution_count": 2,
   "id": "d42b4423",
   "metadata": {},
   "outputs": [
    {
     "name": "stdout",
     "output_type": "stream",
     "text": [
      "[list([1, 1, 4]) list([5, 1]) list([4])]\n",
      "[[1 2]\n",
      " [3 4]]\n"
     ]
    }
   ],
   "source": [
    "print(np.array([[1, 1, 4], [5, 1], [4]]))\n",
    "print(np.array([[1, 2], [3, 4]]))"
   ]
  },
  {
   "cell_type": "code",
   "execution_count": 3,
   "id": "fef4bde6",
   "metadata": {},
   "outputs": [
    {
     "name": "stdout",
     "output_type": "stream",
     "text": [
      "[[0. 0.]\n",
      " [0. 0.]\n",
      " [0. 0.]]\n",
      "[[0 0 0]\n",
      " [0 0 0]]\n"
     ]
    }
   ],
   "source": [
    "print(np.empty([3, 2], dtype=np.float))\n",
    "print(np.zeros((2, 3), dtype=np.int))"
   ]
  },
  {
   "cell_type": "markdown",
   "id": "f3b095ff",
   "metadata": {},
   "source": [
    "## Practice 1\n",
    "\n",
    "Create a arithmetic sequence of `numpy` array from 0 to 100 (both inclusive) with 51 elements."
   ]
  },
  {
   "cell_type": "code",
   "execution_count": 4,
   "id": "f6c13366",
   "metadata": {},
   "outputs": [
    {
     "name": "stdout",
     "output_type": "stream",
     "text": [
      "0, 2, 4, 6, 8, 10, 12, 14, 16, 18, 20, 22, 24, 26, 28, 30, 32, 34, 36, 38, 40, 42, 44, 46, 48, 50, 52, 54, 56, 58, 60, 62, 64, 66, 68, 70, 72, 74, 76, 78, 80, 82, 84, 86, 88, 90, 92, 94, 96, 98, 100\n"
     ]
    }
   ],
   "source": [
    "step = (100 - 0) / (51 - 1)\n",
    "arr = np.arange(0, 100 + step, step, dtype=np.int)\n",
    "print(*arr, sep=\", \")"
   ]
  },
  {
   "cell_type": "code",
   "execution_count": 5,
   "id": "6f2cf4fb",
   "metadata": {},
   "outputs": [
    {
     "name": "stdout",
     "output_type": "stream",
     "text": [
      "[  0.   2.   4.   6.   8.  10.  12.  14.  16.  18.  20.  22.  24.  26.\n",
      "  28.  30.  32.  34.  36.  38.  40.  42.  44.  46.  48.  50.  52.  54.\n",
      "  56.  58.  60.  62.  64.  66.  68.  70.  72.  74.  76.  78.  80.  82.\n",
      "  84.  86.  88.  90.  92.  94.  96.  98. 100.]\n",
      "[2 4 6]\n"
     ]
    }
   ],
   "source": [
    "print(np.linspace(0, 100, 51))\n",
    "# print(np.geomspace(1, 64, 7))\n",
    "print(np.arange(100)[2:7:2])"
   ]
  },
  {
   "cell_type": "markdown",
   "id": "eec5ccca",
   "metadata": {},
   "source": [
    "## Insertion and Stacking\n",
    "\n",
    "More information can be found on [NumPy official docs](https://numpy.org/doc/stable/reference/generated/numpy.vstack.html)."
   ]
  },
  {
   "cell_type": "code",
   "execution_count": 6,
   "id": "fc005388",
   "metadata": {},
   "outputs": [
    {
     "name": "stdout",
     "output_type": "stream",
     "text": [
      "[[1]\n",
      " [2]\n",
      " [3]\n",
      " [4]\n",
      " [5]\n",
      " [6]]\n"
     ]
    }
   ],
   "source": [
    "a = np.array([[1], [2], [3]])\n",
    "b = np.array([[4], [5], [6]])\n",
    "print(np.vstack((a,b)))"
   ]
  },
  {
   "cell_type": "code",
   "execution_count": 7,
   "id": "5ad96b45",
   "metadata": {},
   "outputs": [
    {
     "name": "stdout",
     "output_type": "stream",
     "text": [
      "First array\n",
      "\n",
      "Withou Axis arg, the list will be flattened before manipulation:\n",
      "[ 10  20  30 100 200  40  50  60]\n",
      "\n",
      "With Axis = 0\n",
      "[[10 20]\n",
      " [30 40]\n",
      " [11 11]\n",
      " [50 60]]\n",
      "\n",
      "With Axis = 1\n",
      "[[10 20 11]\n",
      " [30 40 11]\n",
      " [50 60 11]]\n",
      "\n"
     ]
    }
   ],
   "source": [
    "a = np.array([[10, 20], [30, 40], [50, 60]])\n",
    "print('First array', end='\\n\\n')\n",
    "print('Withou Axis arg, the list will be flattened before manipulation:')\n",
    "b = np.insert(a, 3, [100, 200])\n",
    "print(b, end='\\n\\n')\n",
    "print('With Axis = 0')\n",
    "c = np.insert(a, 2, 11, axis=0)\n",
    "print(c, end='\\n\\n')\n",
    "print('With Axis = 1')\n",
    "c = np.insert(a, 2, 11, axis=1)\n",
    "print(c, end='\\n\\n')"
   ]
  },
  {
   "cell_type": "markdown",
   "id": "b32012af",
   "metadata": {},
   "source": [
    "## Broadcasting\n",
    "\n",
    "Before we begin, one important definition we need to know is the rank of the array in NumPy. The **rank** is the total number of dimensions a NumPy array has. For example, an array of shape $(3, 4)$ has a rank of $2$ and array of shape $(3, 4, 3)$ has a rank of $3$. Now onto the rules.\n",
    "\n",
    "1. To deem which two arrays are suitable for operations, NumPy compares the shape of the two arrays dimension-by-dimension starting from the trailing dimensions of the arrays working it's way forward. (from right to left)\n",
    "\n",
    "2. Two dimensions are said to be compatible if both of them are **equal, or either one of them is 1**.\n",
    "\n",
    "3. If both the dimensions are unequal and neither of them is 1, then NumPy will throw an error and halt."
   ]
  },
  {
   "cell_type": "markdown",
   "id": "47a950ba",
   "metadata": {},
   "source": [
    "![Screenshot_20210705_151321_edit_1568224231025810.jpg](https://i.loli.net/2021/07/05/z9UCY5fgSKiqB4x.jpg)"
   ]
  },
  {
   "cell_type": "code",
   "execution_count": 8,
   "id": "b963bb50",
   "metadata": {},
   "outputs": [
    {
     "name": "stdout",
     "output_type": "stream",
     "text": [
      "Can't perform\n"
     ]
    },
    {
     "data": {
      "text/plain": [
       "array([[[[0.8656449 , 1.10954706],\n",
       "         [0.66736119, 1.22251314],\n",
       "         [1.02223067, 0.84931475],\n",
       "         [0.87795778, 1.46414285],\n",
       "         [0.55785606, 0.93920249],\n",
       "         [0.35890043, 0.90686078]],\n",
       "\n",
       "        [[0.74218375, 0.85791827],\n",
       "         [0.66444711, 0.74312569],\n",
       "         [1.52316668, 0.63135133],\n",
       "         [1.47225601, 1.06597367],\n",
       "         [1.40622383, 0.88014582],\n",
       "         [0.96439754, 0.62024869]],\n",
       "\n",
       "        [[1.33895873, 1.55531925],\n",
       "         [0.64590271, 1.66098239],\n",
       "         [1.24431309, 1.08724704],\n",
       "         [1.1222575 , 1.01511752],\n",
       "         [1.12507868, 1.27676172],\n",
       "         [1.10612017, 1.14431054]],\n",
       "\n",
       "        [[1.60812866, 1.03061236],\n",
       "         [1.1470293 , 0.42766912],\n",
       "         [1.45839343, 0.65961532],\n",
       "         [1.20207115, 0.67447216],\n",
       "         [1.59744438, 0.59345428],\n",
       "         [1.44511649, 1.13851346]]],\n",
       "\n",
       "\n",
       "       [[[0.82667581, 0.7396203 ],\n",
       "         [0.30848719, 1.12591238],\n",
       "         [0.43883472, 0.77461922],\n",
       "         [0.69834003, 1.47151255],\n",
       "         [0.46805029, 1.47172175],\n",
       "         [0.75748161, 1.3322813 ]],\n",
       "\n",
       "        [[1.79738849, 0.96994033],\n",
       "         [1.70658499, 1.01237417],\n",
       "         [1.66162946, 1.07141736],\n",
       "         [1.15396114, 1.08325856],\n",
       "         [1.18655799, 0.88369799],\n",
       "         [1.67354018, 0.26567628]],\n",
       "\n",
       "        [[1.13408658, 1.13200041],\n",
       "         [0.92848099, 0.89315273],\n",
       "         [1.61155397, 1.06141052],\n",
       "         [1.20544163, 1.39576685],\n",
       "         [0.95660446, 1.07717946],\n",
       "         [1.69103684, 1.11455314]],\n",
       "\n",
       "        [[0.76123516, 0.5775122 ],\n",
       "         [1.17615091, 0.65266427],\n",
       "         [1.26806822, 1.06023413],\n",
       "         [1.27039461, 0.82470312],\n",
       "         [0.42558299, 0.93874292],\n",
       "         [0.73060605, 0.17108195]]],\n",
       "\n",
       "\n",
       "       [[[0.92401427, 0.13536342],\n",
       "         [0.88577911, 0.16894014],\n",
       "         [0.17276117, 0.5028588 ],\n",
       "         [0.21590177, 0.86772882],\n",
       "         [0.47500015, 0.30402851],\n",
       "         [0.82313263, 0.4050633 ]],\n",
       "\n",
       "        [[1.5617792 , 1.13093753],\n",
       "         [1.64599868, 1.22635325],\n",
       "         [1.25004796, 1.47437183],\n",
       "         [1.13307176, 1.20267683],\n",
       "         [1.81805647, 1.37967778],\n",
       "         [1.05723732, 1.35172918]],\n",
       "\n",
       "        [[1.16628279, 1.51115017],\n",
       "         [0.64917534, 1.72262157],\n",
       "         [0.85457492, 1.68870995],\n",
       "         [1.07172314, 1.20552068],\n",
       "         [1.10249465, 1.29586389],\n",
       "         [0.53573213, 1.31331046]],\n",
       "\n",
       "        [[1.10197587, 1.02151058],\n",
       "         [1.21528798, 0.91224649],\n",
       "         [0.69107165, 0.79516142],\n",
       "         [1.29698986, 0.37196054],\n",
       "         [1.31412292, 0.36817675],\n",
       "         [0.43723564, 0.55775248]]]])"
      ]
     },
     "execution_count": 8,
     "metadata": {},
     "output_type": "execute_result"
    }
   ],
   "source": [
    "arr_a = np.random.rand(3, 4, 6, 2)\n",
    "arr_b = np.random.rand(3, 5, 1, 2)\n",
    "\n",
    "try:\n",
    "    arr_a + arr_b   # op throws an error\n",
    "except:\n",
    "    print(\"Can't perform\")\n",
    "\n",
    "arr_a = np.random.rand(3, 4, 6, 2)\n",
    "arr_b = np.random.rand(3, 4, 1, 2)\n",
    "\n",
    "arr_a + arr_b   # Does not throw error"
   ]
  },
  {
   "cell_type": "markdown",
   "id": "a1260a4f",
   "metadata": {},
   "source": [
    "![](https://blog.paperspace.com/content/images/2020/07/image-14.png)\n",
    "\n",
    "Additionally, for matrices with different ranks, the broadcasting rules are generally the same, except for filling the empty dimensions with 1's beforehands:\n",
    "\n",
    "![](https://blog.paperspace.com/content/images/2020/07/image-16.png)"
   ]
  },
  {
   "cell_type": "markdown",
   "id": "431938c8",
   "metadata": {},
   "source": [
    "![](https://blog.paperspace.com/content/images/2020/07/image-18.png)"
   ]
  },
  {
   "cell_type": "markdown",
   "id": "c8914180",
   "metadata": {},
   "source": [
    "## Axes\n",
    "\n",
    "Every NumPy array has a number of axes.\n",
    "\n",
    "![](https://cdn.shortpixel.ai/spai/w_1375+q_glossy+ret_img+to_auto/https://www.sharpsightlabs.com/wp-content/uploads/2018/11/numpy-arrays-have-axes.png)"
   ]
  },
  {
   "cell_type": "markdown",
   "id": "c53d06c8",
   "metadata": {},
   "source": [
    "When trying to understand axes in NumPy sum, we need to know what the `axis` parameter actually controls.\n",
    "\n",
    "In `np.sum()`, the `axis` parameter controls which axis will be *aggregated*.\n",
    "\n",
    "Said differently, the `axis` parameter controls which axis will be *collapsed*.\n",
    "\n",
    "Remember, functions like `sum()`, `mean()`, `min()`, `median()`, and other statistical functions aggregate your data."
   ]
  },
  {
   "cell_type": "markdown",
   "id": "87f83bb3",
   "metadata": {},
   "source": [
    "Imagine you have a set of 5 numbers. If sum up those 5 numbers, the result will be a single number. Summation effectively aggregates your data. It collapses a large number of values into a single value.\n",
    "\n",
    "Similarly, when you use `np.sum()` on a 2-d array with the `axis` parameter, it is going to collapse your 2-d array down to a 1-d array. It will collapse the data and reduce the number of dimensions."
   ]
  },
  {
   "cell_type": "markdown",
   "id": "84d42217",
   "metadata": {},
   "source": [
    "Let's begin with a matrix."
   ]
  },
  {
   "cell_type": "code",
   "execution_count": 9,
   "id": "4dc281b0",
   "metadata": {},
   "outputs": [
    {
     "name": "stdout",
     "output_type": "stream",
     "text": [
      "[[0 1 2]\n",
      " [3 4 5]]\n"
     ]
    }
   ],
   "source": [
    "np_array_2d = np.arange(0, 6).reshape([2,3])\n",
    "print(np_array_2d)"
   ]
  },
  {
   "cell_type": "markdown",
   "id": "bd986ef8",
   "metadata": {},
   "source": [
    "To sum the matrix up without an axis, the result would be aggregrated in both axes."
   ]
  },
  {
   "cell_type": "code",
   "execution_count": 10,
   "id": "bde6327c",
   "metadata": {
    "scrolled": true
   },
   "outputs": [
    {
     "name": "stdout",
     "output_type": "stream",
     "text": [
      "15\n"
     ]
    }
   ],
   "source": [
    "print(np.sum(np_array_2d))"
   ]
  },
  {
   "cell_type": "markdown",
   "id": "ebfa7b38",
   "metadata": {},
   "source": [
    "With an `axis` argument, the aggregation will only be performed along one axis."
   ]
  },
  {
   "cell_type": "code",
   "execution_count": 11,
   "id": "16305dce",
   "metadata": {},
   "outputs": [
    {
     "name": "stdout",
     "output_type": "stream",
     "text": [
      "[3 5 7]\n",
      "[ 3 12]\n"
     ]
    }
   ],
   "source": [
    "print(np.sum(np_array_2d, axis = 0))\n",
    "#\n",
    "# 3  << 0 1 2\n",
    "# 12 << 3 4 5\n",
    "#       v v v\n",
    "#       v v v\n",
    "#       3 5 7\n",
    "# Top to bottom is axis 0, and thus aggregated\n",
    "print(np.sum(np_array_2d, axis = 1))"
   ]
  },
  {
   "cell_type": "markdown",
   "id": "4006ebbe",
   "metadata": {},
   "source": [
    "In addition to `np.sum()`, another important usage of array axes is concatenation."
   ]
  },
  {
   "cell_type": "code",
   "execution_count": 12,
   "id": "ebec7a3b",
   "metadata": {},
   "outputs": [],
   "source": [
    "np_array_1s = np.array([[1,1,1],[1,1,1]])\n",
    "np_array_9s = np.array([[9,9,9],[9,9,9]])"
   ]
  },
  {
   "cell_type": "markdown",
   "id": "e20ef062",
   "metadata": {},
   "source": [
    "If we concatenate arrays along `axis = 0`, we can use:"
   ]
  },
  {
   "cell_type": "code",
   "execution_count": 13,
   "id": "e5a1c966",
   "metadata": {},
   "outputs": [
    {
     "name": "stdout",
     "output_type": "stream",
     "text": [
      "[[1 1 1]\n",
      " [1 1 1]\n",
      " [9 9 9]\n",
      " [9 9 9]]\n",
      "[[1 1 1]\n",
      " [1 1 1]\n",
      " [9 9 9]\n",
      " [9 9 9]]\n"
     ]
    }
   ],
   "source": [
    "print(np.concatenate([np_array_1s, np_array_9s], axis = 0))\n",
    "print(np.vstack([np_array_1s, np_array_9s]))"
   ]
  },
  {
   "cell_type": "markdown",
   "id": "237b6fd1",
   "metadata": {},
   "source": [
    "And similarly, you can expect identical results from the following:"
   ]
  },
  {
   "cell_type": "code",
   "execution_count": 14,
   "id": "6020e90b",
   "metadata": {},
   "outputs": [
    {
     "name": "stdout",
     "output_type": "stream",
     "text": [
      "[[1 1 1 9 9 9]\n",
      " [1 1 1 9 9 9]]\n",
      "[[1 1 1 9 9 9]\n",
      " [1 1 1 9 9 9]]\n"
     ]
    }
   ],
   "source": [
    "print(np.concatenate([np_array_1s, np_array_9s], axis = 1))\n",
    "print(np.hstack([np_array_1s, np_array_9s]))"
   ]
  },
  {
   "cell_type": "markdown",
   "id": "8c93caf4",
   "metadata": {},
   "source": [
    "Also, in `np.split()`:"
   ]
  },
  {
   "cell_type": "code",
   "execution_count": 15,
   "id": "82891808",
   "metadata": {
    "scrolled": true
   },
   "outputs": [
    {
     "name": "stdout",
     "output_type": "stream",
     "text": [
      "[[0 1 2]] [[3 4 5]]\n"
     ]
    }
   ],
   "source": [
    "a, b, c = np.split(np_array_2d, [1, 114514])\n",
    "print(a, b)"
   ]
  },
  {
   "cell_type": "markdown",
   "id": "43a028ff",
   "metadata": {},
   "source": [
    "## Matrices\n",
    "\n",
    "We then attempts to use `np.mat` or `np.asmatrix` to convert the arrays to matrices, after which we will try to find Fibonacci sequence using quick power."
   ]
  },
  {
   "cell_type": "code",
   "execution_count": 16,
   "id": "ad59b48f",
   "metadata": {},
   "outputs": [
    {
     "name": "stdout",
     "output_type": "stream",
     "text": [
      "[[1 2]\n",
      " [4 5]\n",
      " [7 8]]\n",
      "[[7 8 9]]\n",
      "[[5 6]\n",
      " [8 9]]\n",
      "[[1 9 5]]\n",
      "[[1 4 7]\n",
      " [2 5 8]\n",
      " [3 6 9]]\n",
      "[[1 2 3 4 5 6 7 8 9]]\n"
     ]
    }
   ],
   "source": [
    "a = np.asmatrix([[1, 2, 3], [4, 5, 6], [7, 8, 9]])\n",
    "print(a[..., :2])\n",
    "print(a[2, ...])\n",
    "print(a[1:, 1:])\n",
    "print(a[[0,2,1], [0,2,1]])\n",
    "print(a.T) # or np.transpose(a)\n",
    "print(a.reshape(-114514, 9))"
   ]
  },
  {
   "cell_type": "code",
   "execution_count": 17,
   "id": "0e2b86d9",
   "metadata": {},
   "outputs": [
    {
     "name": "stdout",
     "output_type": "stream",
     "text": [
      "0\n",
      "1\n",
      "1\n",
      "2\n",
      "3\n",
      "5\n",
      "8\n",
      "13\n",
      "21\n",
      "34\n",
      "55\n",
      "89\n",
      "144\n",
      "233\n",
      "377\n",
      "610\n",
      "987\n",
      "1597\n",
      "2584\n",
      "4181\n",
      "6765\n"
     ]
    }
   ],
   "source": [
    "def fib(n):\n",
    "    if n==0:\n",
    "        return 0\n",
    "    elif n==1 or n==2:\n",
    "        return 1\n",
    "    base = np.mat([[1,1],[1,0]])\n",
    "    n = n - 2\n",
    "    ans = np.mat([[1,0],[0,1]])\n",
    "    while n:\n",
    "        if n&1:\n",
    "            ans = base @ ans\n",
    "        base = base @ base\n",
    "        n = n>>1\n",
    " \n",
    "    return ans[0,0] + ans[0,1]\n",
    " \n",
    "if __name__=='__main__':\n",
    "    for i in range(21):\n",
    "        print(fib(i),end='\\n')"
   ]
  },
  {
   "cell_type": "markdown",
   "id": "9bb768fc",
   "metadata": {},
   "source": [
    "The following code shows a simple use case of `LA.eig`."
   ]
  },
  {
   "cell_type": "code",
   "execution_count": 18,
   "id": "a77c9921",
   "metadata": {},
   "outputs": [
    {
     "name": "stdout",
     "output_type": "stream",
     "text": [
      "w= [ 3.44948974 -1.44948974]\n",
      "w= [0.17157288+0.j 5.82842712+0.j]\n",
      "v= [[ 0.92387953+0.j         -0.        -0.38268343j]\n",
      " [-0.        -0.38268343j  0.92387953+0.j        ]]\n"
     ]
    }
   ],
   "source": [
    "from numpy import linalg as LA\n",
    "a = np.array([1, 2, 3, 1]).reshape(2, 2)\n",
    "w, v = LA.eig(a)\n",
    "print(\"w=\", w)\n",
    "a = np.array([[1, -2j], [2j, 5]])\n",
    "w, v = LA.eig(a)\n",
    "print(\"w=\", w)\n",
    "print(\"v=\", v)"
   ]
  },
  {
   "cell_type": "markdown",
   "id": "1bc61a9c",
   "metadata": {},
   "source": [
    "## Saving"
   ]
  },
  {
   "cell_type": "code",
   "execution_count": 19,
   "id": "bb09e8f2",
   "metadata": {},
   "outputs": [
    {
     "name": "stdout",
     "output_type": "stream",
     "text": [
      "[1 1 4 5 1 4]\n"
     ]
    }
   ],
   "source": [
    "import numpy as np\n",
    "a = np.array([1, 1, 4, 5, 1, 4])\n",
    "np.save('LECTURE_3_FILES/outfile.npy', a)\n",
    "b = np.load('LECTURE_3_FILES/outfile.npy')\n",
    "print(b)"
   ]
  },
  {
   "cell_type": "markdown",
   "id": "657f99bd",
   "metadata": {},
   "source": [
    "## References\n",
    "\n",
    "1. [NumPy Axes Explained](https://www.sharpsightlabs.com/blog/numpy-axes-explained/#:~:text=NumPy%20axes%20are%20the%20directions%20along%20the%20rows,Axis%200%20is%20the%20direction%20along%20the%20rows)\n",
    "\n",
    "2. [Nuts and Bolts of NumPy Optimization Part 1: Understanding Vectorization and Broadcasting](https://blog.paperspace.com/numpy-optimization-vectorization-and-broadcasting/#:~:text=%20Rules%20of%20Broadcasting%20%201%20To%20deem,will%20throw%20an%20error%20and%20halt.%20More%20)"
   ]
  },
  {
   "cell_type": "markdown",
   "id": "cd444446",
   "metadata": {},
   "source": [
    "# Pandas\n",
    "\n",
    "Pandas is a popular library for parsing and saving **data**. It has `.csv` capabilities, which make it a nice helper when dealing with `csv` inputs (as usually given by problems).\n",
    "\n",
    "`DataFrame` (2-d) and `Series` (1-d) are two most important data types provided by Pandas.\n"
   ]
  },
  {
   "cell_type": "code",
   "execution_count": 20,
   "id": "d780fcf8",
   "metadata": {},
   "outputs": [
    {
     "name": "stdout",
     "output_type": "stream",
     "text": [
      "0     1.0\n",
      "1     3.0\n",
      "2     5.0\n",
      "3     NaN\n",
      "4    40.0\n",
      "5    50.0\n",
      "dtype: float64\n"
     ]
    },
    {
     "data": {
      "text/html": [
       "<div>\n",
       "<style scoped>\n",
       "    .dataframe tbody tr th:only-of-type {\n",
       "        vertical-align: middle;\n",
       "    }\n",
       "\n",
       "    .dataframe tbody tr th {\n",
       "        vertical-align: top;\n",
       "    }\n",
       "\n",
       "    .dataframe thead th {\n",
       "        text-align: right;\n",
       "    }\n",
       "</style>\n",
       "<table border=\"1\" class=\"dataframe\">\n",
       "  <thead>\n",
       "    <tr style=\"text-align: right;\">\n",
       "      <th></th>\n",
       "      <th>A</th>\n",
       "      <th>B</th>\n",
       "      <th>C</th>\n",
       "    </tr>\n",
       "  </thead>\n",
       "  <tbody>\n",
       "    <tr>\n",
       "      <th>0</th>\n",
       "      <td>1</td>\n",
       "      <td>4</td>\n",
       "      <td>3</td>\n",
       "    </tr>\n",
       "    <tr>\n",
       "      <th>1</th>\n",
       "      <td>2</td>\n",
       "      <td>5</td>\n",
       "      <td>4</td>\n",
       "    </tr>\n",
       "    <tr>\n",
       "      <th>2</th>\n",
       "      <td>3</td>\n",
       "      <td>3</td>\n",
       "      <td>5</td>\n",
       "    </tr>\n",
       "  </tbody>\n",
       "</table>\n",
       "</div>"
      ],
      "text/plain": [
       "   A  B  C\n",
       "0  1  4  3\n",
       "1  2  5  4\n",
       "2  3  3  5"
      ]
     },
     "execution_count": 20,
     "metadata": {},
     "output_type": "execute_result"
    }
   ],
   "source": [
    "import pandas as pd\n",
    "\n",
    "s = pd.Series([1, 3, 5, np.nan, 40, 50])\n",
    "print(s)\n",
    "\n",
    "df1 = pd.DataFrame(\n",
    "    {\n",
    "        'A': [1, 2, 3],\n",
    "        'B': pd.Series([3, 4, 5], index=[2,0,1]),\n",
    "        'C': pd.Series([3, 4, 5], index=[0,1,2])\n",
    "    }\n",
    ")\n",
    "df1"
   ]
  },
  {
   "cell_type": "markdown",
   "id": "6ec35d5d",
   "metadata": {},
   "source": [
    "Pandas support auto-fill with `NaN`'s."
   ]
  },
  {
   "cell_type": "code",
   "execution_count": 21,
   "id": "39b3f711",
   "metadata": {},
   "outputs": [
    {
     "name": "stdout",
     "output_type": "stream",
     "text": [
      "\ta\tb\tc\n",
      "first\t1\t2\t\n",
      "second\t5\t10\t20.0\n",
      "\n"
     ]
    }
   ],
   "source": [
    "data2 = [\n",
    "    {\n",
    "        'a' : 1,\n",
    "        'b' : 2\n",
    "    },\n",
    "    {\n",
    "        'a' : 5,\n",
    "        'b' : 10,\n",
    "        'c' : 20\n",
    "    }\n",
    "]\n",
    "\n",
    "df2 = pd.DataFrame(data2, index=['first', 'second'])\n",
    "print(df2.to_csv(sep='\\t'))"
   ]
  },
  {
   "cell_type": "code",
   "execution_count": 22,
   "id": "5c36f707",
   "metadata": {},
   "outputs": [
    {
     "data": {
      "text/html": [
       "<div>\n",
       "<style scoped>\n",
       "    .dataframe tbody tr th:only-of-type {\n",
       "        vertical-align: middle;\n",
       "    }\n",
       "\n",
       "    .dataframe tbody tr th {\n",
       "        vertical-align: top;\n",
       "    }\n",
       "\n",
       "    .dataframe thead th {\n",
       "        text-align: right;\n",
       "    }\n",
       "</style>\n",
       "<table border=\"1\" class=\"dataframe\">\n",
       "  <thead>\n",
       "    <tr style=\"text-align: right;\">\n",
       "      <th></th>\n",
       "      <th>date</th>\n",
       "      <th>precipitation</th>\n",
       "      <th>temp_max</th>\n",
       "      <th>temp_min</th>\n",
       "      <th>wind</th>\n",
       "      <th>weather</th>\n",
       "    </tr>\n",
       "  </thead>\n",
       "  <tbody>\n",
       "    <tr>\n",
       "      <th>0</th>\n",
       "      <td>2012-01-01</td>\n",
       "      <td>0.0</td>\n",
       "      <td>12.8</td>\n",
       "      <td>5.0</td>\n",
       "      <td>4.7</td>\n",
       "      <td>drizzle</td>\n",
       "    </tr>\n",
       "    <tr>\n",
       "      <th>1</th>\n",
       "      <td>2012-01-02</td>\n",
       "      <td>10.9</td>\n",
       "      <td>10.6</td>\n",
       "      <td>2.8</td>\n",
       "      <td>4.5</td>\n",
       "      <td>rain</td>\n",
       "    </tr>\n",
       "    <tr>\n",
       "      <th>2</th>\n",
       "      <td>2012-01-03</td>\n",
       "      <td>0.8</td>\n",
       "      <td>11.7</td>\n",
       "      <td>7.2</td>\n",
       "      <td>2.3</td>\n",
       "      <td>rain</td>\n",
       "    </tr>\n",
       "    <tr>\n",
       "      <th>3</th>\n",
       "      <td>2012-01-04</td>\n",
       "      <td>20.3</td>\n",
       "      <td>12.2</td>\n",
       "      <td>5.6</td>\n",
       "      <td>4.7</td>\n",
       "      <td>rain</td>\n",
       "    </tr>\n",
       "    <tr>\n",
       "      <th>4</th>\n",
       "      <td>2012-01-05</td>\n",
       "      <td>1.3</td>\n",
       "      <td>8.9</td>\n",
       "      <td>2.8</td>\n",
       "      <td>6.1</td>\n",
       "      <td>rain</td>\n",
       "    </tr>\n",
       "    <tr>\n",
       "      <th>...</th>\n",
       "      <td>...</td>\n",
       "      <td>...</td>\n",
       "      <td>...</td>\n",
       "      <td>...</td>\n",
       "      <td>...</td>\n",
       "      <td>...</td>\n",
       "    </tr>\n",
       "    <tr>\n",
       "      <th>1456</th>\n",
       "      <td>2015-12-27</td>\n",
       "      <td>8.6</td>\n",
       "      <td>4.4</td>\n",
       "      <td>1.7</td>\n",
       "      <td>2.9</td>\n",
       "      <td>rain</td>\n",
       "    </tr>\n",
       "    <tr>\n",
       "      <th>1457</th>\n",
       "      <td>2015-12-28</td>\n",
       "      <td>1.5</td>\n",
       "      <td>5.0</td>\n",
       "      <td>1.7</td>\n",
       "      <td>1.3</td>\n",
       "      <td>rain</td>\n",
       "    </tr>\n",
       "    <tr>\n",
       "      <th>1458</th>\n",
       "      <td>2015-12-29</td>\n",
       "      <td>0.0</td>\n",
       "      <td>7.2</td>\n",
       "      <td>0.6</td>\n",
       "      <td>2.6</td>\n",
       "      <td>fog</td>\n",
       "    </tr>\n",
       "    <tr>\n",
       "      <th>1459</th>\n",
       "      <td>2015-12-30</td>\n",
       "      <td>0.0</td>\n",
       "      <td>5.6</td>\n",
       "      <td>-1.0</td>\n",
       "      <td>3.4</td>\n",
       "      <td>sun</td>\n",
       "    </tr>\n",
       "    <tr>\n",
       "      <th>1460</th>\n",
       "      <td>2015-12-31</td>\n",
       "      <td>0.0</td>\n",
       "      <td>5.6</td>\n",
       "      <td>-2.1</td>\n",
       "      <td>3.5</td>\n",
       "      <td>sun</td>\n",
       "    </tr>\n",
       "  </tbody>\n",
       "</table>\n",
       "<p>1461 rows × 6 columns</p>\n",
       "</div>"
      ],
      "text/plain": [
       "            date  precipitation  temp_max  temp_min  wind  weather\n",
       "0     2012-01-01            0.0      12.8       5.0   4.7  drizzle\n",
       "1     2012-01-02           10.9      10.6       2.8   4.5     rain\n",
       "2     2012-01-03            0.8      11.7       7.2   2.3     rain\n",
       "3     2012-01-04           20.3      12.2       5.6   4.7     rain\n",
       "4     2012-01-05            1.3       8.9       2.8   6.1     rain\n",
       "...          ...            ...       ...       ...   ...      ...\n",
       "1456  2015-12-27            8.6       4.4       1.7   2.9     rain\n",
       "1457  2015-12-28            1.5       5.0       1.7   1.3     rain\n",
       "1458  2015-12-29            0.0       7.2       0.6   2.6      fog\n",
       "1459  2015-12-30            0.0       5.6      -1.0   3.4      sun\n",
       "1460  2015-12-31            0.0       5.6      -2.1   3.5      sun\n",
       "\n",
       "[1461 rows x 6 columns]"
      ]
     },
     "execution_count": 22,
     "metadata": {},
     "output_type": "execute_result"
    }
   ],
   "source": [
    "weather = pd.read_csv('LECTURE_3_FILES/seattle-weather.csv')\n",
    "# It has lots of parameters to play with\n",
    "weather"
   ]
  },
  {
   "cell_type": "code",
   "execution_count": 23,
   "id": "a5490749",
   "metadata": {},
   "outputs": [
    {
     "name": "stdout",
     "output_type": "stream",
     "text": [
      "date             2012-01-02\n",
      "precipitation          10.9\n",
      "temp_max               10.6\n",
      "temp_min                2.8\n",
      "wind                    4.5\n",
      "weather                rain\n",
      "Name: 1, dtype: object\n",
      "------------------\n",
      "0     4.7\n",
      "1     4.5\n",
      "2     2.3\n",
      "3     4.7\n",
      "4     6.1\n",
      "5     2.2\n",
      "6     2.3\n",
      "7     2.0\n",
      "8     3.4\n",
      "9     3.4\n",
      "10    5.1\n",
      "Name: wind, dtype: float64\n"
     ]
    }
   ],
   "source": [
    "print(weather.iloc[1])\n",
    "print(\"------------------\")\n",
    "print(weather.loc[:10,'wind'])"
   ]
  },
  {
   "cell_type": "code",
   "execution_count": 24,
   "id": "b6d25b80",
   "metadata": {},
   "outputs": [
    {
     "data": {
      "text/html": [
       "<div>\n",
       "<style scoped>\n",
       "    .dataframe tbody tr th:only-of-type {\n",
       "        vertical-align: middle;\n",
       "    }\n",
       "\n",
       "    .dataframe tbody tr th {\n",
       "        vertical-align: top;\n",
       "    }\n",
       "\n",
       "    .dataframe thead th {\n",
       "        text-align: right;\n",
       "    }\n",
       "</style>\n",
       "<table border=\"1\" class=\"dataframe\">\n",
       "  <thead>\n",
       "    <tr style=\"text-align: right;\">\n",
       "      <th></th>\n",
       "      <th>A</th>\n",
       "      <th>B</th>\n",
       "      <th>C</th>\n",
       "      <th>D</th>\n",
       "    </tr>\n",
       "  </thead>\n",
       "  <tbody>\n",
       "    <tr>\n",
       "      <th>2020-01-01</th>\n",
       "      <td>-0.166408</td>\n",
       "      <td>0.534659</td>\n",
       "      <td>2.854735</td>\n",
       "      <td>1.304899</td>\n",
       "    </tr>\n",
       "    <tr>\n",
       "      <th>2020-01-02</th>\n",
       "      <td>1.030962</td>\n",
       "      <td>1.396647</td>\n",
       "      <td>-0.085003</td>\n",
       "      <td>0.597925</td>\n",
       "    </tr>\n",
       "    <tr>\n",
       "      <th>2020-01-03</th>\n",
       "      <td>0.508010</td>\n",
       "      <td>-0.610510</td>\n",
       "      <td>1.388511</td>\n",
       "      <td>-1.575780</td>\n",
       "    </tr>\n",
       "    <tr>\n",
       "      <th>2020-01-04</th>\n",
       "      <td>0.832199</td>\n",
       "      <td>2.082775</td>\n",
       "      <td>-0.676648</td>\n",
       "      <td>-1.156281</td>\n",
       "    </tr>\n",
       "    <tr>\n",
       "      <th>2020-01-05</th>\n",
       "      <td>0.140559</td>\n",
       "      <td>-0.092638</td>\n",
       "      <td>-2.349559</td>\n",
       "      <td>0.184721</td>\n",
       "    </tr>\n",
       "    <tr>\n",
       "      <th>2020-01-06</th>\n",
       "      <td>-0.870219</td>\n",
       "      <td>-1.524775</td>\n",
       "      <td>-0.946581</td>\n",
       "      <td>0.413056</td>\n",
       "    </tr>\n",
       "    <tr>\n",
       "      <th>2020-01-07</th>\n",
       "      <td>-0.509757</td>\n",
       "      <td>0.834676</td>\n",
       "      <td>0.176702</td>\n",
       "      <td>-0.862877</td>\n",
       "    </tr>\n",
       "    <tr>\n",
       "      <th>2020-01-08</th>\n",
       "      <td>-0.252611</td>\n",
       "      <td>-1.070079</td>\n",
       "      <td>-0.000048</td>\n",
       "      <td>0.529641</td>\n",
       "    </tr>\n",
       "  </tbody>\n",
       "</table>\n",
       "</div>"
      ],
      "text/plain": [
       "                   A         B         C         D\n",
       "2020-01-01 -0.166408  0.534659  2.854735  1.304899\n",
       "2020-01-02  1.030962  1.396647 -0.085003  0.597925\n",
       "2020-01-03  0.508010 -0.610510  1.388511 -1.575780\n",
       "2020-01-04  0.832199  2.082775 -0.676648 -1.156281\n",
       "2020-01-05  0.140559 -0.092638 -2.349559  0.184721\n",
       "2020-01-06 -0.870219 -1.524775 -0.946581  0.413056\n",
       "2020-01-07 -0.509757  0.834676  0.176702 -0.862877\n",
       "2020-01-08 -0.252611 -1.070079 -0.000048  0.529641"
      ]
     },
     "execution_count": 24,
     "metadata": {},
     "output_type": "execute_result"
    }
   ],
   "source": [
    "import time\n",
    "np.random.seed(int(time.time()))\n",
    "dates = pd.date_range('1/1/2020', periods=8)\n",
    "df = pd.DataFrame(np.random.randn(8, 4), index=dates, columns=['A', 'B', 'C', 'D'])\n",
    "df"
   ]
  },
  {
   "cell_type": "code",
   "execution_count": 25,
   "id": "77e773e3",
   "metadata": {},
   "outputs": [
    {
     "data": {
      "text/html": [
       "<div>\n",
       "<style scoped>\n",
       "    .dataframe tbody tr th:only-of-type {\n",
       "        vertical-align: middle;\n",
       "    }\n",
       "\n",
       "    .dataframe tbody tr th {\n",
       "        vertical-align: top;\n",
       "    }\n",
       "\n",
       "    .dataframe thead th {\n",
       "        text-align: right;\n",
       "    }\n",
       "</style>\n",
       "<table border=\"1\" class=\"dataframe\">\n",
       "  <thead>\n",
       "    <tr style=\"text-align: right;\">\n",
       "      <th></th>\n",
       "      <th>A</th>\n",
       "      <th>B</th>\n",
       "      <th>C</th>\n",
       "      <th>D</th>\n",
       "    </tr>\n",
       "  </thead>\n",
       "  <tbody>\n",
       "    <tr>\n",
       "      <th>2020-01-01</th>\n",
       "      <td>0.534659</td>\n",
       "      <td>-0.166408</td>\n",
       "      <td>2.854735</td>\n",
       "      <td>1.304899</td>\n",
       "    </tr>\n",
       "    <tr>\n",
       "      <th>2020-01-02</th>\n",
       "      <td>1.396647</td>\n",
       "      <td>1.030962</td>\n",
       "      <td>-0.085003</td>\n",
       "      <td>0.597925</td>\n",
       "    </tr>\n",
       "    <tr>\n",
       "      <th>2020-01-03</th>\n",
       "      <td>-0.610510</td>\n",
       "      <td>0.508010</td>\n",
       "      <td>1.388511</td>\n",
       "      <td>-1.575780</td>\n",
       "    </tr>\n",
       "    <tr>\n",
       "      <th>2020-01-04</th>\n",
       "      <td>2.082775</td>\n",
       "      <td>0.832199</td>\n",
       "      <td>-0.676648</td>\n",
       "      <td>-1.156281</td>\n",
       "    </tr>\n",
       "    <tr>\n",
       "      <th>2020-01-05</th>\n",
       "      <td>-0.092638</td>\n",
       "      <td>0.140559</td>\n",
       "      <td>-2.349559</td>\n",
       "      <td>0.184721</td>\n",
       "    </tr>\n",
       "    <tr>\n",
       "      <th>2020-01-06</th>\n",
       "      <td>-1.524775</td>\n",
       "      <td>-0.870219</td>\n",
       "      <td>-0.946581</td>\n",
       "      <td>0.413056</td>\n",
       "    </tr>\n",
       "    <tr>\n",
       "      <th>2020-01-07</th>\n",
       "      <td>0.834676</td>\n",
       "      <td>-0.509757</td>\n",
       "      <td>0.176702</td>\n",
       "      <td>-0.862877</td>\n",
       "    </tr>\n",
       "    <tr>\n",
       "      <th>2020-01-08</th>\n",
       "      <td>-1.070079</td>\n",
       "      <td>-0.252611</td>\n",
       "      <td>-0.000048</td>\n",
       "      <td>0.529641</td>\n",
       "    </tr>\n",
       "  </tbody>\n",
       "</table>\n",
       "</div>"
      ],
      "text/plain": [
       "                   A         B         C         D\n",
       "2020-01-01  0.534659 -0.166408  2.854735  1.304899\n",
       "2020-01-02  1.396647  1.030962 -0.085003  0.597925\n",
       "2020-01-03 -0.610510  0.508010  1.388511 -1.575780\n",
       "2020-01-04  2.082775  0.832199 -0.676648 -1.156281\n",
       "2020-01-05 -0.092638  0.140559 -2.349559  0.184721\n",
       "2020-01-06 -1.524775 -0.870219 -0.946581  0.413056\n",
       "2020-01-07  0.834676 -0.509757  0.176702 -0.862877\n",
       "2020-01-08 -1.070079 -0.252611 -0.000048  0.529641"
      ]
     },
     "execution_count": 25,
     "metadata": {},
     "output_type": "execute_result"
    }
   ],
   "source": [
    "df[['B', 'A']] = df[['A', 'B']]\n",
    "df"
   ]
  },
  {
   "cell_type": "markdown",
   "id": "eb2e9d76",
   "metadata": {},
   "source": [
    "## Concatenate, Merge, Append\n",
    "\n",
    "(Omitted, learn as we use)\n",
    "\n",
    "## Stats"
   ]
  },
  {
   "cell_type": "code",
   "execution_count": 26,
   "id": "423fc95b",
   "metadata": {},
   "outputs": [
    {
     "data": {
      "text/plain": [
       "3.02943189596167"
      ]
     },
     "execution_count": 26,
     "metadata": {},
     "output_type": "execute_result"
    }
   ],
   "source": [
    "np.mean(weather['precipitation'])"
   ]
  },
  {
   "cell_type": "code",
   "execution_count": 27,
   "id": "d7332711",
   "metadata": {},
   "outputs": [
    {
     "data": {
      "text/html": [
       "<div>\n",
       "<style scoped>\n",
       "    .dataframe tbody tr th:only-of-type {\n",
       "        vertical-align: middle;\n",
       "    }\n",
       "\n",
       "    .dataframe tbody tr th {\n",
       "        vertical-align: top;\n",
       "    }\n",
       "\n",
       "    .dataframe thead th {\n",
       "        text-align: right;\n",
       "    }\n",
       "</style>\n",
       "<table border=\"1\" class=\"dataframe\">\n",
       "  <thead>\n",
       "    <tr style=\"text-align: right;\">\n",
       "      <th></th>\n",
       "      <th>precipitation</th>\n",
       "      <th>temp_max</th>\n",
       "      <th>temp_min</th>\n",
       "      <th>wind</th>\n",
       "    </tr>\n",
       "    <tr>\n",
       "      <th>weather</th>\n",
       "      <th></th>\n",
       "      <th></th>\n",
       "      <th></th>\n",
       "      <th></th>\n",
       "    </tr>\n",
       "  </thead>\n",
       "  <tbody>\n",
       "    <tr>\n",
       "      <th>drizzle</th>\n",
       "      <td>0.000000</td>\n",
       "      <td>15.926415</td>\n",
       "      <td>7.111321</td>\n",
       "      <td>2.367925</td>\n",
       "    </tr>\n",
       "    <tr>\n",
       "      <th>fog</th>\n",
       "      <td>0.000000</td>\n",
       "      <td>16.757426</td>\n",
       "      <td>7.979208</td>\n",
       "      <td>2.481188</td>\n",
       "    </tr>\n",
       "    <tr>\n",
       "      <th>rain</th>\n",
       "      <td>6.557878</td>\n",
       "      <td>13.454602</td>\n",
       "      <td>7.588768</td>\n",
       "      <td>3.669891</td>\n",
       "    </tr>\n",
       "    <tr>\n",
       "      <th>snow</th>\n",
       "      <td>8.553846</td>\n",
       "      <td>5.573077</td>\n",
       "      <td>0.146154</td>\n",
       "      <td>4.411538</td>\n",
       "    </tr>\n",
       "    <tr>\n",
       "      <th>sun</th>\n",
       "      <td>0.000000</td>\n",
       "      <td>19.861875</td>\n",
       "      <td>9.343750</td>\n",
       "      <td>2.956406</td>\n",
       "    </tr>\n",
       "  </tbody>\n",
       "</table>\n",
       "</div>"
      ],
      "text/plain": [
       "         precipitation   temp_max  temp_min      wind\n",
       "weather                                              \n",
       "drizzle       0.000000  15.926415  7.111321  2.367925\n",
       "fog           0.000000  16.757426  7.979208  2.481188\n",
       "rain          6.557878  13.454602  7.588768  3.669891\n",
       "snow          8.553846   5.573077  0.146154  4.411538\n",
       "sun           0.000000  19.861875  9.343750  2.956406"
      ]
     },
     "execution_count": 27,
     "metadata": {},
     "output_type": "execute_result"
    }
   ],
   "source": [
    "weather.groupby(['weather']).mean()"
   ]
  },
  {
   "cell_type": "code",
   "execution_count": 28,
   "id": "e2da9a59",
   "metadata": {},
   "outputs": [
    {
     "name": "stdout",
     "output_type": "stream",
     "text": [
      "0\n"
     ]
    }
   ],
   "source": [
    "print(sum(list(pd.isna(weather['precipitation']))))"
   ]
  },
  {
   "cell_type": "markdown",
   "id": "b89aa1af",
   "metadata": {},
   "source": [
    "## Mini-project\n",
    "\n",
    "### Problem Description\n",
    "\n",
    "Suppose we need to select only the weekends of the `weather`, and find the days that satisfy `precipitation < 1.5`."
   ]
  },
  {
   "cell_type": "code",
   "execution_count": 65,
   "id": "8999cf69",
   "metadata": {},
   "outputs": [
    {
     "name": "stdout",
     "output_type": "stream",
     "text": [
      "Days with little rain: 1002\n"
     ]
    }
   ],
   "source": [
    "# Use binary selection to filter out days with precipitation < 1.5\n",
    "weatherLittleRain = weather[weather['precipitation'] < 1.5]\n",
    "print(\"Days with little rain:\",len(weatherLittleRain))"
   ]
  },
  {
   "cell_type": "code",
   "execution_count": 62,
   "id": "88087bce",
   "metadata": {},
   "outputs": [],
   "source": [
    "# Iterate through the date to find whether the date is weekends\n",
    "count = 0\n",
    "for i in weatherLittleRain['date']:\n",
    "     count += (datetime.strptime(i, '%Y-%m-%d').weekday() >= 5)"
   ]
  },
  {
   "cell_type": "code",
   "execution_count": 63,
   "id": "98f28749",
   "metadata": {},
   "outputs": [
    {
     "name": "stdout",
     "output_type": "stream",
     "text": [
      "Days to picnic: 291\n"
     ]
    }
   ],
   "source": [
    "print(\"Days to picnic:\", count)"
   ]
  },
  {
   "cell_type": "markdown",
   "id": "5f10e750",
   "metadata": {},
   "source": [
    "## Storing Objects in Python\n",
    "\n",
    "Usually we use `pickle` to store data."
   ]
  },
  {
   "cell_type": "code",
   "execution_count": null,
   "id": "6dcfb051",
   "metadata": {},
   "outputs": [],
   "source": [
    "import pickle"
   ]
  },
  {
   "cell_type": "markdown",
   "id": "43d8effc",
   "metadata": {},
   "source": [
    "(Usage to be discussed in side notes)"
   ]
  }
 ],
 "metadata": {
  "kernelspec": {
   "display_name": "Python 3",
   "language": "python",
   "name": "python3"
  },
  "language_info": {
   "codemirror_mode": {
    "name": "ipython",
    "version": 3
   },
   "file_extension": ".py",
   "mimetype": "text/x-python",
   "name": "python",
   "nbconvert_exporter": "python",
   "pygments_lexer": "ipython3",
   "version": "3.8.3"
  }
 },
 "nbformat": 4,
 "nbformat_minor": 5
}
