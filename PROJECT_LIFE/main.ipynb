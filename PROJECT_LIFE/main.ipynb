{
 "cells": [
  {
   "cell_type": "code",
   "execution_count": 1,
   "id": "47a2981e",
   "metadata": {},
   "outputs": [],
   "source": [
    "# -*- coding: utf-8 -*-\n",
    "%matplotlib inline"
   ]
  },
  {
   "cell_type": "markdown",
   "id": "234b54ce",
   "metadata": {},
   "source": [
    "# Life Game"
   ]
  },
  {
   "cell_type": "code",
   "execution_count": 7,
   "id": "577a4fd6",
   "metadata": {
    "scrolled": false
   },
   "outputs": [],
   "source": [
    "# Core Code\n",
    "\n",
    "import numpy as np\n",
    "import matplotlib as mpl\n",
    "import PIL\n",
    "from PIL import Image\n",
    "import matplotlib.pyplot as plt\n",
    "from matplotlib import cm\n",
    "from matplotlib.colors import ListedColormap, LinearSegmentedColormap\n",
    "import time\n",
    "\n",
    "# Game Configuration\n",
    "Config = {\n",
    "    \"width\": 60,\n",
    "    \"height\": 60,\n",
    "    \"resolution\": 60,\n",
    "    \"theme\": [\"white\", \"black\"],\n",
    "    \"initialization\": {\n",
    "        \"spawnCount\": 1800\n",
    "    },\n",
    "}\n",
    "\n",
    "# DPI configuration\n",
    "mpl.rcParams['figure.dpi'] = Config[\"resolution\"]\n",
    "\n",
    "# Stores an array of file names of saved images (per frame)\n",
    "ImageStream = []\n",
    "\n",
    "# Randomize every board\n",
    "np.random.seed(int(time.time()))\n",
    "\n",
    "# 1 is alive, 0 is dead, create initial canvas with spawnCount config\n",
    "Canvas = np.concatenate(\n",
    "    (\n",
    "        np.ones(Config[\"initialization\"][\"spawnCount\"]),\n",
    "        np.zeros(Config[\"width\"] * Config[\"height\"] - Config[\"initialization\"][\"spawnCount\"])\n",
    "    ),\n",
    "    axis=None\n",
    ")\n",
    "np.random.shuffle(Canvas)\n",
    "Canvas = Canvas.reshape(Config[\"height\"], Config[\"width\"])\n",
    "\n",
    "# Color map used by matplotlib\n",
    "Cmap = ListedColormap(Config[\"theme\"])\n",
    "\n",
    "# Initialize the board\n",
    "def initialize():\n",
    "    global Canvas\n",
    "    global Cmap\n",
    "    global ImageStream\n",
    "    Canvas = np.concatenate(\n",
    "        (\n",
    "            np.ones(Config[\"initialization\"][\"spawnCount\"]),\n",
    "            np.zeros(Config[\"width\"] * Config[\"height\"] - Config[\"initialization\"][\"spawnCount\"])\n",
    "        ),\n",
    "        axis=None\n",
    "    )\n",
    "    np.random.shuffle(Canvas)\n",
    "    Canvas = Canvas.reshape(Config[\"height\"], Config[\"width\"])\n",
    "    Cmap = ListedColormap([\"white\", \"black\"])\n",
    "    ImageStream = []\n",
    "\n",
    "# Do once\n",
    "initialize()\n",
    "\n",
    "FPSTimer = 0\n",
    "\n",
    "def fpsAdd(dt):\n",
    "    global FPSTimer\n",
    "    FPSTimer += dt\n",
    "def fpsShow():\n",
    "    global FPSTimer\n",
    "    print(\"FPS:\", 1/FPSTimer)\n",
    "    FPSTimer = 0\n",
    "# Decorators for performance analysis\n",
    "def draw_performance(func):\n",
    "    def inner():\n",
    "        print(FPSTimer)\n",
    "        beginTime = time.perf_counter()\n",
    "        output = func()\n",
    "        endTime = time.perf_counter()\n",
    "        fpsAdd(endTime - beginTime)\n",
    "        fpsShow()\n",
    "        return output\n",
    "    return inner\n",
    "def save_performance(func):\n",
    "    def inner(arg):\n",
    "        beginTime = time.perf_counter()\n",
    "        output = func(arg)\n",
    "        endTime = time.perf_counter()\n",
    "        fpsAdd(endTime - beginTime)\n",
    "        fpsShow()\n",
    "        return output\n",
    "    return inner\n",
    "def update_performance(func):\n",
    "    def inner(arg):\n",
    "        beginTime = time.perf_counter()\n",
    "        output = func(arg)\n",
    "        endTime = time.perf_counter()\n",
    "        fpsAdd(endTime - beginTime)\n",
    "        return output\n",
    "    return inner\n",
    "\n",
    "# Simply draw the function\n",
    "@draw_performance\n",
    "def draw() -> bool:\n",
    "    plt.grid(False)\n",
    "    plt.axis('off')\n",
    "    plt.imshow(Canvas, cmap = Cmap)\n",
    "    plt.show()\n",
    "    return True\n",
    "\n",
    "# Save the image to file\n",
    "@save_performance\n",
    "def save(fileName) -> bool:\n",
    "    plt.clf()\n",
    "    plt.grid(False)\n",
    "    plt.axis('off')\n",
    "    plt.imshow(Canvas, cmap = Cmap)\n",
    "    plt.savefig(fileName, transparent=True)\n",
    "    ImageStream.append(fileName)\n",
    "    return True\n",
    "\n",
    "# Updates the Canvas\n",
    "@update_performance\n",
    "def update(canvas, frameCount = 1):\n",
    "    updatedCanvas = canvas.copy()\n",
    "    def computeLife(canvas, xId, yId):\n",
    "        state = canvas[xId, yId] # Current status\n",
    "        s = np.sum(\n",
    "            canvas[\n",
    "                max(0, xId-1):min(Config[\"height\"]+1, xId+2),\n",
    "                max(0, yId-1):min(yId+2, Config[\"width\"] + 1)\n",
    "            ]\n",
    "        ) # 3x3 grid including center\n",
    "        if state: # Previously alive\n",
    "            return s - state == 2 or s - state == 3\n",
    "        else: # Previously dead\n",
    "            return s == 3\n",
    "    # Basic iteration\n",
    "    for xId in range(Config[\"height\"]):\n",
    "        for yId in range(Config[\"width\"]):\n",
    "            updatedCanvas[xId, yId] = computeLife(canvas, xId, yId)\n",
    "    return updatedCanvas"
   ]
  },
  {
   "cell_type": "code",
   "execution_count": 3,
   "id": "18541d99",
   "metadata": {},
   "outputs": [
    {
     "name": "stdout",
     "output_type": "stream",
     "text": [
      "0\n"
     ]
    },
    {
     "data": {
      "image/png": "[encoded data removed]",
      "text/plain": [
       "<Figure size 360x240 with 1 Axes>"
      ]
     },
     "metadata": {
      "needs_background": "light"
     },
     "output_type": "display_data"
    },
    {
     "name": "stdout",
     "output_type": "stream",
     "text": [
      "FPS: 14.156995245293269\n",
      "0.0427869790000841\n"
     ]
    },
    {
     "data": {
      "image/png": "[encoded data removed]",
      "text/plain": [
       "<Figure size 360x240 with 1 Axes>"
      ]
     },
     "metadata": {
      "needs_background": "light"
     },
     "output_type": "display_data"
    },
    {
     "name": "stdout",
     "output_type": "stream",
     "text": [
      "FPS: 10.824158226430566\n",
      "0.041751561999262776\n"
     ]
    },
    {
     "data": {
      "image/png": "[encoded data removed]",
      "text/plain": [
       "<Figure size 360x240 with 1 Axes>"
      ]
     },
     "metadata": {
      "needs_background": "light"
     },
     "output_type": "display_data"
    },
    {
     "name": "stdout",
     "output_type": "stream",
     "text": [
      "FPS: 10.89034221548991\n",
      "0.04164427099749446\n"
     ]
    },
    {
     "data": {
      "image/png": "[encoded data removed]",
      "text/plain": [
       "<Figure size 360x240 with 1 Axes>"
      ]
     },
     "metadata": {
      "needs_background": "light"
     },
     "output_type": "display_data"
    },
    {
     "name": "stdout",
     "output_type": "stream",
     "text": [
      "FPS: 10.843475462668202\n",
      "0.041813021001871675\n"
     ]
    },
    {
     "data": {
      "image/png": "[encoded data removed]",
      "text/plain": [
       "<Figure size 360x240 with 1 Axes>"
      ]
     },
     "metadata": {
      "needs_background": "light"
     },
     "output_type": "display_data"
    },
    {
     "name": "stdout",
     "output_type": "stream",
     "text": [
      "FPS: 10.684117391116594\n",
      "0.040642186999320984\n"
     ]
    },
    {
     "data": {
      "image/png": "[encoded data removed]",
      "text/plain": [
       "<Figure size 360x240 with 1 Axes>"
      ]
     },
     "metadata": {
      "needs_background": "light"
     },
     "output_type": "display_data"
    },
    {
     "name": "stdout",
     "output_type": "stream",
     "text": [
      "FPS: 10.855123773221482\n",
      "0.041600519994972274\n"
     ]
    },
    {
     "data": {
      "image/png": "[encoded data removed]",
      "text/plain": [
       "<Figure size 360x240 with 1 Axes>"
      ]
     },
     "metadata": {
      "needs_background": "light"
     },
     "output_type": "display_data"
    },
    {
     "name": "stdout",
     "output_type": "stream",
     "text": [
      "FPS: 10.754856605617514\n",
      "0.04205208300118102\n"
     ]
    },
    {
     "data": {
      "image/png": "[encoded data removed]",
      "text/plain": [
       "<Figure size 360x240 with 1 Axes>"
      ]
     },
     "metadata": {
      "needs_background": "light"
     },
     "output_type": "display_data"
    },
    {
     "name": "stdout",
     "output_type": "stream",
     "text": [
      "FPS: 9.993857975058352\n",
      "0.04307343799882801\n"
     ]
    },
    {
     "data": {
      "image/png": "[encoded data removed]",
      "text/plain": [
       "<Figure size 360x240 with 1 Axes>"
      ]
     },
     "metadata": {
      "needs_background": "light"
     },
     "output_type": "display_data"
    },
    {
     "name": "stdout",
     "output_type": "stream",
     "text": [
      "FPS: 10.82074191244104\n",
      "0.04129322899825638\n"
     ]
    },
    {
     "data": {
      "image/png": "[encoded data removed]",
      "text/plain": [
       "<Figure size 360x240 with 1 Axes>"
      ]
     },
     "metadata": {
      "needs_background": "light"
     },
     "output_type": "display_data"
    },
    {
     "name": "stdout",
     "output_type": "stream",
     "text": [
      "FPS: 10.690720731686973\n",
      "0.04290677099925233\n"
     ]
    },
    {
     "data": {
      "image/png": "[encoded data removed]",
      "text/plain": [
       "<Figure size 360x240 with 1 Axes>"
      ]
     },
     "metadata": {
      "needs_background": "light"
     },
     "output_type": "display_data"
    },
    {
     "name": "stdout",
     "output_type": "stream",
     "text": [
      "FPS: 10.607793357122645\n"
     ]
    }
   ],
   "source": [
    "# Play the game in real time with sequential frames\n",
    "initialize()\n",
    "draw()\n",
    "frame = 0\n",
    "while frame < 10:\n",
    "    frame += 1\n",
    "    Canvas = update(Canvas)\n",
    "    draw()"
   ]
  },
  {
   "cell_type": "code",
   "execution_count": 10,
   "id": "92785956",
   "metadata": {},
   "outputs": [
    {
     "name": "stdout",
     "output_type": "stream",
     "text": [
      "0\n"
     ]
    },
    {
     "data": {
      "image/png": "[encoded data removed]",
      "text/plain": [
       "<Figure size 360x240 with 1 Axes>"
      ]
     },
     "metadata": {
      "needs_background": "light"
     },
     "output_type": "display_data"
    },
    {
     "name": "stdout",
     "output_type": "stream",
     "text": [
      "FPS: 17.593050744267526\n",
      "FPS: 29.150534760133297\n",
      "FPS: 10.51242599822372\n",
      "FPS: 10.151264396734403\n",
      "FPS: 10.502362996177105\n",
      "FPS: 10.485385919745816\n",
      "FPS: 10.26419609610257\n",
      "FPS: 10.550899830110627\n",
      "FPS: 10.496391901961477\n",
      "FPS: 7.0150055599112155\n",
      "FPS: 10.625463555428773\n",
      "FPS: 9.674883567793952\n",
      "FPS: 10.197036521625302\n",
      "FPS: 10.377985751792977\n",
      "FPS: 10.102285743715377\n",
      "FPS: 10.194654177772469\n",
      "FPS: 10.458826631888778\n",
      "FPS: 10.552813460098491\n",
      "FPS: 10.251700677450845\n",
      "FPS: 9.898284828838792\n",
      "FPS: 10.43285487053232\n",
      "FPS: 10.397994036520112\n",
      "FPS: 10.572105022161166\n",
      "FPS: 10.347113263288344\n",
      "FPS: 9.817657433873208\n",
      "FPS: 10.51271377697882\n",
      "FPS: 10.484355412172462\n",
      "FPS: 9.976047012410419\n",
      "FPS: 10.635351427916\n",
      "FPS: 10.623993682200494\n",
      "FPS: 9.725064263878856\n",
      "FPS: 9.85191342640794\n",
      "FPS: 10.33424834495527\n",
      "FPS: 10.08392772353572\n",
      "FPS: 10.084669167442357\n",
      "FPS: 10.070282311931818\n",
      "FPS: 9.89864206279258\n",
      "FPS: 9.968278147443783\n",
      "FPS: 10.273587800495447\n",
      "FPS: 9.668355209011434\n",
      "FPS: 10.161848575575977\n",
      "FPS: 10.420115073309352\n",
      "FPS: 9.977446779837555\n",
      "FPS: 9.923044704359578\n",
      "FPS: 10.373275902169757\n",
      "FPS: 10.30463064339414\n",
      "FPS: 10.653172646926231\n",
      "FPS: 10.375125528245709\n",
      "FPS: 10.413502914177563\n",
      "FPS: 10.513059264006678\n",
      "FPS: 10.481379138251945\n",
      "FPS: 9.888344179231423\n",
      "FPS: 7.322291464342749\n",
      "FPS: 10.348396034341022\n",
      "FPS: 10.614713446229786\n",
      "FPS: 10.333080334235051\n",
      "FPS: 10.330133933056732\n",
      "FPS: 10.734652800550286\n",
      "FPS: 10.629640143955358\n",
      "FPS: 10.180059808037164\n",
      "FPS: 10.601233479506728\n",
      "FPS: 10.75431438618135\n",
      "FPS: 10.145363993029507\n",
      "FPS: 10.550146238049978\n",
      "FPS: 10.467550629853482\n",
      "FPS: 9.798467952684613\n",
      "FPS: 9.928843355642261\n",
      "FPS: 10.63788525802423\n",
      "FPS: 10.341317350878226\n",
      "FPS: 10.641894719854832\n",
      "FPS: 10.272818212179889\n",
      "FPS: 10.246175009761034\n",
      "FPS: 10.582185607202403\n",
      "FPS: 9.854644098192919\n",
      "FPS: 8.643431417184319\n",
      "FPS: 10.695842528275028\n",
      "FPS: 10.646556656138578\n",
      "FPS: 10.229143452213009\n",
      "FPS: 10.236396788350024\n",
      "FPS: 10.163193239781398\n",
      "FPS: 9.894306151639967\n",
      "FPS: 10.099256808836296\n",
      "FPS: 9.989802110229885\n",
      "FPS: 10.433818559508008\n",
      "FPS: 10.408422112310255\n",
      "FPS: 10.60293123100188\n",
      "FPS: 10.11633778345392\n",
      "FPS: 10.636824445823752\n",
      "FPS: 10.517839185633344\n",
      "FPS: 10.239126296019169\n",
      "FPS: 10.382475228785236\n",
      "FPS: 10.532609966330021\n",
      "FPS: 10.287183918131126\n",
      "FPS: 10.439548416457972\n",
      "FPS: 10.381184102964989\n",
      "FPS: 7.200071948796499\n",
      "FPS: 10.729733694421922\n",
      "FPS: 10.652640747405867\n",
      "FPS: 10.254602607237674\n",
      "FPS: 10.774773446004192\n",
      "FPS: 10.624934417558704\n",
      "FPS: 10.033759386003632\n",
      "FPS: 10.273477822408141\n",
      "FPS: 10.633760990017928\n",
      "FPS: 10.412599245928442\n",
      "FPS: 10.409832937123129\n",
      "FPS: 10.45614952188686\n",
      "FPS: 10.393659758952577\n",
      "FPS: 10.463386340370052\n",
      "FPS: 10.483611074885546\n",
      "FPS: 10.104412226055443\n",
      "FPS: 10.578279303661015\n",
      "FPS: 10.683522929984568\n",
      "FPS: 9.692172529649346\n",
      "FPS: 10.573385832346741\n",
      "FPS: 10.526719794233731\n",
      "FPS: 9.86720381598485\n",
      "FPS: 10.524930930752033\n",
      "FPS: 10.648564107856531\n",
      "FPS: 10.136098201335052\n",
      "FPS: 10.58481079672483\n",
      "FPS: 10.397994035733447\n",
      "FPS: 10.335249768031057\n",
      "FPS: 10.407519324040393\n",
      "FPS: 10.367338438378741\n",
      "FPS: 9.560277064411968\n",
      "FPS: 10.44221713998305\n",
      "FPS: 10.480635332984352\n",
      "FPS: 9.885238510436412\n",
      "FPS: 10.097344662783819\n",
      "FPS: 10.370922580100594\n",
      "FPS: 9.805824283344169\n",
      "FPS: 10.434499117193427\n",
      "FPS: 10.28878256554567\n",
      "FPS: 10.410623192051498\n",
      "FPS: 10.443182451493326\n",
      "FPS: 10.442217032084775\n",
      "FPS: 9.552286253972769\n",
      "FPS: 7.044682349270292\n",
      "FPS: 10.114845677318787\n",
      "FPS: 10.464811996797103\n",
      "FPS: 10.113513672610926\n",
      "FPS: 9.71846822097908\n",
      "FPS: 10.333803342408428\n",
      "FPS: 10.607910722428546\n",
      "FPS: 10.36213496042444\n",
      "FPS: 10.686020160233534\n",
      "FPS: 10.479777305000768\n",
      "FPS: 10.050356507305802\n",
      "FPS: 10.65938269803849\n",
      "FPS: 10.783366617553323\n",
      "FPS: 10.305294344613667\n",
      "FPS: 10.430474332057853\n",
      "FPS: 10.580669355661664\n",
      "FPS: 10.22462227268945\n",
      "FPS: 10.7383151107895\n",
      "FPS: 10.398444475464874\n",
      "FPS: 10.37871495055532\n",
      "FPS: 10.28128971267456\n",
      "FPS: 10.442046603988212\n",
      "FPS: 9.96139957640255\n",
      "FPS: 10.453075599916993\n",
      "FPS: 10.453758343741232\n",
      "FPS: 10.20050354560588\n",
      "FPS: 10.114739173586122\n",
      "FPS: 10.574492397722022\n",
      "FPS: 10.484355303401609\n",
      "FPS: 10.550320211480887\n",
      "FPS: 10.366890796589802\n",
      "FPS: 10.295127114805391\n",
      "FPS: 10.563845238890357\n",
      "FPS: 10.520951433098949\n",
      "FPS: 10.142684239537179\n",
      "FPS: 10.825378727488502\n",
      "FPS: 10.592577490324782\n",
      "FPS: 10.41661024301997\n",
      "FPS: 10.416214538984141\n",
      "FPS: 10.487562259313407\n",
      "FPS: 9.958351286470364\n",
      "FPS: 10.543020594967045\n",
      "FPS: 10.388542285221364\n",
      "FPS: 7.325084955470177\n",
      "FPS: 10.6033412513703\n",
      "FPS: 10.632818916455767\n",
      "FPS: 9.944940236204436\n",
      "FPS: 10.635528221986586\n",
      "FPS: 10.536077964201864\n",
      "FPS: 10.404643018576895\n",
      "FPS: 10.491401950866345\n",
      "FPS: 10.5941555200707\n",
      "FPS: 10.22690966016428\n",
      "FPS: 10.569311637408427\n",
      "FPS: 10.628933894177786\n",
      "FPS: 10.282335768916548\n",
      "FPS: 10.578920417766275\n",
      "FPS: 10.42186859037097\n",
      "FPS: 10.544641821515578\n",
      "FPS: 10.5426730243463\n",
      "FPS: 10.504144194138249\n",
      "FPS: 9.895682975264736\n",
      "FPS: 10.583118729456091\n",
      "FPS: 10.719190586357984\n",
      "FPS: 10.045781438697615\n",
      "FPS: 10.166852899286951\n",
      "FPS: 10.455921682331871\n",
      "FPS: 10.449548237488509\n",
      "FPS: 10.76589236500297\n",
      "FPS: 10.345161984164463\n",
      "FPS: 10.077470453451582\n",
      "FPS: 10.594331060677797\n",
      "FPS: 10.562276337993609\n",
      "FPS: 10.234214292257146\n",
      "FPS: 10.53301434312238\n",
      "FPS: 10.514556088300699\n",
      "FPS: 10.435519955391616\n",
      "FPS: 10.343434396367599\n",
      "FPS: 10.722842465779417\n",
      "FPS: 9.798567995827085\n",
      "FPS: 10.224839935717284\n",
      "FPS: 10.201750220473107\n",
      "FPS: 10.544178404618517\n",
      "FPS: 10.561695132762502\n",
      "FPS: 10.379949434013032\n",
      "FPS: 9.958609529315364\n",
      "FPS: 7.427552360164765\n",
      "FPS: 10.328522411440757\n",
      "FPS: 10.595734131971803\n",
      "FPS: 10.494613329530988\n",
      "FPS: 10.164269434111997\n",
      "FPS: 10.726197117711626\n",
      "FPS: 10.435066079263072\n",
      "FPS: 10.290436878601929\n",
      "FPS: 10.625933919894567\n",
      "FPS: 10.816474902707073\n",
      "FPS: 10.046780321228619\n",
      "FPS: 10.658435967003866\n",
      "FPS: 10.67585986334933\n",
      "FPS: 10.525969540128676\n",
      "FPS: 10.26386687684205\n",
      "FPS: 10.499893304831929\n",
      "FPS: 9.880151588616467\n",
      "FPS: 10.415762448723456\n",
      "FPS: 10.425490324112573\n",
      "FPS: 10.40656037965934\n",
      "FPS: 10.777434783783285\n",
      "FPS: 10.742761397450266\n",
      "FPS: 10.039583165362398\n",
      "FPS: 10.625698732045553\n",
      "FPS: 10.784880925348762\n",
      "FPS: 10.298440250353668\n",
      "FPS: 10.422208024592337\n",
      "FPS: 10.63305430608499\n",
      "FPS: 10.450230848760075\n",
      "FPS: 10.711536177732855\n",
      "FPS: 10.402219067736539\n",
      "FPS: 10.228762070477135\n",
      "FPS: 10.496334391428945\n",
      "FPS: 10.725118619503661\n",
      "FPS: 10.252685955042976\n",
      "FPS: 10.601935939120116\n",
      "FPS: 10.500524953232885\n",
      "FPS: 10.268642684723709\n",
      "FPS: 10.426679319983435\n",
      "FPS: 10.556410783786768\n",
      "FPS: 10.329578102286906\n",
      "FPS: 10.487734285253415\n",
      "FPS: 10.464869162418282\n",
      "FPS: 7.33726182601171\n",
      "FPS: 10.621466351357824\n",
      "FPS: 10.648859387743828\n",
      "FPS: 10.219506413384702\n",
      "FPS: 10.793065493868875\n",
      "FPS: 10.515650263330334\n",
      "FPS: 10.504546498874893\n",
      "FPS: 9.911314352265057\n",
      "FPS: 10.390959865515836\n",
      "FPS: 10.483038824759559\n",
      "FPS: 10.23290522114613\n",
      "FPS: 10.378097871437383\n",
      "FPS: 10.28856206613901\n",
      "FPS: 10.478404662294432\n",
      "FPS: 10.382924324945638\n",
      "FPS: 9.937579578165899\n",
      "FPS: 10.101807327618316\n",
      "FPS: 10.262056598151556\n",
      "FPS: 10.09872554452694\n",
      "FPS: 10.66642967227496\n",
      "FPS: 10.368906296030431\n",
      "FPS: 9.920019840352431\n",
      "FPS: 10.223805544664572\n",
      "FPS: 10.154431952295733\n",
      "FPS: 10.266281681588282\n",
      "FPS: 10.302142576577703\n",
      "FPS: 10.05404046729871\n",
      "FPS: 10.400359660312324\n",
      "FPS: 10.554611815018808\n",
      "FPS: 10.542615338725438\n",
      "FPS: 9.183395231251586\n",
      "FPS: 10.438924193503805\n",
      "FPS: 10.307507265598131\n",
      "FPS: 10.079322148678527\n",
      "FPS: 10.06484487688884\n",
      "FPS: 10.37843446120982\n",
      "FPS: 10.381127956173096\n",
      "FPS: 10.516110955469086\n",
      "FPS: 10.213309253678204\n",
      "FPS: 9.66436463767919\n",
      "FPS: 10.104199557519337\n",
      "FPS: 10.34884229460685\n",
      "FPS: 9.85428993532277\n",
      "FPS: 6.886336010572885\n",
      "FPS: 9.919404835635403\n",
      "FPS: 10.755278227314873\n",
      "FPS: 10.487046876313917\n",
      "FPS: 9.970452166055226\n",
      "FPS: 10.214558956089109\n",
      "FPS: 10.331189951823417\n",
      "FPS: 9.82690322646811\n",
      "FPS: 10.265458284119681\n",
      "FPS: 10.249621012921404\n",
      "FPS: 9.865885617088342\n",
      "FPS: 10.277272169940737\n",
      "FPS: 10.31309930039386\n",
      "FPS: 10.036696672088143\n",
      "FPS: 10.181679237852117\n",
      "FPS: 10.683641863259556\n",
      "FPS: 10.419662754208876\n",
      "FPS: 10.588663512324421\n",
      "FPS: 10.365995306076108\n",
      "FPS: 10.002448499410352\n",
      "FPS: 10.417740453455579\n",
      "FPS: 10.573152964854296\n",
      "FPS: 10.024068289367928\n",
      "FPS: 10.149386279716943\n",
      "FPS: 10.359116058404002\n",
      "FPS: 10.24885501095916\n",
      "FPS: 10.282501021915861\n",
      "FPS: 10.629816636385195\n",
      "FPS: 9.980558670028191\n",
      "FPS: 10.55728151876076\n",
      "FPS: 10.283051797695183\n",
      "FPS: 10.17073056152728\n",
      "FPS: 10.184757925120438\n",
      "FPS: 10.327244562359509\n",
      "FPS: 10.07260667289649\n",
      "FPS: 10.645021674842287\n",
      "FPS: 10.642248637033552\n"
     ]
    },
    {
     "name": "stdout",
     "output_type": "stream",
     "text": [
      "FPS: 10.409607109187819\n",
      "FPS: 10.33819919598015\n",
      "FPS: 10.722363253730526\n",
      "FPS: 10.426452653761672\n",
      "FPS: 10.42209494984074\n",
      "FPS: 9.75738667874164\n",
      "FPS: 6.838118258720399\n",
      "FPS: 10.331579117218666\n",
      "FPS: 10.476975192347144\n",
      "FPS: 10.169814856411527\n",
      "FPS: 10.49042759599355\n",
      "FPS: 10.169491664439878\n",
      "FPS: 10.121510761567567\n",
      "FPS: 10.070440617668305\n",
      "FPS: 10.38337356899823\n",
      "FPS: 10.201154109900752\n",
      "FPS: 10.34884218707112\n",
      "FPS: 10.367226766145615\n",
      "FPS: 10.173209574749748\n",
      "FPS: 10.167229782107972\n",
      "FPS: 9.96869212527101\n",
      "FPS: 10.000156302527209\n",
      "FPS: 10.522912014672844\n",
      "FPS: 10.692090119638685\n",
      "FPS: 10.113087579430044\n",
      "FPS: 10.216189484812713\n",
      "FPS: 10.171107628022758\n",
      "FPS: 10.211136486463069\n",
      "FPS: 10.380734942498552\n",
      "FPS: 10.474517426148925\n",
      "FPS: 10.524873215867382\n",
      "FPS: 10.650395248305724\n",
      "FPS: 10.378602708638539\n",
      "FPS: 10.406786073055954\n",
      "FPS: 10.746429243497131\n",
      "FPS: 10.669511869967131\n",
      "FPS: 10.127650424851549\n",
      "FPS: 10.641304946175138\n",
      "FPS: 10.720627271947857\n",
      "FPS: 10.448126738995\n",
      "FPS: 10.222118142688046\n",
      "FPS: 10.615535227538869\n",
      "FPS: 10.326744707461957\n",
      "FPS: 10.754856374180886\n",
      "FPS: 10.391072264885738\n",
      "FPS: 10.324412341913167\n",
      "FPS: 10.496219592693604\n",
      "FPS: 10.687090922061703\n",
      "FPS: 10.21227708870902\n",
      "FPS: 7.380612830417782\n",
      "FPS: 10.208693358055276\n",
      "FPS: 10.547653915148727\n",
      "FPS: 10.430984387143884\n",
      "FPS: 10.193409237254306\n",
      "FPS: 10.41858846159612\n",
      "FPS: 10.372155103198304\n",
      "FPS: 9.904565352412158\n",
      "FPS: 10.334804571216111\n",
      "FPS: 10.26699537028333\n",
      "FPS: 9.736604594049687\n",
      "FPS: 10.346109647482056\n",
      "FPS: 10.255040708972965\n",
      "FPS: 10.27496220178648\n",
      "FPS: 10.249347457729941\n",
      "FPS: 10.607676220378014\n",
      "FPS: 10.092037260377822\n",
      "FPS: 10.367450651067552\n",
      "FPS: 10.116924227159169\n",
      "FPS: 9.957163486466962\n",
      "FPS: 10.369690241137677\n",
      "FPS: 10.306843278542733\n",
      "FPS: 10.133583840933118\n",
      "FPS: 10.420510967102851\n",
      "FPS: 10.368738254097362\n",
      "FPS: 9.913156584703884\n",
      "FPS: 10.179951926547137\n",
      "FPS: 10.383710499504465\n",
      "FPS: 10.012045792210287\n",
      "FPS: 10.466009979134899\n",
      "FPS: 10.203593629890369\n",
      "FPS: 10.060520267275347\n",
      "FPS: 10.380903481713712\n",
      "FPS: 10.498400542176181\n",
      "FPS: 9.95783474355937\n",
      "FPS: 10.440570244505858\n",
      "FPS: 10.334359628777772\n",
      "FPS: 9.809030438466122\n",
      "FPS: 10.017269371981474\n",
      "FPS: 10.278702706300228\n",
      "FPS: 10.118630418953051\n",
      "FPS: 10.318031869694549\n",
      "FPS: 10.074245070363931\n",
      "FPS: 7.060978141502757\n",
      "FPS: 10.45205132508694\n",
      "FPS: 10.597722574826035\n",
      "FPS: 9.874562250825502\n",
      "FPS: 10.578745499837229\n",
      "FPS: 10.457402497484734\n",
      "FPS: 10.092620890726042\n",
      "FPS: 10.041158306197909\n",
      "FPS: 10.433478478699461\n",
      "FPS: 10.240873853099764\n",
      "FPS: 10.25334308716182\n",
      "FPS: 10.466009979134899\n",
      "FPS: 9.677858448287695\n",
      "FPS: 10.195412099647584\n",
      "FPS: 10.02757583353873\n",
      "FPS: 10.190758256234647\n",
      "FPS: 10.532205510012549\n",
      "FPS: 10.241365427864471\n",
      "FPS: 9.873089627116387\n",
      "FPS: 10.418023179622702\n",
      "FPS: 10.176714370778114\n",
      "FPS: 10.107976334051285\n",
      "FPS: 10.051408734770568\n",
      "FPS: 10.302142470782535\n",
      "FPS: 10.283492333692777\n",
      "FPS: 10.363645070976984\n",
      "FPS: 10.104837589242749\n",
      "FPS: 10.38472142458677\n",
      "FPS: 10.231487403219653\n",
      "FPS: 10.138774475362412\n",
      "FPS: 9.862794231282933\n",
      "FPS: 10.308724762367712\n",
      "FPS: 10.193842334495997\n",
      "FPS: 10.017948857864019\n",
      "FPS: 10.072289730150416\n",
      "FPS: 10.464526834592146\n",
      "FPS: 10.036014639969368\n",
      "FPS: 10.42113320788556\n",
      "FPS: 10.043889789097474\n",
      "FPS: 9.69354262401538\n",
      "FPS: 10.383991274893086\n",
      "FPS: 10.600765186381043\n",
      "FPS: 9.729598122206225\n",
      "FPS: 7.428414413296652\n",
      "FPS: 10.274082521741171\n",
      "FPS: 10.574201226775866\n",
      "FPS: 10.58014455729711\n",
      "FPS: 10.50259286420624\n",
      "FPS: 10.670519891545181\n",
      "FPS: 10.652463495421602\n",
      "FPS: 9.811787448094703\n",
      "FPS: 10.317920938012445\n",
      "FPS: 10.157117917826858\n",
      "FPS: 9.658627871434353\n",
      "FPS: 10.247596903060447\n",
      "FPS: 10.323191138577357\n",
      "FPS: 10.173748601766517\n",
      "FPS: 9.637586556256768\n",
      "FPS: 10.571522960019923\n",
      "FPS: 10.245792358515548\n",
      "FPS: 10.615241792811123\n",
      "FPS: 10.375910737599096\n",
      "FPS: 10.336418161223945\n"
     ]
    },
    {
     "data": {
      "image/png": "[encoded data removed]",
      "text/plain": [
       "<Figure size 360x240 with 1 Axes>"
      ]
     },
     "metadata": {
      "needs_background": "light"
     },
     "output_type": "display_data"
    }
   ],
   "source": [
    "# Play the game but wait for results\n",
    "initialize()\n",
    "draw()\n",
    "frame = 0\n",
    "save(\"out\"+str(frame)+\".png\")\n",
    "while frame < 500:\n",
    "    frame += 1\n",
    "    Canvas = update(Canvas)\n",
    "    save(\"out\"+str(frame)+\".png\")"
   ]
  },
  {
   "cell_type": "code",
   "execution_count": 11,
   "id": "d76e5c19",
   "metadata": {},
   "outputs": [
    {
     "name": "stdout",
     "output_type": "stream",
     "text": [
      "Frames: 501\n"
     ]
    }
   ],
   "source": [
    "Frames = []\n",
    "print(\"Frames:\", len(ImageStream))\n",
    "for i in ImageStream:\n",
    "    newFrame = Image.open(i)\n",
    "    Frames.append(newFrame)\n",
    "Frames[0].save('life9.gif', format='GIF',\n",
    "               append_images=Frames[1:],\n",
    "               save_all=True,\n",
    "               duration=3, loop=0)"
   ]
  },
  {
   "cell_type": "markdown",
   "id": "53751f06",
   "metadata": {},
   "source": [
    "Remember to **update this markdown block** for best view!\n",
    "![](life9.gif)"
   ]
  },
  {
   "cell_type": "markdown",
   "id": "cc779e65",
   "metadata": {},
   "source": [
    "Hope you enjoy this mini-project!"
   ]
  },
  {
   "cell_type": "markdown",
   "id": "5c27a171",
   "metadata": {},
   "source": [
    "## References\n",
    "\n",
    "1. [Creating Colormaps in Matplotlib](https://matplotlib.org/stable/tutorials/colors/colormap-manipulation.html#sphx-glr-tutorials-colors-colormap-manipulation-py)\n",
    "\n",
    "2. [Workaround about global variables](https://careerkarma.com/blog/python-local-variable-referenced-before-assignment/#:~:text=The%20UnboundLocalError%3A%20local%20variable%20referenced%20before%20assignment%20error,is%20declared%20before%20you%20assign%20it%20a%20value.)\n",
    "\n",
    "3. [PNG to GIF using PIL](https://pythonprogramming.altervista.org/png-to-gif/)\n",
    "\n",
    "4. Official documentations."
   ]
  }
 ],
 "metadata": {
  "kernelspec": {
   "display_name": "Python 3",
   "language": "python",
   "name": "python3"
  },
  "language_info": {
   "codemirror_mode": {
    "name": "ipython",
    "version": 3
   },
   "file_extension": ".py",
   "mimetype": "text/x-python",
   "name": "python",
   "nbconvert_exporter": "python",
   "pygments_lexer": "ipython3",
   "version": "3.8.3"
  }
 },
 "nbformat": 4,
 "nbformat_minor": 5
}
