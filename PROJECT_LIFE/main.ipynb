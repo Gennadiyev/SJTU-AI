{
 "cells": [
  {
   "cell_type": "code",
   "execution_count": 1,
   "id": "47a2981e",
   "metadata": {},
   "outputs": [],
   "source": [
    "# -*- coding: utf-8 -*-\n",
    "%matplotlib inline"
   ]
  },
  {
   "cell_type": "markdown",
   "id": "234b54ce",
   "metadata": {},
   "source": [
    "# Life Game"
   ]
  },
  {
   "cell_type": "code",
   "execution_count": 2,
   "id": "577a4fd6",
   "metadata": {
    "scrolled": false
   },
   "outputs": [],
   "source": [
    "# Core Code\n",
    "\n",
    "import numpy as np\n",
    "import matplotlib as mpl\n",
    "import PIL\n",
    "from PIL import Image\n",
    "import matplotlib.pyplot as plt\n",
    "from matplotlib import cm\n",
    "from matplotlib.colors import ListedColormap, LinearSegmentedColormap\n",
    "import time\n",
    "\n",
    "# Game Configuration\n",
    "Config = {\n",
    "    \"width\": 60,\n",
    "    \"height\": 60,\n",
    "    \"resolution\": 60,\n",
    "    \"theme\": [\"white\", \"black\"],\n",
    "    \"initialization\": {\n",
    "        \"spawnCount\": 1800\n",
    "    },\n",
    "}\n",
    "\n",
    "# DPI configuration\n",
    "mpl.rcParams['figure.dpi'] = Config[\"resolution\"]\n",
    "\n",
    "# Stores an array of file names of saved images (per frame)\n",
    "ImageStream = []\n",
    "\n",
    "# Randomize every board\n",
    "np.random.seed(int(time.time()))\n",
    "\n",
    "# 1 is alive, 0 is dead, create initial canvas with spawnCount config\n",
    "Canvas = np.concatenate(\n",
    "    (\n",
    "        np.ones(Config[\"initialization\"][\"spawnCount\"]),\n",
    "        np.zeros(Config[\"width\"] * Config[\"height\"] - Config[\"initialization\"][\"spawnCount\"])\n",
    "    ),\n",
    "    axis=None\n",
    ")\n",
    "np.random.shuffle(Canvas)\n",
    "Canvas = Canvas.reshape(Config[\"height\"], Config[\"width\"])\n",
    "\n",
    "# Color map used by matplotlib\n",
    "Cmap = ListedColormap(Config[\"theme\"])\n",
    "\n",
    "# Initialize the board\n",
    "def initialize():\n",
    "    global Canvas\n",
    "    global Cmap\n",
    "    global ImageStream\n",
    "    Canvas = np.concatenate(\n",
    "        (\n",
    "            np.ones(Config[\"initialization\"][\"spawnCount\"]),\n",
    "            np.zeros(Config[\"width\"] * Config[\"height\"] - Config[\"initialization\"][\"spawnCount\"])\n",
    "        ),\n",
    "        axis=None\n",
    "    )\n",
    "    np.random.shuffle(Canvas)\n",
    "    Canvas = Canvas.reshape(Config[\"height\"], Config[\"width\"])\n",
    "    Cmap = ListedColormap([\"white\", \"black\"])\n",
    "    ImageStream = []\n",
    "\n",
    "# Do once\n",
    "initialize()\n",
    "\n",
    "FPSTimer = 0\n",
    "\n",
    "def fpsAdd(dt):\n",
    "    global FPSTimer\n",
    "    FPSTimer += dt\n",
    "def fpsShow():\n",
    "    global FPSTimer\n",
    "    print(\"FPS:\", 1/FPSTimer)\n",
    "    FPSTimer = 0\n",
    "# Decorators for performance analysis\n",
    "def draw_performance(func):\n",
    "    def inner():\n",
    "        print(FPSTimer)\n",
    "        beginTime = time.perf_counter()\n",
    "        output = func()\n",
    "        endTime = time.perf_counter()\n",
    "        fpsAdd(endTime - beginTime)\n",
    "        fpsShow()\n",
    "        return output\n",
    "    return inner\n",
    "def save_performance(func):\n",
    "    def inner(arg):\n",
    "        beginTime = time.perf_counter()\n",
    "        output = func(arg)\n",
    "        endTime = time.perf_counter()\n",
    "        fpsAdd(endTime - beginTime)\n",
    "        fpsShow()\n",
    "        return output\n",
    "    return inner\n",
    "def update_performance(func):\n",
    "    def inner(arg):\n",
    "        beginTime = time.perf_counter()\n",
    "        output = func(arg)\n",
    "        endTime = time.perf_counter()\n",
    "        fpsAdd(endTime - beginTime)\n",
    "        return output\n",
    "    return inner\n",
    "\n",
    "# Simply draw the function\n",
    "@draw_performance\n",
    "def draw() -> bool:\n",
    "    plt.grid(False)\n",
    "    plt.axis('off')\n",
    "    plt.imshow(Canvas, cmap = Cmap)\n",
    "    plt.show()\n",
    "    return True\n",
    "\n",
    "# Save the image to file\n",
    "@save_performance\n",
    "def save(fileName) -> bool:\n",
    "    plt.grid(False)\n",
    "    plt.axis('off')\n",
    "    plt.imshow(Canvas, cmap = Cmap)\n",
    "    plt.savefig(fileName, transparent=True)\n",
    "    ImageStream.append(fileName)\n",
    "    return True\n",
    "\n",
    "# Updates the Canvas\n",
    "@update_performance\n",
    "def update(canvas, frameCount = 1):\n",
    "    updatedCanvas = canvas.copy()\n",
    "    def computeLife(canvas, xId, yId):\n",
    "        state = canvas[xId, yId] # Current status\n",
    "        s = np.sum(\n",
    "            canvas[\n",
    "                max(0, xId-1):min(Config[\"height\"]+1, xId+2),\n",
    "                max(0, yId-1):min(yId+2, Config[\"width\"] + 1)\n",
    "            ]\n",
    "        ) # 3x3 grid including center\n",
    "        if state: # Previously alive\n",
    "            return s - state == 2 or s - state == 3\n",
    "        else: # Previously dead\n",
    "            return s == 3\n",
    "    # Basic iteration\n",
    "    for xId in range(Config[\"height\"]):\n",
    "        for yId in range(Config[\"width\"]):\n",
    "            updatedCanvas[xId, yId] = computeLife(canvas, xId, yId)\n",
    "    return updatedCanvas"
   ]
  },
  {
   "cell_type": "code",
   "execution_count": 3,
   "id": "18541d99",
   "metadata": {},
   "outputs": [
    {
     "name": "stdout",
     "output_type": "stream",
     "text": [
      "0\n"
     ]
    },
    {
     "data": {
      "image/png": "[encoded data removed]",
      "text/plain": [
       "<Figure size 360x240 with 1 Axes>"
      ]
     },
     "metadata": {
      "needs_background": "light"
     },
     "output_type": "display_data"
    },
    {
     "name": "stdout",
     "output_type": "stream",
     "text": [
      "FPS: 17.562474948568443\n",
      "0.04273593800098752\n"
     ]
    },
    {
     "data": {
      "image/png": "[encoded data removed]",
      "text/plain": [
       "<Figure size 360x240 with 1 Axes>"
      ]
     },
     "metadata": {
      "needs_background": "light"
     },
     "output_type": "display_data"
    },
    {
     "name": "stdout",
     "output_type": "stream",
     "text": [
      "FPS: 10.78033927861865\n",
      "0.042458332998648984\n"
     ]
    },
    {
     "data": {
      "image/png": "[encoded data removed]",
      "text/plain": [
       "<Figure size 360x240 with 1 Axes>"
      ]
     },
     "metadata": {
      "needs_background": "light"
     },
     "output_type": "display_data"
    },
    {
     "name": "stdout",
     "output_type": "stream",
     "text": [
      "FPS: 10.380679015393794\n",
      "0.04307916700054193\n"
     ]
    },
    {
     "data": {
      "image/png": "[encoded data removed]",
      "text/plain": [
       "<Figure size 360x240 with 1 Axes>"
      ]
     },
     "metadata": {
      "needs_background": "light"
     },
     "output_type": "display_data"
    },
    {
     "name": "stdout",
     "output_type": "stream",
     "text": [
      "FPS: 10.573560573076668\n",
      "0.042145313000219176\n"
     ]
    },
    {
     "data": {
      "image/png": "[encoded data removed]",
      "text/plain": [
       "<Figure size 360x240 with 1 Axes>"
      ]
     },
     "metadata": {
      "needs_background": "light"
     },
     "output_type": "display_data"
    },
    {
     "name": "stdout",
     "output_type": "stream",
     "text": [
      "FPS: 10.390734856076188\n",
      "0.042050521002238384\n"
     ]
    },
    {
     "data": {
      "image/png": "[encoded data removed]",
      "text/plain": [
       "<Figure size 360x240 with 1 Axes>"
      ]
     },
     "metadata": {
      "needs_background": "light"
     },
     "output_type": "display_data"
    },
    {
     "name": "stdout",
     "output_type": "stream",
     "text": [
      "FPS: 10.417457958987034\n",
      "0.041366665998793906\n"
     ]
    },
    {
     "data": {
      "image/png": "[encoded data removed]",
      "text/plain": [
       "<Figure size 360x240 with 1 Axes>"
      ]
     },
     "metadata": {
      "needs_background": "light"
     },
     "output_type": "display_data"
    },
    {
     "name": "stdout",
     "output_type": "stream",
     "text": [
      "FPS: 10.657962720749332\n",
      "0.041023957997822436\n"
     ]
    },
    {
     "data": {
      "image/png": "[encoded data removed]",
      "text/plain": [
       "<Figure size 360x240 with 1 Axes>"
      ]
     },
     "metadata": {
      "needs_background": "light"
     },
     "output_type": "display_data"
    },
    {
     "name": "stdout",
     "output_type": "stream",
     "text": [
      "FPS: 10.622112823622716\n",
      "0.04333385400241241\n"
     ]
    },
    {
     "data": {
      "image/png": "[encoded data removed]",
      "text/plain": [
       "<Figure size 360x240 with 1 Axes>"
      ]
     },
     "metadata": {
      "needs_background": "light"
     },
     "output_type": "display_data"
    },
    {
     "name": "stdout",
     "output_type": "stream",
     "text": [
      "FPS: 10.735493143821056\n",
      "0.04174583400163101\n"
     ]
    },
    {
     "data": {
      "image/png": "[encoded data removed]",
      "text/plain": [
       "<Figure size 360x240 with 1 Axes>"
      ]
     },
     "metadata": {
      "needs_background": "light"
     },
     "output_type": "display_data"
    },
    {
     "name": "stdout",
     "output_type": "stream",
     "text": [
      "FPS: 10.475260252691605\n",
      "0.04166510399954859\n"
     ]
    },
    {
     "data": {
      "image/png": "[encoded data removed]",
      "text/plain": [
       "<Figure size 360x240 with 1 Axes>"
      ]
     },
     "metadata": {
      "needs_background": "light"
     },
     "output_type": "display_data"
    },
    {
     "name": "stdout",
     "output_type": "stream",
     "text": [
      "FPS: 10.842924387753184\n"
     ]
    }
   ],
   "source": [
    "# Play the game in real time with sequential frames\n",
    "initialize()\n",
    "draw()\n",
    "frame = 0\n",
    "while frame < 10:\n",
    "    frame += 1\n",
    "    Canvas = update(Canvas)\n",
    "    draw()"
   ]
  },
  {
   "cell_type": "code",
   "execution_count": 6,
   "id": "92785956",
   "metadata": {},
   "outputs": [
    {
     "name": "stdout",
     "output_type": "stream",
     "text": [
      "0\n"
     ]
    },
    {
     "data": {
      "image/png": "[encoded data removed]",
      "text/plain": [
       "<Figure size 360x240 with 1 Axes>"
      ]
     },
     "metadata": {
      "needs_background": "light"
     },
     "output_type": "display_data"
    },
    {
     "name": "stdout",
     "output_type": "stream",
     "text": [
      "FPS: 17.315236556353327\n",
      "FPS: 29.27855760166823\n",
      "FPS: 14.011428168823556\n",
      "FPS: 12.276371769983742\n",
      "FPS: 11.28316623239719\n",
      "FPS: 10.494211786065456\n",
      "FPS: 9.387421817784954\n",
      "FPS: 8.753493354920257\n",
      "FPS: 8.35142084053327\n",
      "FPS: 7.88303543015233\n",
      "FPS: 7.130813300927254\n",
      "FPS: 6.75240816022019\n",
      "FPS: 6.414132478751298\n",
      "FPS: 6.09318770139327\n",
      "FPS: 5.950536144560783\n",
      "FPS: 5.696957490308278\n",
      "FPS: 5.418432841043981\n",
      "FPS: 4.866833791164842\n",
      "FPS: 4.803626730482813\n",
      "FPS: 4.513006622764889\n",
      "FPS: 4.41450349633875\n",
      "FPS: 4.175338113267719\n",
      "FPS: 4.199346488451892\n",
      "FPS: 4.189496121248577\n",
      "FPS: 4.089535271005085\n",
      "FPS: 3.903756140248729\n",
      "FPS: 3.7793713228129038\n",
      "FPS: 3.6669423351711603\n",
      "FPS: 3.571913611762133\n",
      "FPS: 3.431089605220109\n",
      "FPS: 3.373339031551767\n",
      "FPS: 3.3034531372064215\n",
      "FPS: 3.2103158285950246\n",
      "FPS: 3.1150626289889596\n",
      "FPS: 2.8049056565998183\n",
      "FPS: 2.9699294671039422\n",
      "FPS: 2.9183855276623105\n",
      "FPS: 2.83497772152252\n",
      "FPS: 2.6006710329364116\n",
      "FPS: 2.5487684217059545\n",
      "FPS: 2.633799045884384\n",
      "FPS: 2.617379950427042\n",
      "FPS: 2.5503494840651286\n",
      "FPS: 2.496469841851737\n",
      "FPS: 2.4762882523097423\n",
      "FPS: 2.505817537310639\n",
      "FPS: 2.464929318405092\n",
      "FPS: 2.3470247137399234\n",
      "FPS: 2.2691548597079696\n",
      "FPS: 2.3141117426531315\n",
      "FPS: 2.2782854452041543\n",
      "FPS: 2.225903723535997\n",
      "FPS: 2.0911479094982437\n",
      "FPS: 2.101550881095554\n",
      "FPS: 2.057690349054536\n",
      "FPS: 2.0215569616136357\n",
      "FPS: 1.9972724767769323\n",
      "FPS: 1.8564464123321154\n",
      "FPS: 1.8422709070779382\n",
      "FPS: 1.837220364957348\n",
      "FPS: 1.8560569826723434\n",
      "FPS: 1.8560085410861924\n",
      "FPS: 1.8191689223956027\n",
      "FPS: 1.7995945293931859\n",
      "FPS: 1.756734376677756\n",
      "FPS: 1.747004612960537\n",
      "FPS: 1.730432812989607\n",
      "FPS: 1.7016102368317374\n",
      "FPS: 1.6872001255810687\n",
      "FPS: 1.6234370199824713\n",
      "FPS: 1.5591464659770782\n",
      "FPS: 1.5490241962322109\n",
      "FPS: 1.59529123120497\n",
      "FPS: 1.5889146736594317\n",
      "FPS: 1.55787126750075\n",
      "FPS: 1.5302084697306424\n",
      "FPS: 1.488188666227225\n",
      "FPS: 1.5105728292950165\n",
      "FPS: 1.486949693811774\n",
      "FPS: 1.4265981824132135\n",
      "FPS: 1.4374345390533312\n",
      "FPS: 1.4228851809816583\n",
      "FPS: 1.4100974716597114\n",
      "FPS: 1.4538934039692386\n",
      "FPS: 1.3459855979478064\n",
      "FPS: 1.369524932391609\n",
      "FPS: 1.3502992820905493\n",
      "FPS: 1.3189847941850867\n",
      "FPS: 1.3006270780943403\n",
      "FPS: 1.310497909019161\n",
      "FPS: 1.3103065167609407\n",
      "FPS: 1.2869193382337722\n",
      "FPS: 1.2674948945623314\n",
      "FPS: 1.245862535675361\n",
      "FPS: 1.208316998145687\n",
      "FPS: 1.205497067109905\n",
      "FPS: 1.206617541388997\n",
      "FPS: 1.205015879078647\n",
      "FPS: 1.1836858497757061\n",
      "FPS: 1.1079750541997657\n",
      "FPS: 1.143757852818898\n",
      "FPS: 1.1641005951035497\n",
      "FPS: 1.1515948695905647\n",
      "FPS: 1.1407277847619646\n",
      "FPS: 1.120893633074211\n",
      "FPS: 1.1086288861051687\n",
      "FPS: 1.1000677812292745\n",
      "FPS: 1.0999581211838116\n",
      "FPS: 1.0817620555577225\n",
      "FPS: 1.073016540487254\n",
      "FPS: 1.006313042477709\n",
      "FPS: 1.0019496266504162\n",
      "FPS: 0.9841394656731586\n",
      "FPS: 0.9873313051919625\n",
      "FPS: 0.9797892944303026\n",
      "FPS: 0.9739182672021367\n",
      "FPS: 0.9659050601242437\n",
      "FPS: 0.9451660909391556\n",
      "FPS: 0.9993415798009702\n",
      "FPS: 0.9885243649735163\n",
      "FPS: 0.9436155315658628\n",
      "FPS: 0.9731195990633843\n",
      "FPS: 0.9593754471980791\n",
      "FPS: 0.9524404799127844\n",
      "FPS: 0.9444519588718133\n",
      "FPS: 0.9358125226797316\n",
      "FPS: 0.9292546796717254\n",
      "FPS: 0.9307010643971856\n",
      "FPS: 0.9194213391923809\n",
      "FPS: 0.923141277099453\n",
      "FPS: 0.8707715987503165\n",
      "FPS: 0.8750668838775079\n",
      "FPS: 0.8612522615284016\n",
      "FPS: 0.9123888156021459\n",
      "FPS: 0.893427583607513\n",
      "FPS: 0.8716124014820458\n",
      "FPS: 0.8660699503598754\n",
      "FPS: 0.8616267786559988\n",
      "FPS: 0.8507327376383053\n",
      "FPS: 0.852590632403736\n",
      "FPS: 0.845429134542046\n",
      "FPS: 0.836267164826444\n",
      "FPS: 0.827794225533103\n",
      "FPS: 0.8319143128272292\n",
      "FPS: 0.8213836988540378\n",
      "FPS: 0.8322965747847036\n",
      "FPS: 0.8090243298442583\n",
      "FPS: 0.794642782814369\n",
      "FPS: 0.7971664056881121\n",
      "FPS: 0.7918273522569453\n",
      "FPS: 0.7931858727846127\n",
      "FPS: 0.7871175102905671\n"
     ]
    },
    {
     "data": {
      "image/png": "[encoded data removed]",
      "text/plain": [
       "<Figure size 360x240 with 1 Axes>"
      ]
     },
     "metadata": {
      "needs_background": "light"
     },
     "output_type": "display_data"
    }
   ],
   "source": [
    "# Play the game but wait for results\n",
    "initialize()\n",
    "draw()\n",
    "frame = 0\n",
    "save(\"out\"+str(frame)+\".png\")\n",
    "while frame < 150:\n",
    "    frame += 1\n",
    "    Canvas = update(Canvas)\n",
    "    save(\"out\"+str(frame)+\".png\")"
   ]
  },
  {
   "cell_type": "code",
   "execution_count": 9,
   "id": "d76e5c19",
   "metadata": {},
   "outputs": [
    {
     "name": "stdout",
     "output_type": "stream",
     "text": [
      "Frames: 151\n"
     ]
    }
   ],
   "source": [
    "Frames = []\n",
    "print(\"Frames:\", len(ImageStream))\n",
    "for i in ImageStream:\n",
    "    newFrame = Image.open(i)\n",
    "    Frames.append(newFrame)\n",
    "Frames[0].save('life6.gif', format='GIF',\n",
    "               append_images=Frames[1:],\n",
    "               save_all=True,\n",
    "               duration=3, loop=0, size=(500,500))"
   ]
  },
  {
   "cell_type": "markdown",
   "id": "53751f06",
   "metadata": {},
   "source": [
    "Remember to **update this markdown block** for best view!\n",
    "![](life6.gif)\n"
   ]
  },
  {
   "cell_type": "markdown",
   "id": "cc779e65",
   "metadata": {},
   "source": [
    "Hope you enjoy this mini-project!"
   ]
  },
  {
   "cell_type": "markdown",
   "id": "5c27a171",
   "metadata": {},
   "source": [
    "## References\n",
    "\n",
    "1. [Creating Colormaps in Matplotlib](https://matplotlib.org/stable/tutorials/colors/colormap-manipulation.html#sphx-glr-tutorials-colors-colormap-manipulation-py)\n",
    "\n",
    "2. [Workaround about global variables](https://careerkarma.com/blog/python-local-variable-referenced-before-assignment/#:~:text=The%20UnboundLocalError%3A%20local%20variable%20referenced%20before%20assignment%20error,is%20declared%20before%20you%20assign%20it%20a%20value.)\n",
    "\n",
    "3. [PNG to GIF using PIL](https://pythonprogramming.altervista.org/png-to-gif/)\n",
    "\n",
    "4. Official documentations."
   ]
  }
 ],
 "metadata": {
  "kernelspec": {
   "display_name": "Python 3",
   "language": "python",
   "name": "python3"
  },
  "language_info": {
   "codemirror_mode": {
    "name": "ipython",
    "version": 3
   },
   "file_extension": ".py",
   "mimetype": "text/x-python",
   "name": "python",
   "nbconvert_exporter": "python",
   "pygments_lexer": "ipython3",
   "version": "3.8.3"
  }
 },
 "nbformat": 4,
 "nbformat_minor": 5
}
