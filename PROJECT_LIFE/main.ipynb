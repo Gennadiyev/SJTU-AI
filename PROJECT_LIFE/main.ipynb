{
 "cells": [
  {
   "cell_type": "code",
   "execution_count": 1,
   "id": "47a2981e",
   "metadata": {},
   "outputs": [],
   "source": [
    "# -*- coding: utf-8 -*-\n",
    "%matplotlib inline"
   ]
  },
  {
   "cell_type": "markdown",
   "id": "234b54ce",
   "metadata": {},
   "source": [
    "# Life Game"
   ]
  },
  {
   "cell_type": "code",
   "execution_count": 2,
   "id": "577a4fd6",
   "metadata": {
    "scrolled": false
   },
   "outputs": [],
   "source": [
    "# Core Code\n",
    "\n",
    "import numpy as np\n",
    "import matplotlib as mpl\n",
    "import PIL\n",
    "from PIL import Image\n",
    "import matplotlib.pyplot as plt\n",
    "from matplotlib import cm\n",
    "from matplotlib.colors import ListedColormap, LinearSegmentedColormap\n",
    "import time\n",
    "\n",
    "# Game Configuration\n",
    "Config = {\n",
    "    \"width\": 20,\n",
    "    \"height\": 20,\n",
    "    \"resolution\": 60,\n",
    "    \"theme\": [\"white\", \"black\"],\n",
    "    \"initialization\": {\n",
    "        \"spawnCount\": 70\n",
    "    },\n",
    "}\n",
    "\n",
    "# DPI configuration\n",
    "mpl.rcParams['figure.dpi'] = Config[\"resolution\"]\n",
    "\n",
    "# Stores an array of file names of saved images (per frame)\n",
    "ImageStream = []\n",
    "\n",
    "# Randomize every board\n",
    "np.random.seed(int(time.time()))\n",
    "\n",
    "# 1 is alive, 0 is dead, create initial canvas with spawnCount config\n",
    "Canvas = np.concatenate(\n",
    "    (\n",
    "        np.ones(Config[\"initialization\"][\"spawnCount\"]),\n",
    "        np.zeros(Config[\"width\"] * Config[\"height\"] - Config[\"initialization\"][\"spawnCount\"])\n",
    "    ),\n",
    "    axis=None\n",
    ")\n",
    "np.random.shuffle(Canvas)\n",
    "Canvas = Canvas.reshape(Config[\"height\"], Config[\"width\"])\n",
    "\n",
    "# Color map used by matplotlib\n",
    "Cmap = ListedColormap(Config[\"theme\"])\n",
    "\n",
    "# Initialize the board\n",
    "def initialize():\n",
    "    Canvas = np.concatenate(\n",
    "        (\n",
    "            np.ones(Config[\"initialization\"][\"spawnCount\"]),\n",
    "            np.zeros(Config[\"width\"] * Config[\"height\"] - Config[\"initialization\"][\"spawnCount\"])\n",
    "        ),\n",
    "        axis=None\n",
    "    )\n",
    "    np.random.shuffle(Canvas)\n",
    "    Canvas = Canvas.reshape(Config[\"height\"], Config[\"width\"])\n",
    "    Cmap = ListedColormap([\"white\", \"black\"])\n",
    "    ImageStream = []\n",
    "\n",
    "# Do once\n",
    "initialize()\n",
    "\n",
    "FPSTimer = 0\n",
    "\n",
    "def fpsAdd(dt):\n",
    "    global FPSTimer\n",
    "    FPSTimer += dt\n",
    "def fpsShow():\n",
    "    global FPSTimer\n",
    "    print(\"FPS:\", 1/FPSTimer)\n",
    "    FPSTimer = 0\n",
    "# Decorators for performance analysis\n",
    "def draw_performance(func):\n",
    "    def inner():\n",
    "        print(FPSTimer)\n",
    "        beginTime = time.perf_counter()\n",
    "        output = func()\n",
    "        endTime = time.perf_counter()\n",
    "        fpsAdd(endTime - beginTime)\n",
    "        fpsShow()\n",
    "        return output\n",
    "    return inner\n",
    "def save_performance(func):\n",
    "    def inner(arg):\n",
    "        beginTime = time.perf_counter()\n",
    "        output = func(arg)\n",
    "        endTime = time.perf_counter()\n",
    "        fpsAdd(endTime - beginTime)\n",
    "        fpsShow()\n",
    "        return output\n",
    "    return inner\n",
    "def update_performance(func):\n",
    "    def inner(arg):\n",
    "        beginTime = time.perf_counter()\n",
    "        output = func(arg)\n",
    "        endTime = time.perf_counter()\n",
    "        fpsAdd(endTime - beginTime)\n",
    "        return output\n",
    "    return inner\n",
    "\n",
    "# Simply draw the function\n",
    "@draw_performance\n",
    "def draw() -> bool:\n",
    "    plt.grid(False)\n",
    "    plt.axis('off')\n",
    "    plt.imshow(Canvas, cmap = Cmap)\n",
    "    plt.show()\n",
    "    return True\n",
    "\n",
    "# Save the image to file\n",
    "@save_performance\n",
    "def save(fileName) -> bool:\n",
    "    plt.grid(False)\n",
    "    plt.axis('off')\n",
    "    plt.imshow(Canvas, cmap = Cmap)\n",
    "    plt.savefig(fileName, transparent=True)\n",
    "    ImageStream.append(fileName)\n",
    "    return True\n",
    "\n",
    "# Updates the Canvas\n",
    "@update_performance\n",
    "def update(canvas, frameCount = 1):\n",
    "    updatedCanvas = canvas.copy()\n",
    "    def computeLife(canvas, xId, yId):\n",
    "        state = canvas[xId, yId] # Current status\n",
    "        s = np.sum(\n",
    "            canvas[\n",
    "                max(0, xId-1):min(Config[\"height\"]+1, xId+2),\n",
    "                max(0, yId-1):min(yId+2, Config[\"width\"] + 1)\n",
    "            ]\n",
    "        ) # 3x3 grid including center\n",
    "        if state: # Previously alive\n",
    "            return s - state == 2 or s - state == 3\n",
    "        else: # Previously dead\n",
    "            return s == 3\n",
    "    # Basic iteration\n",
    "    for xId in range(Config[\"height\"]):\n",
    "        for yId in range(Config[\"width\"]):\n",
    "            updatedCanvas[xId, yId] = computeLife(canvas, xId, yId)\n",
    "    return updatedCanvas"
   ]
  },
  {
   "cell_type": "code",
   "execution_count": 3,
   "id": "18541d99",
   "metadata": {},
   "outputs": [
    {
     "name": "stdout",
     "output_type": "stream",
     "text": [
      "0\n"
     ]
    },
    {
     "data": {
      "image/png": "[encoded data removed]",
      "text/plain": [
       "<Figure size 240x160 with 1 Axes>"
      ]
     },
     "metadata": {
      "needs_background": "light"
     },
     "output_type": "display_data"
    },
    {
     "name": "stdout",
     "output_type": "stream",
     "text": [
      "FPS: 18.95191943942346\n",
      "0.004870312986895442\n"
     ]
    },
    {
     "data": {
      "image/png": "[encoded data removed]",
      "text/plain": [
       "<Figure size 240x160 with 1 Axes>"
      ]
     },
     "metadata": {
      "needs_background": "light"
     },
     "output_type": "display_data"
    },
    {
     "name": "stdout",
     "output_type": "stream",
     "text": [
      "FPS: 18.406495887426093\n",
      "0.004776041954755783\n"
     ]
    },
    {
     "data": {
      "image/png": "[encoded data removed]",
      "text/plain": [
       "<Figure size 240x160 with 1 Axes>"
      ]
     },
     "metadata": {
      "needs_background": "light"
     },
     "output_type": "display_data"
    },
    {
     "name": "stdout",
     "output_type": "stream",
     "text": [
      "FPS: 17.48283567713256\n",
      "0.0047458328772336245\n"
     ]
    },
    {
     "data": {
      "image/png": "[encoded data removed]",
      "text/plain": [
       "<Figure size 240x160 with 1 Axes>"
      ]
     },
     "metadata": {
      "needs_background": "light"
     },
     "output_type": "display_data"
    },
    {
     "name": "stdout",
     "output_type": "stream",
     "text": [
      "FPS: 17.538251139411074\n",
      "0.004663021070882678\n"
     ]
    },
    {
     "data": {
      "image/png": "[encoded data removed]",
      "text/plain": [
       "<Figure size 240x160 with 1 Axes>"
      ]
     },
     "metadata": {
      "needs_background": "light"
     },
     "output_type": "display_data"
    },
    {
     "name": "stdout",
     "output_type": "stream",
     "text": [
      "FPS: 18.501743889872095\n",
      "0.00463229208253324\n"
     ]
    },
    {
     "data": {
      "image/png": "[encoded data removed]",
      "text/plain": [
       "<Figure size 240x160 with 1 Axes>"
      ]
     },
     "metadata": {
      "needs_background": "light"
     },
     "output_type": "display_data"
    },
    {
     "name": "stdout",
     "output_type": "stream",
     "text": [
      "FPS: 18.713450282613376\n",
      "0.004595312988385558\n"
     ]
    },
    {
     "data": {
      "image/png": "[encoded data removed]",
      "text/plain": [
       "<Figure size 240x160 with 1 Axes>"
      ]
     },
     "metadata": {
      "needs_background": "light"
     },
     "output_type": "display_data"
    },
    {
     "name": "stdout",
     "output_type": "stream",
     "text": [
      "FPS: 18.34266368177082\n",
      "0.0046307300217449665\n"
     ]
    },
    {
     "data": {
      "image/png": "[encoded data removed]",
      "text/plain": [
       "<Figure size 240x160 with 1 Axes>"
      ]
     },
     "metadata": {
      "needs_background": "light"
     },
     "output_type": "display_data"
    },
    {
     "name": "stdout",
     "output_type": "stream",
     "text": [
      "FPS: 18.864031339811536\n",
      "0.0045921881683170795\n"
     ]
    },
    {
     "data": {
      "image/png": "[encoded data removed]",
      "text/plain": [
       "<Figure size 240x160 with 1 Axes>"
      ]
     },
     "metadata": {
      "needs_background": "light"
     },
     "output_type": "display_data"
    },
    {
     "name": "stdout",
     "output_type": "stream",
     "text": [
      "FPS: 18.880726683952634\n",
      "0.0045770828146487474\n"
     ]
    },
    {
     "data": {
      "image/png": "[encoded data removed]",
      "text/plain": [
       "<Figure size 240x160 with 1 Axes>"
      ]
     },
     "metadata": {
      "needs_background": "light"
     },
     "output_type": "display_data"
    },
    {
     "name": "stdout",
     "output_type": "stream",
     "text": [
      "FPS: 18.262929265873467\n",
      "0.0045989579521119595\n"
     ]
    },
    {
     "data": {
      "image/png": "[encoded data removed]",
      "text/plain": [
       "<Figure size 240x160 with 1 Axes>"
      ]
     },
     "metadata": {
      "needs_background": "light"
     },
     "output_type": "display_data"
    },
    {
     "name": "stdout",
     "output_type": "stream",
     "text": [
      "FPS: 18.307508918403574\n"
     ]
    }
   ],
   "source": [
    "# Play the game in real time with sequential frames\n",
    "initialize()\n",
    "draw()\n",
    "frame = 0\n",
    "while frame < 10:\n",
    "    frame += 1\n",
    "    Canvas = update(Canvas)\n",
    "    draw()"
   ]
  },
  {
   "cell_type": "code",
   "execution_count": 4,
   "id": "92785956",
   "metadata": {},
   "outputs": [
    {
     "name": "stdout",
     "output_type": "stream",
     "text": [
      "0\n"
     ]
    },
    {
     "data": {
      "image/png": "[encoded data removed]",
      "text/plain": [
       "<Figure size 240x160 with 1 Axes>"
      ]
     },
     "metadata": {
      "needs_background": "light"
     },
     "output_type": "display_data"
    },
    {
     "name": "stdout",
     "output_type": "stream",
     "text": [
      "FPS: 10.71410643365113\n",
      "FPS: 29.94011990373889\n",
      "FPS: 41.53596482968829\n",
      "FPS: 34.514371588395136\n",
      "FPS: 29.080775064416606\n",
      "FPS: 26.553812963681327\n",
      "FPS: 23.773851746736863\n",
      "FPS: 20.42205561903374\n",
      "FPS: 17.583705496965706\n",
      "FPS: 16.968625274716036\n",
      "FPS: 15.822263298612258\n",
      "FPS: 15.367130450910713\n",
      "FPS: 13.524650718354776\n",
      "FPS: 12.491298402208551\n",
      "FPS: 11.513207181987429\n",
      "FPS: 10.983856071384693\n",
      "FPS: 10.167122071589407\n",
      "FPS: 10.102073054787743\n",
      "FPS: 9.93228465029917\n",
      "FPS: 9.242055169240565\n",
      "FPS: 8.670207062492766\n",
      "FPS: 8.340609599970268\n",
      "FPS: 7.971700474268562\n",
      "FPS: 7.6489148219370895\n",
      "FPS: 7.498242610666127\n",
      "FPS: 7.250399367952131\n",
      "FPS: 7.240091986785543\n",
      "FPS: 7.032091265706608\n",
      "FPS: 6.4161258491183535\n",
      "FPS: 6.179435332078686\n",
      "FPS: 6.0540895223779785\n",
      "FPS: 5.865514703401149\n",
      "FPS: 5.882352975980221\n",
      "FPS: 6.039046233722248\n",
      "FPS: 5.978607796561486\n",
      "FPS: 5.811736075642788\n",
      "FPS: 5.544918184703075\n",
      "FPS: 5.531467389853086\n",
      "FPS: 5.411331690513598\n",
      "FPS: 5.290553323242585\n",
      "FPS: 5.147425480860989\n",
      "FPS: 5.029733064213514\n",
      "FPS: 4.913099529252846\n",
      "FPS: 4.78322283631364\n",
      "FPS: 4.359593840985676\n",
      "FPS: 4.434487363544493\n",
      "FPS: 4.506566194063126\n",
      "FPS: 4.482158903010023\n",
      "FPS: 4.4248909302184\n",
      "FPS: 4.2563096319156335\n",
      "FPS: 4.135595852661177\n",
      "FPS: 4.123392520867453\n",
      "FPS: 4.03905258113953\n",
      "FPS: 3.9557043576483375\n",
      "FPS: 3.8311729707762887\n",
      "FPS: 3.8302481965241597\n"
     ]
    },
    {
     "data": {
      "image/png": "[encoded data removed]",
      "text/plain": [
       "<Figure size 240x160 with 1 Axes>"
      ]
     },
     "metadata": {
      "needs_background": "light"
     },
     "output_type": "display_data"
    }
   ],
   "source": [
    "# Play the game but wait for results\n",
    "initialize()\n",
    "draw()\n",
    "frame = 0\n",
    "while frame < 55:\n",
    "    frame += 1\n",
    "    Canvas = update(Canvas)\n",
    "    save(\"out\"+str(frame)+\".png\")\n",
    "    \n",
    "#     pltCanvas.draw()\n",
    "#     pilImage = PIL.Image.frombytes('RGB', pltCanvas.get_width_height(), pltCanvas.tostring_rgb())\n",
    "#     ImageStream.append(pilImage)"
   ]
  },
  {
   "cell_type": "code",
   "execution_count": 8,
   "id": "d76e5c19",
   "metadata": {},
   "outputs": [
    {
     "name": "stdout",
     "output_type": "stream",
     "text": [
      "Frames: 55\n"
     ]
    }
   ],
   "source": [
    "Frames = []\n",
    "print(\"Frames:\", len(ImageStream))\n",
    "for i in ImageStream:\n",
    "    newFrame = Image.open(i)\n",
    "    Frames.append(newFrame)\n",
    "Frames[0].save('life.gif', format='GIF',\n",
    "               append_images=Frames[1:],\n",
    "               save_all=True,\n",
    "               duration=3, loop=0, size=(500,500))"
   ]
  },
  {
   "cell_type": "markdown",
   "id": "53751f06",
   "metadata": {},
   "source": [
    "Remember to **update this markdown block** for best view!\n",
    "![](life.gif)"
   ]
  },
  {
   "cell_type": "markdown",
   "id": "cc779e65",
   "metadata": {},
   "source": [
    "Hope you enjoy this mini-project!"
   ]
  },
  {
   "cell_type": "markdown",
   "id": "5c27a171",
   "metadata": {},
   "source": [
    "## References\n",
    "\n",
    "1. [Creating Colormaps in Matplotlib](https://matplotlib.org/stable/tutorials/colors/colormap-manipulation.html#sphx-glr-tutorials-colors-colormap-manipulation-py)\n",
    "\n",
    "2. [Workaround about global variables](https://careerkarma.com/blog/python-local-variable-referenced-before-assignment/#:~:text=The%20UnboundLocalError%3A%20local%20variable%20referenced%20before%20assignment%20error,is%20declared%20before%20you%20assign%20it%20a%20value.)\n",
    "\n",
    "3. [PNG to GIF using PIL](https://pythonprogramming.altervista.org/png-to-gif/)\n",
    "\n",
    "4. Official documentations."
   ]
  }
 ],
 "metadata": {
  "kernelspec": {
   "display_name": "Python 3",
   "language": "python",
   "name": "python3"
  },
  "language_info": {
   "codemirror_mode": {
    "name": "ipython",
    "version": 3
   },
   "file_extension": ".py",
   "mimetype": "text/x-python",
   "name": "python",
   "nbconvert_exporter": "python",
   "pygments_lexer": "ipython3",
   "version": "3.8.3"
  }
 },
 "nbformat": 4,
 "nbformat_minor": 5
}
