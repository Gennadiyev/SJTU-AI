{
 "cells": [
  {
   "cell_type": "markdown",
   "id": "585de1f2",
   "metadata": {},
   "source": [
    "# Assignment 2-1: Univariate Linear Regression\n",
    "\n",
    "本题要求完成单变量线性回归。由于原笔记本格式不够美观，重新整理如下。\n",
    "\n",
    "> 注：Theory 部分为笔者自己编辑，Implementation 部分基于提供的代码进行修改。"
   ]
  },
  {
   "cell_type": "markdown",
   "id": "b9b9402b",
   "metadata": {},
   "source": [
    "## Theory\n",
    "\n",
    "The target of the problem is to find a best-fit linear equation $f(x)=\\vec{w}x+b$, which, in the univariate case, can be simplified to $f(x)=wx+b$.\n",
    "\n",
    "We use $\\Theta = \\{w,\\,b\\}$ in the code to represent the parameters, and define $f_{\\Theta_0}(x)=w_0 x + b_0$ where $\\Theta_0 = \\{w_0, b_0\\}$.\n",
    "\n",
    "### Cost function\n",
    "\n",
    "A cost function is defined by how much the line *deviates* the points. We use the most common type of cost function here, the **mean squared error**, defined by the following equation:\n",
    "\n",
    "$$\\mathcal{J}(\\Theta)=\\dfrac{1}{2n}\\sum_{i=1}^{n}\\left(f_\\Theta(x^i)-y^i\\right)^2$$\n",
    "\n",
    "For a Gaussian-distributed dataset, we can augment pattern $x$ with a bias of $1$ to model $\\mu = 1$, where $\\mu$ is the **rooted mean**.\n",
    "\n",
    "### Gradients\n",
    "\n",
    "The gradient with respect to the model parameters $\\Theta=\\left\\{w, b\\right\\}$, use chain rule:\n",
    "\n",
    "$$\n",
    "\\frac{\\partial \\mathcal{J}(\\Theta)}{\\partial \\theta_{j}}=\\frac{1}{m} \\sum_{i=1}^{n}\\left(f_{\\Theta}\\left(x^{i}\\right)-y^{i}\\right) x_j^{i}\n",
    "$$\n",
    "\n",
    "where $j$ indexes a particular parameter, in this univariate case $j\\in\\{0, 1\\}$, where $j_0 = b, j_1 = w$. This leads us to utilize the following two specific gradients:\n",
    "\n",
    "$$\n",
    "\\begin{cases}\\begin{aligned}\n",
    "\\frac{\\partial \\mathcal{J}(\\Theta)}{\\partial w} &=\\frac{1}{m} \\sum_{i=1}^{m}\\left(f_{\\Theta}\\left(x^{i}\\right)-y^{i}\\right) x^{i} \\\\\n",
    "\\frac{\\partial \\mathcal{J}(\\Theta)}{\\partial b} &=\\frac{1}{m} \\sum_{i=1}^{m}\\left(f_{\\Theta}\\left(x^{i}\\right)-y^{i}\\right)\n",
    "\\end{aligned}\\end{cases}\n",
    "$$\n",
    "\n",
    "### Learning process\n",
    "\n",
    "The learning process is to let $\\Theta = \\{w,\\, b\\}$ to descend along the gradient so as to minimize the cost function $\\mathcal{J}$.\n",
    "\n",
    "For each iteration, the model needs to be updated as follows:\n",
    "\n",
    "$$\n",
    "\\theta_j = \\theta_j - \\alpha \\frac{\\partial \\mathcal{J}(\\Theta)}{\\partial \\theta_j}\n",
    "$$"
   ]
  },
  {
   "cell_type": "markdown",
   "id": "ebe71040",
   "metadata": {},
   "source": [
    "## Implementation"
   ]
  }
 ],
 "metadata": {
  "kernelspec": {
   "display_name": "Python 3",
   "language": "python",
   "name": "python3"
  },
  "language_info": {
   "codemirror_mode": {
    "name": "ipython",
    "version": 3
   },
   "file_extension": ".py",
   "mimetype": "text/x-python",
   "name": "python",
   "nbconvert_exporter": "python",
   "pygments_lexer": "ipython3",
   "version": "3.8.3"
  }
 },
 "nbformat": 4,
 "nbformat_minor": 5
}
