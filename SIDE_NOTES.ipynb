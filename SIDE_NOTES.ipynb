{
 "cells": [
  {
   "cell_type": "markdown",
   "id": "1e532806",
   "metadata": {},
   "source": [
    "# Side Notes\n",
    "\n",
    "This notebook is a collection of miscellaneous mini wealth of knowledge on my way learning Python."
   ]
  },
  {
   "cell_type": "markdown",
   "id": "f2804878",
   "metadata": {},
   "source": [
    "## Using Asterisks\n",
    "\n",
    "[Reference](https://www.geeksforgeeks.org/python-star-or-asterisk-operator/)\n",
    "\n",
    "Asterisks are far more than $a \\times b$ symbol in Python. Read on for all use cases.\n"
   ]
  },
  {
   "cell_type": "markdown",
   "id": "e351d607",
   "metadata": {},
   "source": [
    "### Multiplication"
   ]
  },
  {
   "cell_type": "code",
   "execution_count": 6,
   "id": "cec4fa51",
   "metadata": {},
   "outputs": [
    {
     "name": "stdout",
     "output_type": "stream",
     "text": [
      "2\n"
     ]
    }
   ],
   "source": [
    "int1, int2 = 1, 2\n",
    "print(int1 * int2)"
   ]
  },
  {
   "cell_type": "markdown",
   "id": "8a697da0",
   "metadata": {},
   "source": [
    "In addition to numerical multiplication, arrays can also be multiplied by numbers.\n",
    "\n",
    "Moreover, multiplication is a primary operator, which calls `__mul__` (or `__rmul__`) method of a class. [Read on](#Overriding-Operators) for more information on this topic."
   ]
  },
  {
   "cell_type": "code",
   "execution_count": 8,
   "id": "899cc143",
   "metadata": {},
   "outputs": [
    {
     "name": "stdout",
     "output_type": "stream",
     "text": [
      "[0, 4, -4, 0, 4, -4]\n"
     ]
    }
   ],
   "source": [
    "arr1 = [0, 4, -4]\n",
    "print(arr1 * int2)"
   ]
  },
  {
   "cell_type": "markdown",
   "id": "3a922c39",
   "metadata": {},
   "source": [
    "### Unpacking\n",
    "\n",
    "*(Unpacking a function using positional argument)*"
   ]
  },
  {
   "cell_type": "code",
   "execution_count": 10,
   "id": "408797f6",
   "metadata": {},
   "outputs": [
    {
     "name": "stdout",
     "output_type": "stream",
     "text": [
      "['Apple', 10, 'Banana', 4]\n",
      "Apple 10 Banana 4\n"
     ]
    }
   ],
   "source": [
    "arr2 = [\"Apple\", 10, \"Banana\", 4]\n",
    "print(arr2)\n",
    "print(*arr2)"
   ]
  },
  {
   "cell_type": "markdown",
   "id": "051ca8c3",
   "metadata": {},
   "source": [
    "Note that in the `print(*arr2)`, no formatting is applied."
   ]
  },
  {
   "cell_type": "markdown",
   "id": "b548ae4c",
   "metadata": {},
   "source": [
    "### Passing a variable number of parameters\n",
    "\n",
    "We can use `*var_name` or `**var_name` to pass a variable number of elements into a function. See the example below:"
   ]
  },
  {
   "cell_type": "code",
   "execution_count": 21,
   "id": "097d978e",
   "metadata": {},
   "outputs": [
    {
     "name": "stdout",
     "output_type": "stream",
     "text": [
      "25\n",
      "Sad, no apples to eat...\n"
     ]
    }
   ],
   "source": [
    "def addition(*args):\n",
    "    return sum(args)\n",
    "\n",
    "print(addition(1, 1, 4, 5, 14))\n",
    "\n",
    "def eatApples(**prices):\n",
    "    if \"apple\" in prices:\n",
    "        print(\"Eaten all apples!\")\n",
    "    else:\n",
    "        print(\"Sad, no apples to eat...\")\n",
    "\n",
    "eatApples(banana=3, kiwi=6, cherry=4, coconut=10)"
   ]
  },
  {
   "cell_type": "markdown",
   "id": "628a46c6",
   "metadata": {},
   "source": [
    "Combining the above two usages of asterisks, we can have the following code:"
   ]
  },
  {
   "cell_type": "code",
   "execution_count": 22,
   "id": "ca7d500b",
   "metadata": {},
   "outputs": [
    {
     "name": "stdout",
     "output_type": "stream",
     "text": [
      "cherry is a fruit\n",
      "potato is a vegetable\n",
      "srikrishna is a boy\n"
     ]
    }
   ],
   "source": [
    "def food(**kwargs):\n",
    "    for items in kwargs:\n",
    "        print(f\"{kwargs[items]} is a {items}\")\n",
    "\n",
    "foods = {'fruit' : 'cherry', 'vegetable' : 'potato', 'boy' : 'srikrishna'}\n",
    "food(**foods)"
   ]
  },
  {
   "cell_type": "markdown",
   "id": "d5e4ee7d",
   "metadata": {},
   "source": [
    "## Overriding Operators\n",
    "\n",
    "[Reference](https://www.linuxtopia.org/online_books/programming_books/python_programming/python_ch24s04.html#:~:text=Numeric%20Type%20Special%20Methods%20%20%20%20method,self%20%2F%20other%20%208%20more%20rows%20)\n",
    "\n",
    "Just like C++, Python class can define in themselves how to perform numeric operations.\n",
    "\n",
    "| Method | Operator |\n",
    "|:-|:-|\n",
    "| **\\_\\_add\\_\\_**( self , other ) | self + other |\n",
    "| **\\_\\_sub\\_\\_**( self , other ) | self - other |\n",
    "| **\\_\\_mul\\_\\_**( self , other ) | self * other |\n",
    "| **\\_\\_div\\_\\_**( self , other ) | self / other |\n",
    "| **\\_\\_mod\\_\\_**( self , other ) | self % other |\n",
    "| **\\_\\_divmod\\_\\_**( self , other ) | divmod ( self , other ) |\n",
    "| **\\_\\_pow\\_\\_**( self , other , \\[ modulo \\] ) | self ** other or pow ( self , other , \\[ modulo \\] ) |\n",
    "| **\\_\\_lshift\\_\\_**( self , other ) | self << other |\n",
    "| **\\_\\_rshift\\_\\_**( self , other ) | self >> other |\n",
    "| **\\_\\_and\\_\\_**( self , other ) | self and other |\n",
    "| **\\_\\_xor\\_\\_**( self , other ) | self xor other |\n",
    "| **\\_\\_or\\_\\_**( self , other ) | self or other |\n",
    "\n",
    "But this is only one side. ~~Python does not think that these operators satisfy reflexivity.~~ Thus we need to also define the following to make sure everything work as we expect.\n",
    "\n",
    "| Method | Operator |\n",
    "|:-|:-|\n",
    "| **\\_\\_radd\\_\\_**( self , other ) | other + self |\n",
    "| **\\_\\_rsub\\_\\_**( self , other ) | other - self |\n",
    "| **\\_\\_rmul\\_\\_**( self , other ) | other * self |\n",
    "| **\\_\\_rdiv\\_\\_**( self , other ) | other / self |\n",
    "| **\\_\\_rmod\\_\\_**( self , other ) | other % self |\n",
    "| **\\_\\_rdivmod\\_\\_**( self , other ) | divmod ( other , self ) |\n",
    "| **\\_\\_rpow\\_\\_**( self , other ) | other ** self or pow ( other , self ) |\n",
    "| **\\_\\_rlshift\\_\\_**( self , other ) | other << self |\n",
    "| **\\_\\_rrshift\\_\\_**( self , other ) | other >> self |\n",
    "| **\\_\\_rand\\_\\_**( self , other ) | other and self |\n",
    "| **\\_\\_rxor\\_\\_**( self , other ) | other xor self |\n",
    "| **\\_\\_ror\\_\\_**( self , other ) | other or self |"
   ]
  },
  {
   "cell_type": "code",
   "execution_count": 3,
   "id": "7501b7ae",
   "metadata": {},
   "outputs": [
    {
     "name": "stdout",
     "output_type": "stream",
     "text": [
      "Boy __radd__\n",
      "小白小黑\n",
      "Boy __add__\n",
      "小白小黑\n",
      "Boy __add__\n",
      "Boy __radd__\n",
      "小白小白小黑\n"
     ]
    }
   ],
   "source": [
    "class Child:\n",
    "    name=\"\"\n",
    "    def __init__(self, name):\n",
    "        if type(name) == str:\n",
    "            self.name = name\n",
    "        else:\n",
    "            raise(TypeError(\"argument name_ must be type str\"))\n",
    "    \n",
    "class Girl:\n",
    "    name=\"\"\n",
    "    def __init__(self, name):\n",
    "        if type(name) == str:\n",
    "            self.name = name\n",
    "        else:\n",
    "            raise(TypeError(\"argument name_ must be type str\"))\n",
    "    '''\n",
    "    def __add__(self, other):\n",
    "        print(\"Girl __add__\")\n",
    "        return Child(self.name + other.name)\n",
    "    '''\n",
    "    def __radd__(self, other):\n",
    "        print(\"Girl __radd__\")\n",
    "        return Child(self.name + other.name)\n",
    "    \n",
    "class Boy:\n",
    "    name=\"\"\n",
    "    def __init__(self, name):\n",
    "        if type(name) == str:\n",
    "            self.name = name\n",
    "        else:\n",
    "            raise(TypeError(\"argument name_ must be type str\"))\n",
    "    def __add__(self, other):\n",
    "        print(\"Boy __add__\")\n",
    "        return Child(self.name + other.name)\n",
    "    def __radd__(self, other):\n",
    "        print(\"Boy __radd__\")\n",
    "        return Child(self.name + other.name)\n",
    "    \n",
    "pBlack = Girl(\"小黑\")\n",
    "pWhite = Boy(\"小白\")\n",
    "print((pBlack+pWhite).name) # Line 1\n",
    "print((pWhite+pBlack).name) # Line 2\n",
    "print((pWhite+pBlack+pWhite).name) # Line 3"
   ]
  },
  {
   "cell_type": "markdown",
   "id": "c0f4c664",
   "metadata": {},
   "source": [
    "When the `__add__()` of class `Girl` is commented, the behavior of the first print statement is a shown. However, when we uncomment the function, this statement will call `Girl.__add__()` instead. This is because `__add__` are always tried before `__radd__`.\n",
    "\n",
    "Similarly, because `Child` has neither `__add__()` nor `__radd__()`, the program then turn to `pWhite` (the second `pWhite` in line 3) for help. It is actually performing `Child + Boy` inside."
   ]
  }
 ],
 "metadata": {
  "kernelspec": {
   "display_name": "Python 3",
   "language": "python",
   "name": "python3"
  },
  "language_info": {
   "codemirror_mode": {
    "name": "ipython",
    "version": 3
   },
   "file_extension": ".py",
   "mimetype": "text/x-python",
   "name": "python",
   "nbconvert_exporter": "python",
   "pygments_lexer": "ipython3",
   "version": "3.8.3"
  }
 },
 "nbformat": 4,
 "nbformat_minor": 5
}
