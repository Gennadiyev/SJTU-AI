{
 "cells": [
  {
   "cell_type": "markdown",
   "id": "b15d89ee",
   "metadata": {},
   "source": [
    "# Introduction to SciKit\n",
    "\n",
    "## Course Target\n",
    "\n",
    "- Has a brief overview about machine learning\n",
    "- Understand regression and classification\n",
    "- Understand clustering and dimension reduction\n",
    "- Supervised and unsupervised learning\n",
    "- Being able to read `sklearn`-related code\n",
    "\n",
    "## Introduction to Artificial Intelligence\n",
    "\n",
    "(Omitted)"
   ]
  },
  {
   "cell_type": "code",
   "execution_count": null,
   "id": "1d6cbeb9",
   "metadata": {},
   "outputs": [],
   "source": [
    "import numpy as np\n",
    "import matplotlib.pyplot as plt\n",
    "from sklearn.linear_model import SGDClassifier\n",
    "from sklearn.datasets import make_blobs\n",
    "\n",
    "# we create 50 separable points\n",
    "X, Y = make_blobs(n_samples=50,  centers=2, random_state=0, cluster_std=0.6)\n",
    "# fit\n",
    "clf =  SGDClassifier(loss='hinge', alpha=1e-3, max_iter=1000, fit_intercept=True)\n",
    "clf.fit(X, Y)\n",
    "\n",
    "xx=np.linspace(-1, 5, 10)\n",
    "yy=np.linspace(-1, 5, 10)\n",
    "X1, X2 = np.meshgrid(xx, yy)\n",
    "Z=np.empty(X1.shape)\n",
    "for (i,j), val in np.ndenumerate(X1):\n",
    "    x1, x2 = val, X2[i,j]\n",
    "    p = clf.decision_function(np.array([x1, x2]).reshape(1, -1))\n",
    "    Z[i, j] = p[0]\n",
    "levels = [-1., 0., 1.]\n",
    "linestyles = ['dashed', 'solid', 'dashed']\n",
    "colors = 'k'\n",
    "ax = plt.axes()\n",
    "ax.contour(X1, X2, Z, levels, colors=color)"
   ]
  }
 ],
 "metadata": {
  "kernelspec": {
   "display_name": "Python 3",
   "language": "python",
   "name": "python3"
  },
  "language_info": {
   "codemirror_mode": {
    "name": "ipython",
    "version": 3
   },
   "file_extension": ".py",
   "mimetype": "text/x-python",
   "name": "python",
   "nbconvert_exporter": "python",
   "pygments_lexer": "ipython3",
   "version": "3.8.3"
  }
 },
 "nbformat": 4,
 "nbformat_minor": 5
}
