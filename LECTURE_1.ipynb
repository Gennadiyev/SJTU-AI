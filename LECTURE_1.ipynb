{
 "cells": [
  {
   "cell_type": "markdown",
   "id": "7df0c169",
   "metadata": {},
   "source": [
    "# Python Introduction\n",
    "\n"
   ]
  },
  {
   "cell_type": "code",
   "execution_count": 1,
   "id": "a2f23947",
   "metadata": {},
   "outputs": [
    {
     "name": "stdout",
     "output_type": "stream",
     "text": [
      "Hello World\n"
     ]
    }
   ],
   "source": [
    "print(\"Hello World\")"
   ]
  },
  {
   "cell_type": "markdown",
   "id": "134a468a",
   "metadata": {},
   "source": [
    "Tutor: **Nanyang Ye**\n",
    "\n",
    "**Research Direction**: Bayesian machine learning, Casual inference, CV\n",
    "\n",
    "## Course Target\n",
    "\n",
    "- Learn Python fundamentals\n",
    "- Using scientific computation libraries\n",
    "- File I/O and data processing in Python\n",
    "- Implementation of an AI task\n",
    "- Implement different AI code, find the best approach and find the best model\n",
    "\n",
    "## Course Evaluation\n",
    "\n",
    "- 50% Project = 30% Quality Analysis + 20% Report\n",
    "- 30% Coding assignments (30% = 10% \\* 3)\n",
    "- 20% Pop quiz (20% = 5% \\* 4)"
   ]
  },
  {
   "cell_type": "markdown",
   "id": "7125197f",
   "metadata": {},
   "source": [
    "## Input and Output"
   ]
  },
  {
   "cell_type": "code",
   "execution_count": 2,
   "id": "ba67d1d7",
   "metadata": {},
   "outputs": [
    {
     "name": "stdout",
     "output_type": "stream",
     "text": [
      "Input your name: Kun\n",
      "Your name is Kun\n",
      "\n",
      "<class 'str'>\n"
     ]
    }
   ],
   "source": [
    "myStr = input(\"Input your name: \")\n",
    "print(\"Your name is \"+myStr+\"\\n\")\n",
    "print(type(myStr))"
   ]
  },
  {
   "cell_type": "markdown",
   "id": "dde73d37",
   "metadata": {},
   "source": [
    "## Variables\n",
    "\n",
    "Python does not have static variable type. The format conversion is done automatically.\n",
    "\n",
    "We can use `type(var)` to get the type of the variable `var`. The function returns a `type` class. "
   ]
  },
  {
   "cell_type": "code",
   "execution_count": 3,
   "id": "15079848",
   "metadata": {},
   "outputs": [
    {
     "name": "stdout",
     "output_type": "stream",
     "text": [
      "<class 'int'>\n",
      "<class 'float'>\n",
      "True\n"
     ]
    }
   ],
   "source": [
    "y = eval(\"123\") # Evaluates from 123 to number\n",
    "print(type(y)) # Now y has type int\n",
    "y /= 2\n",
    "print(type(y)) # Now y has type float\n",
    "\n",
    "print(type(3.) == float) # `float` is a type variable"
   ]
  },
  {
   "cell_type": "markdown",
   "id": "e9e6ad14",
   "metadata": {},
   "source": [
    "## Binary Computation\n",
    "\n",
    "Binary computation has higher efficiency than other types of computations."
   ]
  },
  {
   "cell_type": "code",
   "execution_count": 4,
   "id": "47a6f7d4",
   "metadata": {},
   "outputs": [
    {
     "name": "stdout",
     "output_type": "stream",
     "text": [
      "a >> b = 16\n",
      "a | b = 13\n"
     ]
    }
   ],
   "source": [
    "a = 64\n",
    "b = 2\n",
    "print(\"a >> b = \" + str(a >> b))\n",
    "a = 0b1001\n",
    "b = 0b0101\n",
    "print(\"a | b = \" + str(a|b))"
   ]
  },
  {
   "cell_type": "markdown",
   "id": "09b071ef",
   "metadata": {},
   "source": [
    "## Boolean\n"
   ]
  },
  {
   "cell_type": "code",
   "execution_count": 5,
   "id": "f97b1012",
   "metadata": {},
   "outputs": [
    {
     "name": "stdout",
     "output_type": "stream",
     "text": [
      "True\n"
     ]
    }
   ],
   "source": [
    "if 3 >= (5 == 1):\n",
    "    print(\"True\")\n",
    "else:\n",
    "    print(\"False\")"
   ]
  },
  {
   "cell_type": "code",
   "execution_count": 6,
   "id": "e955a584",
   "metadata": {},
   "outputs": [
    {
     "name": "stdout",
     "output_type": "stream",
     "text": [
      "0.0\n"
     ]
    }
   ],
   "source": [
    "print(False / True)"
   ]
  },
  {
   "cell_type": "markdown",
   "id": "310cf557",
   "metadata": {},
   "source": [
    "## Importing Packages\n",
    "\n",
    "Use `import` to import installed packages."
   ]
  },
  {
   "cell_type": "code",
   "execution_count": 7,
   "id": "42e75d56",
   "metadata": {},
   "outputs": [
    {
     "name": "stdout",
     "output_type": "stream",
     "text": [
      "<module 'conda' from '/data/user/0/ru.iiec.pydroid3/files/aarch64-linux-android/lib/python3.8/site-packages/conda/__init__.py'>\n"
     ]
    }
   ],
   "source": [
    "import conda as cd\n",
    "print(cd)"
   ]
  },
  {
   "cell_type": "markdown",
   "id": "a8d7efad",
   "metadata": {},
   "source": [
    "## Branching: `if`\n"
   ]
  },
  {
   "cell_type": "code",
   "execution_count": 8,
   "id": "632e478c",
   "metadata": {},
   "outputs": [
    {
     "name": "stdout",
     "output_type": "stream",
     "text": [
      "Case-sensitive\n",
      "Continued branching...\n"
     ]
    }
   ],
   "source": [
    "if \"god\" == \"GOD\":\n",
    "    print(\"Case-insensitive\")\n",
    "else:\n",
    "    print(\"Case-sensitive\")\n",
    "    print(\"Continued branching...\")"
   ]
  },
  {
   "cell_type": "markdown",
   "id": "9ebaf133",
   "metadata": {},
   "source": [
    "Python also supports `elif`. But in order to guarantee logical completeness, usually using `else` is a better practice."
   ]
  },
  {
   "cell_type": "code",
   "execution_count": 9,
   "id": "8a377593",
   "metadata": {},
   "outputs": [
    {
     "name": "stdout",
     "output_type": "stream",
     "text": [
      "===\n",
      "===\n",
      ">>>\n",
      "\n",
      "\n",
      ">>>\n",
      "===\n",
      "===\n"
     ]
    }
   ],
   "source": [
    "notes = [\"tap\", \"tap\", \"slide\", \"\", \"slide\", \"tap\", \"tap\"]\n",
    "for i in notes:\n",
    "    noteType = i\n",
    "    if noteType == \"tap\":\n",
    "        print(\"===\")\n",
    "    elif noteType == \"slide\":\n",
    "        print(\">>>\")\n",
    "    else:\n",
    "        print(\"\\n\")\n"
   ]
  },
  {
   "cell_type": "markdown",
   "id": "b606d1a3",
   "metadata": {},
   "source": [
    "## `while` Loops"
   ]
  },
  {
   "cell_type": "code",
   "execution_count": 10,
   "id": "bc75d78e",
   "metadata": {},
   "outputs": [
    {
     "name": "stdout",
     "output_type": "stream",
     "text": [
      "Performed ops: 2384017\n"
     ]
    }
   ],
   "source": [
    "import time\n",
    "currentTime = time.time()\n",
    "c = 0\n",
    "while (currentTime + 1 > time.time()):\n",
    "    c += 1\n",
    "    pass\n",
    "print(\"Performed ops: \" + str(c))"
   ]
  },
  {
   "cell_type": "markdown",
   "id": "bc31bfa6",
   "metadata": {},
   "source": [
    "## `for` Loops\n",
    "\n",
    "In order to iterate through a list, array, sequence or dictionary, we need to use `for` loops.\n"
   ]
  },
  {
   "cell_type": "code",
   "execution_count": 11,
   "id": "6a40ce3d",
   "metadata": {},
   "outputs": [
    {
     "name": "stdout",
     "output_type": "stream",
     "text": [
      "Target number: 101\n",
      "The sum 1+2+3+...+101 = 5151\n"
     ]
    }
   ],
   "source": [
    "num = input(\"Target number: \")\n",
    "num = eval(num) + 1\n",
    "mySum = 0\n",
    "\n",
    "for i in range(1, num):\n",
    "    mySum += i\n",
    "    \n",
    "print(\"The sum 1+2+3+...+\" + str(num-1) + \" = \" + str(mySum))"
   ]
  },
  {
   "cell_type": "markdown",
   "id": "583297e0",
   "metadata": {},
   "source": [
    "The following program finds all primes from 2 to 50. The time complexity is $\\mathcal{O}(n\\sqrt{n})$."
   ]
  },
  {
   "cell_type": "code",
   "execution_count": 12,
   "id": "a65ada59",
   "metadata": {},
   "outputs": [
    {
     "name": "stdout",
     "output_type": "stream",
     "text": [
      "Prime Found: 2\n",
      "Prime Found: 3\n",
      "Prime Found: 5\n",
      "Prime Found: 7\n",
      "Prime Found: 11\n",
      "Prime Found: 13\n",
      "Prime Found: 17\n",
      "Prime Found: 19\n",
      "Prime Found: 23\n",
      "Prime Found: 29\n",
      "Prime Found: 31\n",
      "Prime Found: 37\n",
      "Prime Found: 41\n",
      "Prime Found: 43\n",
      "Prime Found: 47\n"
     ]
    }
   ],
   "source": [
    "i = 2\n",
    "while i < 50:\n",
    "    j = 2\n",
    "    while j <= i/j:\n",
    "        if not(i%j): break\n",
    "        j += 1\n",
    "    if j > i/j:\n",
    "        print(\"Prime Found: \" + str(i))\n",
    "    i+=1"
   ]
  },
  {
   "cell_type": "markdown",
   "id": "f9b770f4",
   "metadata": {},
   "source": [
    "The following program performs **Euclidian reduction** on two given integers."
   ]
  },
  {
   "cell_type": "code",
   "execution_count": 13,
   "id": "47d2177b",
   "metadata": {},
   "outputs": [
    {
     "name": "stdout",
     "output_type": "stream",
     "text": [
      "x = 101\n",
      "y = 200\n",
      "101 99\n",
      "2 99\n",
      "2 97\n",
      "2 95\n",
      "2 93\n",
      "2 91\n",
      "2 89\n",
      "2 87\n",
      "2 85\n",
      "2 83\n",
      "2 81\n",
      "2 79\n",
      "2 77\n",
      "2 75\n",
      "2 73\n",
      "2 71\n",
      "2 69\n",
      "2 67\n",
      "2 65\n",
      "2 63\n",
      "2 61\n",
      "2 59\n",
      "2 57\n",
      "2 55\n",
      "2 53\n",
      "2 51\n",
      "2 49\n",
      "2 47\n",
      "2 45\n",
      "2 43\n",
      "2 41\n",
      "2 39\n",
      "2 37\n",
      "2 35\n",
      "2 33\n",
      "2 31\n",
      "2 29\n",
      "2 27\n",
      "2 25\n",
      "2 23\n",
      "2 21\n",
      "2 19\n",
      "2 17\n",
      "2 15\n",
      "2 13\n",
      "2 11\n",
      "2 9\n",
      "2 7\n",
      "2 5\n",
      "2 3\n",
      "2 1\n"
     ]
    }
   ],
   "source": [
    "x = input(\"x = \")\n",
    "x = eval(x)\n",
    "y = input(\"y = \")\n",
    "y = eval(y)\n",
    "flag = x > y\n",
    "\n",
    "while x > 1 and y > 1:\n",
    "    if flag:\n",
    "        x -= y\n",
    "        print(x,y)\n",
    "    else:\n",
    "        y -= x\n",
    "        print(x,y)\n",
    "    flag = x > y"
   ]
  },
  {
   "cell_type": "markdown",
   "id": "755065e3",
   "metadata": {},
   "source": [
    "The following program judges whether the given year is a lunar year."
   ]
  },
  {
   "cell_type": "code",
   "execution_count": 14,
   "id": "28406011",
   "metadata": {},
   "outputs": [
    {
     "name": "stdout",
     "output_type": "stream",
     "text": [
      "Year: 2022\n",
      "NON-LUNAR!\n"
     ]
    }
   ],
   "source": [
    "year = eval(input(\"Year: \"))\n",
    "\n",
    "if (year % 4 == 0 and not(year % 100 == 0)) or (year % 400 == 0):\n",
    "    print(\"LUNAR!\")\n",
    "else:\n",
    "    print(\"NON-LUNAR!\")"
   ]
  },
  {
   "cell_type": "markdown",
   "id": "0ea40726",
   "metadata": {},
   "source": [
    "## Functions"
   ]
  },
  {
   "cell_type": "code",
   "execution_count": 15,
   "id": "def28d19",
   "metadata": {},
   "outputs": [
    {
     "name": "stdout",
     "output_type": "stream",
     "text": [
      "0.5\n"
     ]
    }
   ],
   "source": [
    "E = 2.718\n",
    "def sigmoid(x):\n",
    "    return(1/(1+E**x))\n",
    "\n",
    "print(sigmoid(0))"
   ]
  },
  {
   "cell_type": "markdown",
   "id": "6d0dca42",
   "metadata": {},
   "source": [
    "In Python, parameters can be changed order (compared to C++). See the following example:"
   ]
  },
  {
   "cell_type": "code",
   "execution_count": 16,
   "id": "7ed891a5",
   "metadata": {},
   "outputs": [
    {
     "name": "stdout",
     "output_type": "stream",
     "text": [
      "a = 2, b = 1\n",
      "a = 1, b = 2\n",
      "a = 3, b = 4\n"
     ]
    }
   ],
   "source": [
    "def swap(a, b):\n",
    "    print(\"a = %d, b = %d\" % (a, b))\n",
    "    a, b = b, a\n",
    "    print(\"a = %d, b = %d\" % (a, b))\n",
    "    return(True)\n",
    "\n",
    "a = 3\n",
    "b = 4\n",
    "swap(b = 1, a = 2) # Note that the order of parameters can be specified\n",
    "print(\"a = %d, b = %d\" % (a, b)) # Local variables does not upgrade to global space"
   ]
  },
  {
   "cell_type": "markdown",
   "id": "6f3da770",
   "metadata": {},
   "source": [
    "In the above example, the `%` mark is used when printing. The object that succeeds the mark is a **tuple**. A tuple can be of any length, and each element can be of any type. However, the type and value of a tuple is **constant** and unchangeable once a tuple is set."
   ]
  },
  {
   "cell_type": "code",
   "execution_count": 17,
   "id": "bb589472",
   "metadata": {},
   "outputs": [
    {
     "name": "stdout",
     "output_type": "stream",
     "text": [
      "Name: Kunologist\n",
      "Avatar: Goddess\n",
      "ID: 520030910154\n"
     ]
    }
   ],
   "source": [
    "myTuple = (\"Kunologist\", \"Goddess\", 520030910154)\n",
    "print(\"Name: %s\\nAvatar: %s\\nID: %d\" % myTuple)"
   ]
  },
  {
   "cell_type": "markdown",
   "id": "2cecc60f",
   "metadata": {},
   "source": [
    "If a function does not have any return values, the return value will be `None`."
   ]
  },
  {
   "cell_type": "code",
   "execution_count": 18,
   "id": "c1e56175",
   "metadata": {},
   "outputs": [
    {
     "name": "stdout",
     "output_type": "stream",
     "text": [
      "None equivalence reached\n",
      "<class 'NoneType'>\n"
     ]
    }
   ],
   "source": [
    "def NoneReturns(yet, none, returns):\n",
    "    pass\n",
    "    \n",
    "if None == NoneReturns(\"Yet\", \"None\", \"Returns\"):\n",
    "    print(\"None equivalence reached\")\n",
    "else:\n",
    "    print(\"Duh\")\n",
    "\n",
    "print(type(None))"
   ]
  },
  {
   "cell_type": "markdown",
   "id": "3c3d2cbf",
   "metadata": {},
   "source": [
    "We can also supply a default variable when declaring a function (used in case the variable is not supplied when called)."
   ]
  },
  {
   "cell_type": "code",
   "execution_count": 19,
   "id": "e2017e54",
   "metadata": {},
   "outputs": [
    {
     "name": "stdout",
     "output_type": "stream",
     "text": [
      "4\n",
      "3\n"
     ]
    }
   ],
   "source": [
    "def absoluteValue(x, addition = 0):\n",
    "    if x < 0:\n",
    "        return(-x + addition)\n",
    "    else:\n",
    "        return(x + addition)\n",
    "\n",
    "print(absoluteValue(-2, 2))\n",
    "print(absoluteValue(-3))"
   ]
  },
  {
   "cell_type": "markdown",
   "id": "e544d40e",
   "metadata": {},
   "source": [
    "Functions can also be a variable."
   ]
  },
  {
   "cell_type": "code",
   "execution_count": 20,
   "id": "fafd7736",
   "metadata": {},
   "outputs": [
    {
     "name": "stdout",
     "output_type": "stream",
     "text": [
      "3\n"
     ]
    }
   ],
   "source": [
    "absVal = absoluteValue\n",
    "print(absVal(-3))"
   ]
  },
  {
   "cell_type": "markdown",
   "id": "bc7fb197",
   "metadata": {},
   "source": [
    "## Strings, Arrays, Tuples, Sets and Dictionaries\n",
    "\n",
    "Arrays can be built using `list()` functions. Under certain cases, `list()` can be omitted.\n"
   ]
  },
  {
   "cell_type": "code",
   "execution_count": 102,
   "id": "10626676",
   "metadata": {},
   "outputs": [
    {
     "name": "stdout",
     "output_type": "stream",
     "text": [
      "[30, 31, 32, 30, 31, 32]\n",
      "Type: <class 'list'>\n",
      "Counting 30: 2\n",
      "(After doubling) Length: 12\n"
     ]
    }
   ],
   "source": [
    "myArray = list(range(30,33)) * 2\n",
    "print(myArray)\n",
    "print(\"Type:\", type(myArray))\n",
    "# Counting\n",
    "print(\"Counting 30:\",myArray.count(30))\n",
    "# Concat\n",
    "myArray = myArray + myArray # List + List concatentation\n",
    "print(\"(After doubling) Length:\",len(myArray))"
   ]
  },
  {
   "cell_type": "markdown",
   "id": "2ce41050",
   "metadata": {},
   "source": [
    "Strings are almost treated as an array of characters. Compare the following two snippets:"
   ]
  },
  {
   "cell_type": "code",
   "execution_count": 93,
   "id": "d9481e55",
   "metadata": {},
   "outputs": [
    {
     "name": "stdout",
     "output_type": "stream",
     "text": [
      "m\n",
      "NameNameNameName\n",
      "ameN\n",
      "True\n",
      "Length: 8\n"
     ]
    }
   ],
   "source": [
    "strName = \"Name\" * 2\n",
    "print(strName[2])\n",
    "print(strName + strName)\n",
    "print(strName[1:5]) # Prayers\n",
    "print('ame' in strName) # Performs string find\n",
    "print(\"Length:\", len(strName))"
   ]
  },
  {
   "cell_type": "code",
   "execution_count": 22,
   "id": "48b6b169",
   "metadata": {},
   "outputs": [
    {
     "name": "stdout",
     "output_type": "stream",
     "text": [
      "[4, 5, 4]\n"
     ]
    }
   ],
   "source": [
    "myList = [1, 2, 3, 4, 5, 4, 3, 2, 1]\n",
    "print(myList[3:6]) # [list[3], list[4], list[5]]"
   ]
  },
  {
   "cell_type": "markdown",
   "id": "306247ed",
   "metadata": {},
   "source": [
    "Dictionaries are implementations of hashmaps. See the following example:"
   ]
  },
  {
   "cell_type": "code",
   "execution_count": 74,
   "id": "4877a638",
   "metadata": {},
   "outputs": [
    {
     "name": "stdout",
     "output_type": "stream",
     "text": [
      "Type of price:  <class 'dict'>\n",
      "9\n",
      "Length: 4\n"
     ]
    }
   ],
   "source": [
    "price = {\n",
    "    \"apple\" : 4,\n",
    "    \"orange\" : 5,\n",
    "    \"banana\" : 2,\n",
    "    \"kiwi\" : 9\n",
    "}\n",
    "print(\"Type of price: \", type(price))\n",
    "print(price[\"kiwi\"])\n",
    "print(\"Length:\", len(price)) # WHAT? EVEN HASHMAPS HAVE LENGTH?"
   ]
  },
  {
   "cell_type": "markdown",
   "id": "902c86f0",
   "metadata": {},
   "source": [
    "The key of a dictionary must be an **immutable** type. This includes tuples, strings, numbers, types, but **doesn't include arrays or dictionaries**. The values, however, can be of any type.\n",
    "\n",
    "The following snippet displays some operations against a dictionary."
   ]
  },
  {
   "cell_type": "code",
   "execution_count": 150,
   "id": "1f37c817",
   "metadata": {},
   "outputs": [
    {
     "ename": "SyntaxError",
     "evalue": "cannot delete literal (<ipython-input-150-46c9c58ac6e7>, line 18)",
     "output_type": "error",
     "traceback": [
      "\u001b[0;36m  File \u001b[0;32m\"<ipython-input-150-46c9c58ac6e7>\"\u001b[0;36m, line \u001b[0;32m18\u001b[0m\n\u001b[0;31m    del(4) # ?\u001b[0m\n\u001b[0m       ^\u001b[0m\n\u001b[0;31mSyntaxError\u001b[0m\u001b[0;31m:\u001b[0m cannot delete literal\n"
     ]
    }
   ],
   "source": [
    "print(\"Use in to detect the element:\")\n",
    "print(\"lizard\" in price)\n",
    "print(\"apple\" in price)\n",
    "# We can use short-circuit expression to avoid calling non-existent keys:\n",
    "print(\"lizard\" in price and price['lizard'])\n",
    "\n",
    "print(\"\\nItems iteration:\")\n",
    "print(\"Type of price.items(): \", type(price.items()))\n",
    "# price.items returns a dict_items\n",
    "# Each element in dict_items is a tuple and can be iterated:\n",
    "for i in price.items():\n",
    "    print(\"Item: %s\\tPrice: %d\" % i)\n",
    "\n",
    "print(\"\\nKeys and Values Iterator:\")\n",
    "print(price.keys())\n",
    "print(price.values())\n",
    "\n",
    "del(price[\"apple\"]) # ?\n",
    "\n",
    "for i in price.keys():\n",
    "    print(\"Item:\", i)"
   ]
  },
  {
   "cell_type": "markdown",
   "id": "8de6a528",
   "metadata": {},
   "source": [
    "A tuple is also used when returning multiple values in a function.\n",
    "\n",
    "Multiple variables can be assigned with a single tuple. Se"
   ]
  },
  {
   "cell_type": "code",
   "execution_count": 104,
   "id": "d5eba862",
   "metadata": {},
   "outputs": [
    {
     "name": "stdout",
     "output_type": "stream",
     "text": [
      "21 string type\n",
      "['Table', 2] 5\n"
     ]
    }
   ],
   "source": [
    "a, b, myTuple = (\n",
    "    21,\n",
    "    \"string type\",\n",
    "    ([\"Table\", 2], 5) # tuple\n",
    ") # tuple\n",
    "\n",
    "print(a, b)\n",
    "nestedTuple1, nestedTuple2 = myTuple\n",
    "print(nestedTuple1, nestedTuple2)"
   ]
  },
  {
   "cell_type": "code",
   "execution_count": 119,
   "id": "c4bcb3a5",
   "metadata": {},
   "outputs": [
    {
     "name": "stdout",
     "output_type": "stream",
     "text": [
      "(1, 2, 3, 4, 5, 6, 7, 8, 9, 10)\n"
     ]
    }
   ],
   "source": [
    "a = tuple(range(1, 11))\n",
    "print(a)"
   ]
  },
  {
   "cell_type": "markdown",
   "id": "c0b55eed",
   "metadata": {},
   "source": [
    "Finally, sets are non-ordered lists and satisfy concepts what we usually call a \"set\"."
   ]
  },
  {
   "cell_type": "code",
   "execution_count": 148,
   "id": "1cc43127",
   "metadata": {},
   "outputs": [
    {
     "name": "stdout",
     "output_type": "stream",
     "text": [
      "{0, 1, 2, 3, 4, 5, 6, 7, 8, 9} {5, 6, 7, 8, 9, 10, 11, 12, 13, 14}\n",
      "Unioned: {0, 1, 2, 3, 4, 5, 6, 7, 8, 9, 10, 11, 12, 13, 14}\n",
      "Appended: {0, 1, 2, 3, 4, 5, 6, 7, 8, 9, 10, 11, 12, 13, 14, 100}\n",
      "Removed: {0, 1, 2, 3, 4, 5, 6, 7, 8, 9, 10, 11, 12, 13, 14}\n",
      "Popped (random):  {1, 2, 3, 4, 5, 6, 7, 8, 9, 10, 11, 12, 13, 14}\n",
      "\n",
      "Other utilities:\n",
      "True\n",
      "True\n",
      "{1, 2, 3, 4}\n"
     ]
    }
   ],
   "source": [
    "set_1 = set(range(0, 10))\n",
    "set_2 = set(range(5, 15))\n",
    "print(set_1, set_2)\n",
    "set_1 = set_1.union(set_2)\n",
    "print(\"Unioned:\", set_1)\n",
    "set_1.add(100)\n",
    "print(\"Appended:\", set_1)\n",
    "set_1.remove(100)\n",
    "print(\"Removed:\", set_1)\n",
    "# Using remove will raise an error when the element does not exist in set.\n",
    "# Compared to discard, where the error will be suppressed.\n",
    "set_1.pop()\n",
    "print(\"Popped (random): \", set_1)\n",
    "\n",
    "print(\"\\nOther utilities:\")\n",
    "print(9 in set_1)\n",
    "print(set_2 <= set_1)\n",
    "print(set_1 - set_2) # Alias of set_1.difference(set_2)"
   ]
  },
  {
   "cell_type": "markdown",
   "id": "ffca6e1e",
   "metadata": {},
   "source": [
    "## Lambda Functions\n",
    "\n",
    "A shorthand for writing functions."
   ]
  },
  {
   "cell_type": "code",
   "execution_count": 57,
   "id": "4fec77f7",
   "metadata": {},
   "outputs": [
    {
     "name": "stdout",
     "output_type": "stream",
     "text": [
      "5\n"
     ]
    }
   ],
   "source": [
    "add = lambda arg1, arg2: arg1 + arg2\n",
    "print(add(2, 3))"
   ]
  },
  {
   "cell_type": "markdown",
   "id": "006f5269",
   "metadata": {},
   "source": [
    "## Modules\n",
    "\n",
    "In Python, a file is a module.\n",
    "\n",
    "Under `/workspace`, there are `main.py` and `kun.py`. We can use the following code to call `kun.py` from `main.py`:"
   ]
  },
  {
   "cell_type": "code",
   "execution_count": 152,
   "id": "1b7418d6",
   "metadata": {},
   "outputs": [
    {
     "name": "stdout",
     "output_type": "stream",
     "text": [
      "(4, 3)\n"
     ]
    }
   ],
   "source": [
    "import kun\n",
    "print(kun.rev(3, 4))"
   ]
  },
  {
   "cell_type": "markdown",
   "id": "c88c9876",
   "metadata": {},
   "source": [
    "## Iterators\n",
    "\n",
    "In order to use a class as an iterable object, we need to provide `__iter__` and `__next__` functions for the class."
   ]
  }
 ],
 "metadata": {
  "kernelspec": {
   "display_name": "Python 3",
   "language": "python",
   "name": "python3"
  },
  "language_info": {
   "codemirror_mode": {
    "name": "ipython",
    "version": 3
   },
   "file_extension": ".py",
   "mimetype": "text/x-python",
   "name": "python",
   "nbconvert_exporter": "python",
   "pygments_lexer": "ipython3",
   "version": "3.8.3"
  }
 },
 "nbformat": 4,
 "nbformat_minor": 5
}
